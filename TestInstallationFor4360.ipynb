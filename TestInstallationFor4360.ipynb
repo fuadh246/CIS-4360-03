{
 "cells": [
  {
   "cell_type": "markdown",
   "id": "a02a7794",
   "metadata": {},
   "source": [
    "# Checking Your Jupyter Notebook Environment"
   ]
  },
  {
   "cell_type": "code",
   "execution_count": 28,
   "id": "61022c0e",
   "metadata": {},
   "outputs": [],
   "source": [
    "import warnings\n",
    "warnings.filterwarnings('ignore')"
   ]
  },
  {
   "cell_type": "code",
   "execution_count": 29,
   "id": "b7ae1bd1",
   "metadata": {},
   "outputs": [],
   "source": [
    "import sys\n",
    "import os\n",
    "import platform \n",
    "import pandas as pd\n",
    "import numpy as np\n",
    "import matplotlib.pyplot as plt\n",
    "import seaborn as sns"
   ]
  },
  {
   "cell_type": "code",
   "execution_count": 30,
   "id": "3ecf8615",
   "metadata": {},
   "outputs": [],
   "source": [
    "# run the following if it is the first time\n",
    "try:\n",
    "    import plotly\n",
    "except:\n",
    "    os.system(\"pip install plotly\")"
   ]
  },
  {
   "cell_type": "code",
   "execution_count": 31,
   "id": "c51f3319",
   "metadata": {},
   "outputs": [],
   "source": [
    "# run the following if it is the first time\n",
    "try:\n",
    "    import dash\n",
    "except:\n",
    "    os.system(\"pip install dash --user\")"
   ]
  },
  {
   "cell_type": "code",
   "execution_count": 32,
   "id": "aa08d6e6",
   "metadata": {},
   "outputs": [],
   "source": [
    "try:\n",
    "    import yfinance\n",
    "except:\n",
    "    os.system(\"pip install yfinance\")"
   ]
  },
  {
   "cell_type": "code",
   "execution_count": 33,
   "id": "06516d97",
   "metadata": {},
   "outputs": [],
   "source": [
    "try:\n",
    "    import yahoofinancials\n",
    "except:\n",
    "    os.system(\"pip install yahoofinancials\")"
   ]
  },
  {
   "cell_type": "code",
   "execution_count": 34,
   "id": "4b71853b",
   "metadata": {},
   "outputs": [],
   "source": [
    "import plotly\n",
    "import dash\n",
    "import yfinance\n",
    "import yahoofinancials"
   ]
  },
  {
   "cell_type": "code",
   "execution_count": 35,
   "id": "33aaeef3",
   "metadata": {},
   "outputs": [
    {
     "name": "stdout",
     "output_type": "stream",
     "text": [
      "/Users/fuadhassan/Desktop/Labs/venv/bin/python\n",
      "3.10.13\n",
      "2.2.2\n",
      "2.1.0\n",
      "5.24.0\n",
      "2.17.1\n",
      "0.2.43\n"
     ]
    }
   ],
   "source": [
    "print(sys.executable)\n",
    "print(platform.python_version())\n",
    "print(pd.__version__)\n",
    "print(np.__version__)\n",
    "print(plotly.__version__)\n",
    "print(dash.__version__)\n",
    "print(yfinance.__version__)"
   ]
  },
  {
   "cell_type": "markdown",
   "id": "6d1107ec",
   "metadata": {},
   "source": [
    "# check datasets available"
   ]
  },
  {
   "cell_type": "code",
   "execution_count": 36,
   "id": "f686ed02",
   "metadata": {},
   "outputs": [
    {
     "data": {
      "text/plain": [
       "['anagrams',\n",
       " 'anscombe',\n",
       " 'attention',\n",
       " 'brain_networks',\n",
       " 'car_crashes',\n",
       " 'diamonds',\n",
       " 'dots',\n",
       " 'dowjones',\n",
       " 'exercise',\n",
       " 'flights',\n",
       " 'fmri',\n",
       " 'geyser',\n",
       " 'glue',\n",
       " 'healthexp',\n",
       " 'iris',\n",
       " 'mpg',\n",
       " 'penguins',\n",
       " 'planets',\n",
       " 'seaice',\n",
       " 'taxis',\n",
       " 'tips',\n",
       " 'titanic']"
      ]
     },
     "execution_count": 36,
     "metadata": {},
     "output_type": "execute_result"
    }
   ],
   "source": [
    "# Common datasets from seaborn\n",
    "sns.get_dataset_names()"
   ]
  },
  {
   "cell_type": "markdown",
   "id": "d0cbb7c3",
   "metadata": {},
   "source": [
    "**Iris Dataset is the \"Hello World\" dataset in Machine Learning**"
   ]
  },
  {
   "cell_type": "code",
   "execution_count": 37,
   "id": "ae3c5aff",
   "metadata": {},
   "outputs": [
    {
     "data": {
      "text/html": [
       "<div>\n",
       "<style scoped>\n",
       "    .dataframe tbody tr th:only-of-type {\n",
       "        vertical-align: middle;\n",
       "    }\n",
       "\n",
       "    .dataframe tbody tr th {\n",
       "        vertical-align: top;\n",
       "    }\n",
       "\n",
       "    .dataframe thead th {\n",
       "        text-align: right;\n",
       "    }\n",
       "</style>\n",
       "<table border=\"1\" class=\"dataframe\">\n",
       "  <thead>\n",
       "    <tr style=\"text-align: right;\">\n",
       "      <th></th>\n",
       "      <th>sepal_length</th>\n",
       "      <th>sepal_width</th>\n",
       "      <th>petal_length</th>\n",
       "      <th>petal_width</th>\n",
       "      <th>species</th>\n",
       "    </tr>\n",
       "  </thead>\n",
       "  <tbody>\n",
       "    <tr>\n",
       "      <th>0</th>\n",
       "      <td>5.1</td>\n",
       "      <td>3.5</td>\n",
       "      <td>1.4</td>\n",
       "      <td>0.2</td>\n",
       "      <td>setosa</td>\n",
       "    </tr>\n",
       "    <tr>\n",
       "      <th>1</th>\n",
       "      <td>4.9</td>\n",
       "      <td>3.0</td>\n",
       "      <td>1.4</td>\n",
       "      <td>0.2</td>\n",
       "      <td>setosa</td>\n",
       "    </tr>\n",
       "    <tr>\n",
       "      <th>2</th>\n",
       "      <td>4.7</td>\n",
       "      <td>3.2</td>\n",
       "      <td>1.3</td>\n",
       "      <td>0.2</td>\n",
       "      <td>setosa</td>\n",
       "    </tr>\n",
       "    <tr>\n",
       "      <th>3</th>\n",
       "      <td>4.6</td>\n",
       "      <td>3.1</td>\n",
       "      <td>1.5</td>\n",
       "      <td>0.2</td>\n",
       "      <td>setosa</td>\n",
       "    </tr>\n",
       "    <tr>\n",
       "      <th>4</th>\n",
       "      <td>5.0</td>\n",
       "      <td>3.6</td>\n",
       "      <td>1.4</td>\n",
       "      <td>0.2</td>\n",
       "      <td>setosa</td>\n",
       "    </tr>\n",
       "  </tbody>\n",
       "</table>\n",
       "</div>"
      ],
      "text/plain": [
       "   sepal_length  sepal_width  petal_length  petal_width species\n",
       "0           5.1          3.5           1.4          0.2  setosa\n",
       "1           4.9          3.0           1.4          0.2  setosa\n",
       "2           4.7          3.2           1.3          0.2  setosa\n",
       "3           4.6          3.1           1.5          0.2  setosa\n",
       "4           5.0          3.6           1.4          0.2  setosa"
      ]
     },
     "execution_count": 37,
     "metadata": {},
     "output_type": "execute_result"
    }
   ],
   "source": [
    "iris = sns.load_dataset('iris')\n",
    "iris.head()"
   ]
  },
  {
   "cell_type": "code",
   "execution_count": 38,
   "id": "4d1432d3",
   "metadata": {},
   "outputs": [
    {
     "data": {
      "text/html": [
       "<div>\n",
       "<style scoped>\n",
       "    .dataframe tbody tr th:only-of-type {\n",
       "        vertical-align: middle;\n",
       "    }\n",
       "\n",
       "    .dataframe tbody tr th {\n",
       "        vertical-align: top;\n",
       "    }\n",
       "\n",
       "    .dataframe thead th {\n",
       "        text-align: right;\n",
       "    }\n",
       "</style>\n",
       "<table border=\"1\" class=\"dataframe\">\n",
       "  <thead>\n",
       "    <tr style=\"text-align: right;\">\n",
       "      <th></th>\n",
       "      <th>sepal_length</th>\n",
       "      <th>sepal_width</th>\n",
       "      <th>petal_length</th>\n",
       "      <th>petal_width</th>\n",
       "      <th>species</th>\n",
       "    </tr>\n",
       "  </thead>\n",
       "  <tbody>\n",
       "    <tr>\n",
       "      <th>145</th>\n",
       "      <td>6.7</td>\n",
       "      <td>3.0</td>\n",
       "      <td>5.2</td>\n",
       "      <td>2.3</td>\n",
       "      <td>virginica</td>\n",
       "    </tr>\n",
       "    <tr>\n",
       "      <th>146</th>\n",
       "      <td>6.3</td>\n",
       "      <td>2.5</td>\n",
       "      <td>5.0</td>\n",
       "      <td>1.9</td>\n",
       "      <td>virginica</td>\n",
       "    </tr>\n",
       "    <tr>\n",
       "      <th>147</th>\n",
       "      <td>6.5</td>\n",
       "      <td>3.0</td>\n",
       "      <td>5.2</td>\n",
       "      <td>2.0</td>\n",
       "      <td>virginica</td>\n",
       "    </tr>\n",
       "    <tr>\n",
       "      <th>148</th>\n",
       "      <td>6.2</td>\n",
       "      <td>3.4</td>\n",
       "      <td>5.4</td>\n",
       "      <td>2.3</td>\n",
       "      <td>virginica</td>\n",
       "    </tr>\n",
       "    <tr>\n",
       "      <th>149</th>\n",
       "      <td>5.9</td>\n",
       "      <td>3.0</td>\n",
       "      <td>5.1</td>\n",
       "      <td>1.8</td>\n",
       "      <td>virginica</td>\n",
       "    </tr>\n",
       "  </tbody>\n",
       "</table>\n",
       "</div>"
      ],
      "text/plain": [
       "     sepal_length  sepal_width  petal_length  petal_width    species\n",
       "145           6.7          3.0           5.2          2.3  virginica\n",
       "146           6.3          2.5           5.0          1.9  virginica\n",
       "147           6.5          3.0           5.2          2.0  virginica\n",
       "148           6.2          3.4           5.4          2.3  virginica\n",
       "149           5.9          3.0           5.1          1.8  virginica"
      ]
     },
     "execution_count": 38,
     "metadata": {},
     "output_type": "execute_result"
    }
   ],
   "source": [
    "iris.tail()"
   ]
  },
  {
   "cell_type": "code",
   "execution_count": 39,
   "id": "1a64fc31",
   "metadata": {},
   "outputs": [
    {
     "data": {
      "text/plain": [
       "Index(['sepal_length', 'sepal_width', 'petal_length', 'petal_width',\n",
       "       'species'],\n",
       "      dtype='object')"
      ]
     },
     "execution_count": 39,
     "metadata": {},
     "output_type": "execute_result"
    }
   ],
   "source": [
    "iris.shape\n",
    "iris.columns"
   ]
  },
  {
   "cell_type": "code",
   "execution_count": 40,
   "id": "ebee9919",
   "metadata": {},
   "outputs": [
    {
     "data": {
      "text/html": [
       "<div>\n",
       "<style scoped>\n",
       "    .dataframe tbody tr th:only-of-type {\n",
       "        vertical-align: middle;\n",
       "    }\n",
       "\n",
       "    .dataframe tbody tr th {\n",
       "        vertical-align: top;\n",
       "    }\n",
       "\n",
       "    .dataframe thead th {\n",
       "        text-align: right;\n",
       "    }\n",
       "</style>\n",
       "<table border=\"1\" class=\"dataframe\">\n",
       "  <thead>\n",
       "    <tr style=\"text-align: right;\">\n",
       "      <th></th>\n",
       "      <th>sepal_length</th>\n",
       "      <th>sepal_width</th>\n",
       "      <th>petal_length</th>\n",
       "      <th>petal_width</th>\n",
       "    </tr>\n",
       "  </thead>\n",
       "  <tbody>\n",
       "    <tr>\n",
       "      <th>count</th>\n",
       "      <td>150.000000</td>\n",
       "      <td>150.000000</td>\n",
       "      <td>150.000000</td>\n",
       "      <td>150.000000</td>\n",
       "    </tr>\n",
       "    <tr>\n",
       "      <th>mean</th>\n",
       "      <td>5.843333</td>\n",
       "      <td>3.057333</td>\n",
       "      <td>3.758000</td>\n",
       "      <td>1.199333</td>\n",
       "    </tr>\n",
       "    <tr>\n",
       "      <th>std</th>\n",
       "      <td>0.828066</td>\n",
       "      <td>0.435866</td>\n",
       "      <td>1.765298</td>\n",
       "      <td>0.762238</td>\n",
       "    </tr>\n",
       "    <tr>\n",
       "      <th>min</th>\n",
       "      <td>4.300000</td>\n",
       "      <td>2.000000</td>\n",
       "      <td>1.000000</td>\n",
       "      <td>0.100000</td>\n",
       "    </tr>\n",
       "    <tr>\n",
       "      <th>25%</th>\n",
       "      <td>5.100000</td>\n",
       "      <td>2.800000</td>\n",
       "      <td>1.600000</td>\n",
       "      <td>0.300000</td>\n",
       "    </tr>\n",
       "    <tr>\n",
       "      <th>50%</th>\n",
       "      <td>5.800000</td>\n",
       "      <td>3.000000</td>\n",
       "      <td>4.350000</td>\n",
       "      <td>1.300000</td>\n",
       "    </tr>\n",
       "    <tr>\n",
       "      <th>75%</th>\n",
       "      <td>6.400000</td>\n",
       "      <td>3.300000</td>\n",
       "      <td>5.100000</td>\n",
       "      <td>1.800000</td>\n",
       "    </tr>\n",
       "    <tr>\n",
       "      <th>max</th>\n",
       "      <td>7.900000</td>\n",
       "      <td>4.400000</td>\n",
       "      <td>6.900000</td>\n",
       "      <td>2.500000</td>\n",
       "    </tr>\n",
       "  </tbody>\n",
       "</table>\n",
       "</div>"
      ],
      "text/plain": [
       "       sepal_length  sepal_width  petal_length  petal_width\n",
       "count    150.000000   150.000000    150.000000   150.000000\n",
       "mean       5.843333     3.057333      3.758000     1.199333\n",
       "std        0.828066     0.435866      1.765298     0.762238\n",
       "min        4.300000     2.000000      1.000000     0.100000\n",
       "25%        5.100000     2.800000      1.600000     0.300000\n",
       "50%        5.800000     3.000000      4.350000     1.300000\n",
       "75%        6.400000     3.300000      5.100000     1.800000\n",
       "max        7.900000     4.400000      6.900000     2.500000"
      ]
     },
     "execution_count": 40,
     "metadata": {},
     "output_type": "execute_result"
    }
   ],
   "source": [
    "iris.describe()"
   ]
  },
  {
   "cell_type": "code",
   "execution_count": 41,
   "id": "709bb899",
   "metadata": {},
   "outputs": [
    {
     "data": {
      "text/html": [
       "<div>\n",
       "<style scoped>\n",
       "    .dataframe tbody tr th:only-of-type {\n",
       "        vertical-align: middle;\n",
       "    }\n",
       "\n",
       "    .dataframe tbody tr th {\n",
       "        vertical-align: top;\n",
       "    }\n",
       "\n",
       "    .dataframe thead th {\n",
       "        text-align: right;\n",
       "    }\n",
       "</style>\n",
       "<table border=\"1\" class=\"dataframe\">\n",
       "  <thead>\n",
       "    <tr style=\"text-align: right;\">\n",
       "      <th></th>\n",
       "      <th>survived</th>\n",
       "      <th>pclass</th>\n",
       "      <th>sex</th>\n",
       "      <th>age</th>\n",
       "      <th>sibsp</th>\n",
       "      <th>parch</th>\n",
       "      <th>fare</th>\n",
       "      <th>embarked</th>\n",
       "      <th>class</th>\n",
       "      <th>who</th>\n",
       "      <th>adult_male</th>\n",
       "      <th>deck</th>\n",
       "      <th>embark_town</th>\n",
       "      <th>alive</th>\n",
       "      <th>alone</th>\n",
       "    </tr>\n",
       "  </thead>\n",
       "  <tbody>\n",
       "    <tr>\n",
       "      <th>0</th>\n",
       "      <td>0</td>\n",
       "      <td>3</td>\n",
       "      <td>male</td>\n",
       "      <td>22.0</td>\n",
       "      <td>1</td>\n",
       "      <td>0</td>\n",
       "      <td>7.2500</td>\n",
       "      <td>S</td>\n",
       "      <td>Third</td>\n",
       "      <td>man</td>\n",
       "      <td>True</td>\n",
       "      <td>NaN</td>\n",
       "      <td>Southampton</td>\n",
       "      <td>no</td>\n",
       "      <td>False</td>\n",
       "    </tr>\n",
       "    <tr>\n",
       "      <th>1</th>\n",
       "      <td>1</td>\n",
       "      <td>1</td>\n",
       "      <td>female</td>\n",
       "      <td>38.0</td>\n",
       "      <td>1</td>\n",
       "      <td>0</td>\n",
       "      <td>71.2833</td>\n",
       "      <td>C</td>\n",
       "      <td>First</td>\n",
       "      <td>woman</td>\n",
       "      <td>False</td>\n",
       "      <td>C</td>\n",
       "      <td>Cherbourg</td>\n",
       "      <td>yes</td>\n",
       "      <td>False</td>\n",
       "    </tr>\n",
       "    <tr>\n",
       "      <th>2</th>\n",
       "      <td>1</td>\n",
       "      <td>3</td>\n",
       "      <td>female</td>\n",
       "      <td>26.0</td>\n",
       "      <td>0</td>\n",
       "      <td>0</td>\n",
       "      <td>7.9250</td>\n",
       "      <td>S</td>\n",
       "      <td>Third</td>\n",
       "      <td>woman</td>\n",
       "      <td>False</td>\n",
       "      <td>NaN</td>\n",
       "      <td>Southampton</td>\n",
       "      <td>yes</td>\n",
       "      <td>True</td>\n",
       "    </tr>\n",
       "    <tr>\n",
       "      <th>3</th>\n",
       "      <td>1</td>\n",
       "      <td>1</td>\n",
       "      <td>female</td>\n",
       "      <td>35.0</td>\n",
       "      <td>1</td>\n",
       "      <td>0</td>\n",
       "      <td>53.1000</td>\n",
       "      <td>S</td>\n",
       "      <td>First</td>\n",
       "      <td>woman</td>\n",
       "      <td>False</td>\n",
       "      <td>C</td>\n",
       "      <td>Southampton</td>\n",
       "      <td>yes</td>\n",
       "      <td>False</td>\n",
       "    </tr>\n",
       "    <tr>\n",
       "      <th>4</th>\n",
       "      <td>0</td>\n",
       "      <td>3</td>\n",
       "      <td>male</td>\n",
       "      <td>35.0</td>\n",
       "      <td>0</td>\n",
       "      <td>0</td>\n",
       "      <td>8.0500</td>\n",
       "      <td>S</td>\n",
       "      <td>Third</td>\n",
       "      <td>man</td>\n",
       "      <td>True</td>\n",
       "      <td>NaN</td>\n",
       "      <td>Southampton</td>\n",
       "      <td>no</td>\n",
       "      <td>True</td>\n",
       "    </tr>\n",
       "  </tbody>\n",
       "</table>\n",
       "</div>"
      ],
      "text/plain": [
       "   survived  pclass     sex   age  sibsp  parch     fare embarked  class  \\\n",
       "0         0       3    male  22.0      1      0   7.2500        S  Third   \n",
       "1         1       1  female  38.0      1      0  71.2833        C  First   \n",
       "2         1       3  female  26.0      0      0   7.9250        S  Third   \n",
       "3         1       1  female  35.0      1      0  53.1000        S  First   \n",
       "4         0       3    male  35.0      0      0   8.0500        S  Third   \n",
       "\n",
       "     who  adult_male deck  embark_town alive  alone  \n",
       "0    man        True  NaN  Southampton    no  False  \n",
       "1  woman       False    C    Cherbourg   yes  False  \n",
       "2  woman       False  NaN  Southampton   yes   True  \n",
       "3  woman       False    C  Southampton   yes  False  \n",
       "4    man        True  NaN  Southampton    no   True  "
      ]
     },
     "execution_count": 41,
     "metadata": {},
     "output_type": "execute_result"
    }
   ],
   "source": [
    "titanic = sns.load_dataset('titanic')\n",
    "titanic.head()"
   ]
  },
  {
   "cell_type": "markdown",
   "id": "2f436df7",
   "metadata": {},
   "source": [
    "### Testing yfinance\n"
   ]
  },
  {
   "cell_type": "code",
   "execution_count": 42,
   "id": "194142f4",
   "metadata": {},
   "outputs": [],
   "source": [
    "import yfinance as yf\n",
    "import option\n",
    "import utils"
   ]
  },
  {
   "cell_type": "code",
   "execution_count": 43,
   "id": "d9863209",
   "metadata": {},
   "outputs": [],
   "source": [
    "ticker = 'MSFT'\n",
    "stock = yf.Ticker(ticker)"
   ]
  },
  {
   "cell_type": "code",
   "execution_count": 44,
   "id": "741889f1",
   "metadata": {},
   "outputs": [
    {
     "data": {
      "text/html": [
       "<div>\n",
       "<style scoped>\n",
       "    .dataframe tbody tr th:only-of-type {\n",
       "        vertical-align: middle;\n",
       "    }\n",
       "\n",
       "    .dataframe tbody tr th {\n",
       "        vertical-align: top;\n",
       "    }\n",
       "\n",
       "    .dataframe thead th {\n",
       "        text-align: right;\n",
       "    }\n",
       "</style>\n",
       "<table border=\"1\" class=\"dataframe\">\n",
       "  <thead>\n",
       "    <tr style=\"text-align: right;\">\n",
       "      <th></th>\n",
       "      <th>Open</th>\n",
       "      <th>High</th>\n",
       "      <th>Low</th>\n",
       "      <th>Close</th>\n",
       "      <th>Volume</th>\n",
       "      <th>Dividends</th>\n",
       "      <th>Stock Splits</th>\n",
       "    </tr>\n",
       "    <tr>\n",
       "      <th>Date</th>\n",
       "      <th></th>\n",
       "      <th></th>\n",
       "      <th></th>\n",
       "      <th></th>\n",
       "      <th></th>\n",
       "      <th></th>\n",
       "      <th></th>\n",
       "    </tr>\n",
       "  </thead>\n",
       "  <tbody>\n",
       "    <tr>\n",
       "      <th>2003-01-02 00:00:00-05:00</th>\n",
       "      <td>16.123932</td>\n",
       "      <td>16.570963</td>\n",
       "      <td>15.942037</td>\n",
       "      <td>16.561714</td>\n",
       "      <td>67025200</td>\n",
       "      <td>0.0</td>\n",
       "      <td>0.0</td>\n",
       "    </tr>\n",
       "    <tr>\n",
       "      <th>2003-01-03 00:00:00-05:00</th>\n",
       "      <td>16.521644</td>\n",
       "      <td>16.586386</td>\n",
       "      <td>16.302753</td>\n",
       "      <td>16.583303</td>\n",
       "      <td>55546800</td>\n",
       "      <td>0.0</td>\n",
       "      <td>0.0</td>\n",
       "    </tr>\n",
       "    <tr>\n",
       "      <th>2003-01-06 00:00:00-05:00</th>\n",
       "      <td>16.654201</td>\n",
       "      <td>17.027240</td>\n",
       "      <td>16.586375</td>\n",
       "      <td>16.885424</td>\n",
       "      <td>59456200</td>\n",
       "      <td>0.0</td>\n",
       "      <td>0.0</td>\n",
       "    </tr>\n",
       "    <tr>\n",
       "      <th>2003-01-07 00:00:00-05:00</th>\n",
       "      <td>16.931665</td>\n",
       "      <td>17.267709</td>\n",
       "      <td>16.857674</td>\n",
       "      <td>17.202967</td>\n",
       "      <td>80517400</td>\n",
       "      <td>0.0</td>\n",
       "      <td>0.0</td>\n",
       "    </tr>\n",
       "    <tr>\n",
       "      <th>2003-01-08 00:00:00-05:00</th>\n",
       "      <td>17.070403</td>\n",
       "      <td>17.125897</td>\n",
       "      <td>16.681950</td>\n",
       "      <td>16.722029</td>\n",
       "      <td>64566000</td>\n",
       "      <td>0.0</td>\n",
       "      <td>0.0</td>\n",
       "    </tr>\n",
       "    <tr>\n",
       "      <th>...</th>\n",
       "      <td>...</td>\n",
       "      <td>...</td>\n",
       "      <td>...</td>\n",
       "      <td>...</td>\n",
       "      <td>...</td>\n",
       "      <td>...</td>\n",
       "      <td>...</td>\n",
       "    </tr>\n",
       "    <tr>\n",
       "      <th>2023-07-25 00:00:00-04:00</th>\n",
       "      <td>343.796103</td>\n",
       "      <td>348.530497</td>\n",
       "      <td>341.775600</td>\n",
       "      <td>347.629181</td>\n",
       "      <td>41637700</td>\n",
       "      <td>0.0</td>\n",
       "      <td>0.0</td>\n",
       "    </tr>\n",
       "    <tr>\n",
       "      <th>2023-07-26 00:00:00-04:00</th>\n",
       "      <td>338.180233</td>\n",
       "      <td>341.379407</td>\n",
       "      <td>329.929744</td>\n",
       "      <td>334.545258</td>\n",
       "      <td>58383700</td>\n",
       "      <td>0.0</td>\n",
       "      <td>0.0</td>\n",
       "    </tr>\n",
       "    <tr>\n",
       "      <th>2023-07-27 00:00:00-04:00</th>\n",
       "      <td>337.229390</td>\n",
       "      <td>338.071251</td>\n",
       "      <td>325.908492</td>\n",
       "      <td>327.562561</td>\n",
       "      <td>39635300</td>\n",
       "      <td>0.0</td>\n",
       "      <td>0.0</td>\n",
       "    </tr>\n",
       "    <tr>\n",
       "      <th>2023-07-28 00:00:00-04:00</th>\n",
       "      <td>330.484416</td>\n",
       "      <td>336.763884</td>\n",
       "      <td>329.989190</td>\n",
       "      <td>335.139526</td>\n",
       "      <td>28484900</td>\n",
       "      <td>0.0</td>\n",
       "      <td>0.0</td>\n",
       "    </tr>\n",
       "    <tr>\n",
       "      <th>2023-07-31 00:00:00-04:00</th>\n",
       "      <td>333.703405</td>\n",
       "      <td>334.475957</td>\n",
       "      <td>330.177364</td>\n",
       "      <td>332.712952</td>\n",
       "      <td>25446000</td>\n",
       "      <td>0.0</td>\n",
       "      <td>0.0</td>\n",
       "    </tr>\n",
       "  </tbody>\n",
       "</table>\n",
       "<p>5179 rows × 7 columns</p>\n",
       "</div>"
      ],
      "text/plain": [
       "                                 Open        High         Low       Close  \\\n",
       "Date                                                                        \n",
       "2003-01-02 00:00:00-05:00   16.123932   16.570963   15.942037   16.561714   \n",
       "2003-01-03 00:00:00-05:00   16.521644   16.586386   16.302753   16.583303   \n",
       "2003-01-06 00:00:00-05:00   16.654201   17.027240   16.586375   16.885424   \n",
       "2003-01-07 00:00:00-05:00   16.931665   17.267709   16.857674   17.202967   \n",
       "2003-01-08 00:00:00-05:00   17.070403   17.125897   16.681950   16.722029   \n",
       "...                               ...         ...         ...         ...   \n",
       "2023-07-25 00:00:00-04:00  343.796103  348.530497  341.775600  347.629181   \n",
       "2023-07-26 00:00:00-04:00  338.180233  341.379407  329.929744  334.545258   \n",
       "2023-07-27 00:00:00-04:00  337.229390  338.071251  325.908492  327.562561   \n",
       "2023-07-28 00:00:00-04:00  330.484416  336.763884  329.989190  335.139526   \n",
       "2023-07-31 00:00:00-04:00  333.703405  334.475957  330.177364  332.712952   \n",
       "\n",
       "                             Volume  Dividends  Stock Splits  \n",
       "Date                                                          \n",
       "2003-01-02 00:00:00-05:00  67025200        0.0           0.0  \n",
       "2003-01-03 00:00:00-05:00  55546800        0.0           0.0  \n",
       "2003-01-06 00:00:00-05:00  59456200        0.0           0.0  \n",
       "2003-01-07 00:00:00-05:00  80517400        0.0           0.0  \n",
       "2003-01-08 00:00:00-05:00  64566000        0.0           0.0  \n",
       "...                             ...        ...           ...  \n",
       "2023-07-25 00:00:00-04:00  41637700        0.0           0.0  \n",
       "2023-07-26 00:00:00-04:00  58383700        0.0           0.0  \n",
       "2023-07-27 00:00:00-04:00  39635300        0.0           0.0  \n",
       "2023-07-28 00:00:00-04:00  28484900        0.0           0.0  \n",
       "2023-07-31 00:00:00-04:00  25446000        0.0           0.0  \n",
       "\n",
       "[5179 rows x 7 columns]"
      ]
     },
     "execution_count": 44,
     "metadata": {},
     "output_type": "execute_result"
    }
   ],
   "source": [
    "df = stock.history(start = '2003-01-01', end = '2023-08-01', interval = '1d')\n",
    "df"
   ]
  },
  {
   "cell_type": "markdown",
   "id": "2f70655a",
   "metadata": {},
   "source": [
    "***Let's focus on the last 2 years data***"
   ]
  },
  {
   "cell_type": "code",
   "execution_count": 45,
   "id": "ca1a7ee8",
   "metadata": {},
   "outputs": [
    {
     "data": {
      "text/html": [
       "<div>\n",
       "<style scoped>\n",
       "    .dataframe tbody tr th:only-of-type {\n",
       "        vertical-align: middle;\n",
       "    }\n",
       "\n",
       "    .dataframe tbody tr th {\n",
       "        vertical-align: top;\n",
       "    }\n",
       "\n",
       "    .dataframe thead th {\n",
       "        text-align: right;\n",
       "    }\n",
       "</style>\n",
       "<table border=\"1\" class=\"dataframe\">\n",
       "  <thead>\n",
       "    <tr style=\"text-align: right;\">\n",
       "      <th></th>\n",
       "      <th>Open</th>\n",
       "      <th>High</th>\n",
       "      <th>Low</th>\n",
       "      <th>Close</th>\n",
       "      <th>Volume</th>\n",
       "      <th>Dividends</th>\n",
       "      <th>Stock Splits</th>\n",
       "    </tr>\n",
       "    <tr>\n",
       "      <th>Date</th>\n",
       "      <th></th>\n",
       "      <th></th>\n",
       "      <th></th>\n",
       "      <th></th>\n",
       "      <th></th>\n",
       "      <th></th>\n",
       "      <th></th>\n",
       "    </tr>\n",
       "  </thead>\n",
       "  <tbody>\n",
       "    <tr>\n",
       "      <th>2021-07-29 00:00:00-04:00</th>\n",
       "      <td>278.518702</td>\n",
       "      <td>280.834507</td>\n",
       "      <td>278.363014</td>\n",
       "      <td>278.771698</td>\n",
       "      <td>18168300</td>\n",
       "      <td>0.0</td>\n",
       "      <td>0.0</td>\n",
       "    </tr>\n",
       "    <tr>\n",
       "      <th>2021-07-30 00:00:00-04:00</th>\n",
       "      <td>277.477636</td>\n",
       "      <td>278.927434</td>\n",
       "      <td>276.251615</td>\n",
       "      <td>277.224640</td>\n",
       "      <td>20944800</td>\n",
       "      <td>0.0</td>\n",
       "      <td>0.0</td>\n",
       "    </tr>\n",
       "    <tr>\n",
       "      <th>2021-08-02 00:00:00-04:00</th>\n",
       "      <td>278.635492</td>\n",
       "      <td>279.034436</td>\n",
       "      <td>276.086171</td>\n",
       "      <td>277.137054</td>\n",
       "      <td>16267400</td>\n",
       "      <td>0.0</td>\n",
       "      <td>0.0</td>\n",
       "    </tr>\n",
       "    <tr>\n",
       "      <th>2021-08-03 00:00:00-04:00</th>\n",
       "      <td>277.720905</td>\n",
       "      <td>279.482079</td>\n",
       "      <td>276.339196</td>\n",
       "      <td>279.375031</td>\n",
       "      <td>17879000</td>\n",
       "      <td>0.0</td>\n",
       "      <td>0.0</td>\n",
       "    </tr>\n",
       "    <tr>\n",
       "      <th>2021-08-04 00:00:00-04:00</th>\n",
       "      <td>278.499278</td>\n",
       "      <td>279.832318</td>\n",
       "      <td>276.971621</td>\n",
       "      <td>278.781464</td>\n",
       "      <td>16191300</td>\n",
       "      <td>0.0</td>\n",
       "      <td>0.0</td>\n",
       "    </tr>\n",
       "    <tr>\n",
       "      <th>...</th>\n",
       "      <td>...</td>\n",
       "      <td>...</td>\n",
       "      <td>...</td>\n",
       "      <td>...</td>\n",
       "      <td>...</td>\n",
       "      <td>...</td>\n",
       "      <td>...</td>\n",
       "    </tr>\n",
       "    <tr>\n",
       "      <th>2023-07-25 00:00:00-04:00</th>\n",
       "      <td>343.796103</td>\n",
       "      <td>348.530497</td>\n",
       "      <td>341.775600</td>\n",
       "      <td>347.629181</td>\n",
       "      <td>41637700</td>\n",
       "      <td>0.0</td>\n",
       "      <td>0.0</td>\n",
       "    </tr>\n",
       "    <tr>\n",
       "      <th>2023-07-26 00:00:00-04:00</th>\n",
       "      <td>338.180233</td>\n",
       "      <td>341.379407</td>\n",
       "      <td>329.929744</td>\n",
       "      <td>334.545258</td>\n",
       "      <td>58383700</td>\n",
       "      <td>0.0</td>\n",
       "      <td>0.0</td>\n",
       "    </tr>\n",
       "    <tr>\n",
       "      <th>2023-07-27 00:00:00-04:00</th>\n",
       "      <td>337.229390</td>\n",
       "      <td>338.071251</td>\n",
       "      <td>325.908492</td>\n",
       "      <td>327.562561</td>\n",
       "      <td>39635300</td>\n",
       "      <td>0.0</td>\n",
       "      <td>0.0</td>\n",
       "    </tr>\n",
       "    <tr>\n",
       "      <th>2023-07-28 00:00:00-04:00</th>\n",
       "      <td>330.484416</td>\n",
       "      <td>336.763884</td>\n",
       "      <td>329.989190</td>\n",
       "      <td>335.139526</td>\n",
       "      <td>28484900</td>\n",
       "      <td>0.0</td>\n",
       "      <td>0.0</td>\n",
       "    </tr>\n",
       "    <tr>\n",
       "      <th>2023-07-31 00:00:00-04:00</th>\n",
       "      <td>333.703405</td>\n",
       "      <td>334.475957</td>\n",
       "      <td>330.177364</td>\n",
       "      <td>332.712952</td>\n",
       "      <td>25446000</td>\n",
       "      <td>0.0</td>\n",
       "      <td>0.0</td>\n",
       "    </tr>\n",
       "  </tbody>\n",
       "</table>\n",
       "<p>504 rows × 7 columns</p>\n",
       "</div>"
      ],
      "text/plain": [
       "                                 Open        High         Low       Close  \\\n",
       "Date                                                                        \n",
       "2021-07-29 00:00:00-04:00  278.518702  280.834507  278.363014  278.771698   \n",
       "2021-07-30 00:00:00-04:00  277.477636  278.927434  276.251615  277.224640   \n",
       "2021-08-02 00:00:00-04:00  278.635492  279.034436  276.086171  277.137054   \n",
       "2021-08-03 00:00:00-04:00  277.720905  279.482079  276.339196  279.375031   \n",
       "2021-08-04 00:00:00-04:00  278.499278  279.832318  276.971621  278.781464   \n",
       "...                               ...         ...         ...         ...   \n",
       "2023-07-25 00:00:00-04:00  343.796103  348.530497  341.775600  347.629181   \n",
       "2023-07-26 00:00:00-04:00  338.180233  341.379407  329.929744  334.545258   \n",
       "2023-07-27 00:00:00-04:00  337.229390  338.071251  325.908492  327.562561   \n",
       "2023-07-28 00:00:00-04:00  330.484416  336.763884  329.989190  335.139526   \n",
       "2023-07-31 00:00:00-04:00  333.703405  334.475957  330.177364  332.712952   \n",
       "\n",
       "                             Volume  Dividends  Stock Splits  \n",
       "Date                                                          \n",
       "2021-07-29 00:00:00-04:00  18168300        0.0           0.0  \n",
       "2021-07-30 00:00:00-04:00  20944800        0.0           0.0  \n",
       "2021-08-02 00:00:00-04:00  16267400        0.0           0.0  \n",
       "2021-08-03 00:00:00-04:00  17879000        0.0           0.0  \n",
       "2021-08-04 00:00:00-04:00  16191300        0.0           0.0  \n",
       "...                             ...        ...           ...  \n",
       "2023-07-25 00:00:00-04:00  41637700        0.0           0.0  \n",
       "2023-07-26 00:00:00-04:00  58383700        0.0           0.0  \n",
       "2023-07-27 00:00:00-04:00  39635300        0.0           0.0  \n",
       "2023-07-28 00:00:00-04:00  28484900        0.0           0.0  \n",
       "2023-07-31 00:00:00-04:00  25446000        0.0           0.0  \n",
       "\n",
       "[504 rows x 7 columns]"
      ]
     },
     "execution_count": 45,
     "metadata": {},
     "output_type": "execute_result"
    }
   ],
   "source": [
    "df = df[-252*2:]\n",
    "df"
   ]
  },
  {
   "cell_type": "markdown",
   "id": "858438e0",
   "metadata": {},
   "source": [
    "***Let's do some data visualization***"
   ]
  },
  {
   "cell_type": "code",
   "execution_count": 46,
   "id": "7a91d4ca",
   "metadata": {},
   "outputs": [],
   "source": [
    "import plotly.graph_objects as go"
   ]
  },
  {
   "cell_type": "code",
   "execution_count": 47,
   "id": "914df78a",
   "metadata": {},
   "outputs": [
    {
     "data": {
      "application/vnd.plotly.v1+json": {
       "config": {
        "plotlyServerURL": "https://plot.ly"
       },
       "data": [
        {
         "mode": "lines",
         "type": "scatter",
         "x": [
          "2021-07-29T00:00:00-04:00",
          "2021-07-30T00:00:00-04:00",
          "2021-08-02T00:00:00-04:00",
          "2021-08-03T00:00:00-04:00",
          "2021-08-04T00:00:00-04:00",
          "2021-08-05T00:00:00-04:00",
          "2021-08-06T00:00:00-04:00",
          "2021-08-09T00:00:00-04:00",
          "2021-08-10T00:00:00-04:00",
          "2021-08-11T00:00:00-04:00",
          "2021-08-12T00:00:00-04:00",
          "2021-08-13T00:00:00-04:00",
          "2021-08-16T00:00:00-04:00",
          "2021-08-17T00:00:00-04:00",
          "2021-08-18T00:00:00-04:00",
          "2021-08-19T00:00:00-04:00",
          "2021-08-20T00:00:00-04:00",
          "2021-08-23T00:00:00-04:00",
          "2021-08-24T00:00:00-04:00",
          "2021-08-25T00:00:00-04:00",
          "2021-08-26T00:00:00-04:00",
          "2021-08-27T00:00:00-04:00",
          "2021-08-30T00:00:00-04:00",
          "2021-08-31T00:00:00-04:00",
          "2021-09-01T00:00:00-04:00",
          "2021-09-02T00:00:00-04:00",
          "2021-09-03T00:00:00-04:00",
          "2021-09-07T00:00:00-04:00",
          "2021-09-08T00:00:00-04:00",
          "2021-09-09T00:00:00-04:00",
          "2021-09-10T00:00:00-04:00",
          "2021-09-13T00:00:00-04:00",
          "2021-09-14T00:00:00-04:00",
          "2021-09-15T00:00:00-04:00",
          "2021-09-16T00:00:00-04:00",
          "2021-09-17T00:00:00-04:00",
          "2021-09-20T00:00:00-04:00",
          "2021-09-21T00:00:00-04:00",
          "2021-09-22T00:00:00-04:00",
          "2021-09-23T00:00:00-04:00",
          "2021-09-24T00:00:00-04:00",
          "2021-09-27T00:00:00-04:00",
          "2021-09-28T00:00:00-04:00",
          "2021-09-29T00:00:00-04:00",
          "2021-09-30T00:00:00-04:00",
          "2021-10-01T00:00:00-04:00",
          "2021-10-04T00:00:00-04:00",
          "2021-10-05T00:00:00-04:00",
          "2021-10-06T00:00:00-04:00",
          "2021-10-07T00:00:00-04:00",
          "2021-10-08T00:00:00-04:00",
          "2021-10-11T00:00:00-04:00",
          "2021-10-12T00:00:00-04:00",
          "2021-10-13T00:00:00-04:00",
          "2021-10-14T00:00:00-04:00",
          "2021-10-15T00:00:00-04:00",
          "2021-10-18T00:00:00-04:00",
          "2021-10-19T00:00:00-04:00",
          "2021-10-20T00:00:00-04:00",
          "2021-10-21T00:00:00-04:00",
          "2021-10-22T00:00:00-04:00",
          "2021-10-25T00:00:00-04:00",
          "2021-10-26T00:00:00-04:00",
          "2021-10-27T00:00:00-04:00",
          "2021-10-28T00:00:00-04:00",
          "2021-10-29T00:00:00-04:00",
          "2021-11-01T00:00:00-04:00",
          "2021-11-02T00:00:00-04:00",
          "2021-11-03T00:00:00-04:00",
          "2021-11-04T00:00:00-04:00",
          "2021-11-05T00:00:00-04:00",
          "2021-11-08T00:00:00-05:00",
          "2021-11-09T00:00:00-05:00",
          "2021-11-10T00:00:00-05:00",
          "2021-11-11T00:00:00-05:00",
          "2021-11-12T00:00:00-05:00",
          "2021-11-15T00:00:00-05:00",
          "2021-11-16T00:00:00-05:00",
          "2021-11-17T00:00:00-05:00",
          "2021-11-18T00:00:00-05:00",
          "2021-11-19T00:00:00-05:00",
          "2021-11-22T00:00:00-05:00",
          "2021-11-23T00:00:00-05:00",
          "2021-11-24T00:00:00-05:00",
          "2021-11-26T00:00:00-05:00",
          "2021-11-29T00:00:00-05:00",
          "2021-11-30T00:00:00-05:00",
          "2021-12-01T00:00:00-05:00",
          "2021-12-02T00:00:00-05:00",
          "2021-12-03T00:00:00-05:00",
          "2021-12-06T00:00:00-05:00",
          "2021-12-07T00:00:00-05:00",
          "2021-12-08T00:00:00-05:00",
          "2021-12-09T00:00:00-05:00",
          "2021-12-10T00:00:00-05:00",
          "2021-12-13T00:00:00-05:00",
          "2021-12-14T00:00:00-05:00",
          "2021-12-15T00:00:00-05:00",
          "2021-12-16T00:00:00-05:00",
          "2021-12-17T00:00:00-05:00",
          "2021-12-20T00:00:00-05:00",
          "2021-12-21T00:00:00-05:00",
          "2021-12-22T00:00:00-05:00",
          "2021-12-23T00:00:00-05:00",
          "2021-12-27T00:00:00-05:00",
          "2021-12-28T00:00:00-05:00",
          "2021-12-29T00:00:00-05:00",
          "2021-12-30T00:00:00-05:00",
          "2021-12-31T00:00:00-05:00",
          "2022-01-03T00:00:00-05:00",
          "2022-01-04T00:00:00-05:00",
          "2022-01-05T00:00:00-05:00",
          "2022-01-06T00:00:00-05:00",
          "2022-01-07T00:00:00-05:00",
          "2022-01-10T00:00:00-05:00",
          "2022-01-11T00:00:00-05:00",
          "2022-01-12T00:00:00-05:00",
          "2022-01-13T00:00:00-05:00",
          "2022-01-14T00:00:00-05:00",
          "2022-01-18T00:00:00-05:00",
          "2022-01-19T00:00:00-05:00",
          "2022-01-20T00:00:00-05:00",
          "2022-01-21T00:00:00-05:00",
          "2022-01-24T00:00:00-05:00",
          "2022-01-25T00:00:00-05:00",
          "2022-01-26T00:00:00-05:00",
          "2022-01-27T00:00:00-05:00",
          "2022-01-28T00:00:00-05:00",
          "2022-01-31T00:00:00-05:00",
          "2022-02-01T00:00:00-05:00",
          "2022-02-02T00:00:00-05:00",
          "2022-02-03T00:00:00-05:00",
          "2022-02-04T00:00:00-05:00",
          "2022-02-07T00:00:00-05:00",
          "2022-02-08T00:00:00-05:00",
          "2022-02-09T00:00:00-05:00",
          "2022-02-10T00:00:00-05:00",
          "2022-02-11T00:00:00-05:00",
          "2022-02-14T00:00:00-05:00",
          "2022-02-15T00:00:00-05:00",
          "2022-02-16T00:00:00-05:00",
          "2022-02-17T00:00:00-05:00",
          "2022-02-18T00:00:00-05:00",
          "2022-02-22T00:00:00-05:00",
          "2022-02-23T00:00:00-05:00",
          "2022-02-24T00:00:00-05:00",
          "2022-02-25T00:00:00-05:00",
          "2022-02-28T00:00:00-05:00",
          "2022-03-01T00:00:00-05:00",
          "2022-03-02T00:00:00-05:00",
          "2022-03-03T00:00:00-05:00",
          "2022-03-04T00:00:00-05:00",
          "2022-03-07T00:00:00-05:00",
          "2022-03-08T00:00:00-05:00",
          "2022-03-09T00:00:00-05:00",
          "2022-03-10T00:00:00-05:00",
          "2022-03-11T00:00:00-05:00",
          "2022-03-14T00:00:00-04:00",
          "2022-03-15T00:00:00-04:00",
          "2022-03-16T00:00:00-04:00",
          "2022-03-17T00:00:00-04:00",
          "2022-03-18T00:00:00-04:00",
          "2022-03-21T00:00:00-04:00",
          "2022-03-22T00:00:00-04:00",
          "2022-03-23T00:00:00-04:00",
          "2022-03-24T00:00:00-04:00",
          "2022-03-25T00:00:00-04:00",
          "2022-03-28T00:00:00-04:00",
          "2022-03-29T00:00:00-04:00",
          "2022-03-30T00:00:00-04:00",
          "2022-03-31T00:00:00-04:00",
          "2022-04-01T00:00:00-04:00",
          "2022-04-04T00:00:00-04:00",
          "2022-04-05T00:00:00-04:00",
          "2022-04-06T00:00:00-04:00",
          "2022-04-07T00:00:00-04:00",
          "2022-04-08T00:00:00-04:00",
          "2022-04-11T00:00:00-04:00",
          "2022-04-12T00:00:00-04:00",
          "2022-04-13T00:00:00-04:00",
          "2022-04-14T00:00:00-04:00",
          "2022-04-18T00:00:00-04:00",
          "2022-04-19T00:00:00-04:00",
          "2022-04-20T00:00:00-04:00",
          "2022-04-21T00:00:00-04:00",
          "2022-04-22T00:00:00-04:00",
          "2022-04-25T00:00:00-04:00",
          "2022-04-26T00:00:00-04:00",
          "2022-04-27T00:00:00-04:00",
          "2022-04-28T00:00:00-04:00",
          "2022-04-29T00:00:00-04:00",
          "2022-05-02T00:00:00-04:00",
          "2022-05-03T00:00:00-04:00",
          "2022-05-04T00:00:00-04:00",
          "2022-05-05T00:00:00-04:00",
          "2022-05-06T00:00:00-04:00",
          "2022-05-09T00:00:00-04:00",
          "2022-05-10T00:00:00-04:00",
          "2022-05-11T00:00:00-04:00",
          "2022-05-12T00:00:00-04:00",
          "2022-05-13T00:00:00-04:00",
          "2022-05-16T00:00:00-04:00",
          "2022-05-17T00:00:00-04:00",
          "2022-05-18T00:00:00-04:00",
          "2022-05-19T00:00:00-04:00",
          "2022-05-20T00:00:00-04:00",
          "2022-05-23T00:00:00-04:00",
          "2022-05-24T00:00:00-04:00",
          "2022-05-25T00:00:00-04:00",
          "2022-05-26T00:00:00-04:00",
          "2022-05-27T00:00:00-04:00",
          "2022-05-31T00:00:00-04:00",
          "2022-06-01T00:00:00-04:00",
          "2022-06-02T00:00:00-04:00",
          "2022-06-03T00:00:00-04:00",
          "2022-06-06T00:00:00-04:00",
          "2022-06-07T00:00:00-04:00",
          "2022-06-08T00:00:00-04:00",
          "2022-06-09T00:00:00-04:00",
          "2022-06-10T00:00:00-04:00",
          "2022-06-13T00:00:00-04:00",
          "2022-06-14T00:00:00-04:00",
          "2022-06-15T00:00:00-04:00",
          "2022-06-16T00:00:00-04:00",
          "2022-06-17T00:00:00-04:00",
          "2022-06-21T00:00:00-04:00",
          "2022-06-22T00:00:00-04:00",
          "2022-06-23T00:00:00-04:00",
          "2022-06-24T00:00:00-04:00",
          "2022-06-27T00:00:00-04:00",
          "2022-06-28T00:00:00-04:00",
          "2022-06-29T00:00:00-04:00",
          "2022-06-30T00:00:00-04:00",
          "2022-07-01T00:00:00-04:00",
          "2022-07-05T00:00:00-04:00",
          "2022-07-06T00:00:00-04:00",
          "2022-07-07T00:00:00-04:00",
          "2022-07-08T00:00:00-04:00",
          "2022-07-11T00:00:00-04:00",
          "2022-07-12T00:00:00-04:00",
          "2022-07-13T00:00:00-04:00",
          "2022-07-14T00:00:00-04:00",
          "2022-07-15T00:00:00-04:00",
          "2022-07-18T00:00:00-04:00",
          "2022-07-19T00:00:00-04:00",
          "2022-07-20T00:00:00-04:00",
          "2022-07-21T00:00:00-04:00",
          "2022-07-22T00:00:00-04:00",
          "2022-07-25T00:00:00-04:00",
          "2022-07-26T00:00:00-04:00",
          "2022-07-27T00:00:00-04:00",
          "2022-07-28T00:00:00-04:00",
          "2022-07-29T00:00:00-04:00",
          "2022-08-01T00:00:00-04:00",
          "2022-08-02T00:00:00-04:00",
          "2022-08-03T00:00:00-04:00",
          "2022-08-04T00:00:00-04:00",
          "2022-08-05T00:00:00-04:00",
          "2022-08-08T00:00:00-04:00",
          "2022-08-09T00:00:00-04:00",
          "2022-08-10T00:00:00-04:00",
          "2022-08-11T00:00:00-04:00",
          "2022-08-12T00:00:00-04:00",
          "2022-08-15T00:00:00-04:00",
          "2022-08-16T00:00:00-04:00",
          "2022-08-17T00:00:00-04:00",
          "2022-08-18T00:00:00-04:00",
          "2022-08-19T00:00:00-04:00",
          "2022-08-22T00:00:00-04:00",
          "2022-08-23T00:00:00-04:00",
          "2022-08-24T00:00:00-04:00",
          "2022-08-25T00:00:00-04:00",
          "2022-08-26T00:00:00-04:00",
          "2022-08-29T00:00:00-04:00",
          "2022-08-30T00:00:00-04:00",
          "2022-08-31T00:00:00-04:00",
          "2022-09-01T00:00:00-04:00",
          "2022-09-02T00:00:00-04:00",
          "2022-09-06T00:00:00-04:00",
          "2022-09-07T00:00:00-04:00",
          "2022-09-08T00:00:00-04:00",
          "2022-09-09T00:00:00-04:00",
          "2022-09-12T00:00:00-04:00",
          "2022-09-13T00:00:00-04:00",
          "2022-09-14T00:00:00-04:00",
          "2022-09-15T00:00:00-04:00",
          "2022-09-16T00:00:00-04:00",
          "2022-09-19T00:00:00-04:00",
          "2022-09-20T00:00:00-04:00",
          "2022-09-21T00:00:00-04:00",
          "2022-09-22T00:00:00-04:00",
          "2022-09-23T00:00:00-04:00",
          "2022-09-26T00:00:00-04:00",
          "2022-09-27T00:00:00-04:00",
          "2022-09-28T00:00:00-04:00",
          "2022-09-29T00:00:00-04:00",
          "2022-09-30T00:00:00-04:00",
          "2022-10-03T00:00:00-04:00",
          "2022-10-04T00:00:00-04:00",
          "2022-10-05T00:00:00-04:00",
          "2022-10-06T00:00:00-04:00",
          "2022-10-07T00:00:00-04:00",
          "2022-10-10T00:00:00-04:00",
          "2022-10-11T00:00:00-04:00",
          "2022-10-12T00:00:00-04:00",
          "2022-10-13T00:00:00-04:00",
          "2022-10-14T00:00:00-04:00",
          "2022-10-17T00:00:00-04:00",
          "2022-10-18T00:00:00-04:00",
          "2022-10-19T00:00:00-04:00",
          "2022-10-20T00:00:00-04:00",
          "2022-10-21T00:00:00-04:00",
          "2022-10-24T00:00:00-04:00",
          "2022-10-25T00:00:00-04:00",
          "2022-10-26T00:00:00-04:00",
          "2022-10-27T00:00:00-04:00",
          "2022-10-28T00:00:00-04:00",
          "2022-10-31T00:00:00-04:00",
          "2022-11-01T00:00:00-04:00",
          "2022-11-02T00:00:00-04:00",
          "2022-11-03T00:00:00-04:00",
          "2022-11-04T00:00:00-04:00",
          "2022-11-07T00:00:00-05:00",
          "2022-11-08T00:00:00-05:00",
          "2022-11-09T00:00:00-05:00",
          "2022-11-10T00:00:00-05:00",
          "2022-11-11T00:00:00-05:00",
          "2022-11-14T00:00:00-05:00",
          "2022-11-15T00:00:00-05:00",
          "2022-11-16T00:00:00-05:00",
          "2022-11-17T00:00:00-05:00",
          "2022-11-18T00:00:00-05:00",
          "2022-11-21T00:00:00-05:00",
          "2022-11-22T00:00:00-05:00",
          "2022-11-23T00:00:00-05:00",
          "2022-11-25T00:00:00-05:00",
          "2022-11-28T00:00:00-05:00",
          "2022-11-29T00:00:00-05:00",
          "2022-11-30T00:00:00-05:00",
          "2022-12-01T00:00:00-05:00",
          "2022-12-02T00:00:00-05:00",
          "2022-12-05T00:00:00-05:00",
          "2022-12-06T00:00:00-05:00",
          "2022-12-07T00:00:00-05:00",
          "2022-12-08T00:00:00-05:00",
          "2022-12-09T00:00:00-05:00",
          "2022-12-12T00:00:00-05:00",
          "2022-12-13T00:00:00-05:00",
          "2022-12-14T00:00:00-05:00",
          "2022-12-15T00:00:00-05:00",
          "2022-12-16T00:00:00-05:00",
          "2022-12-19T00:00:00-05:00",
          "2022-12-20T00:00:00-05:00",
          "2022-12-21T00:00:00-05:00",
          "2022-12-22T00:00:00-05:00",
          "2022-12-23T00:00:00-05:00",
          "2022-12-27T00:00:00-05:00",
          "2022-12-28T00:00:00-05:00",
          "2022-12-29T00:00:00-05:00",
          "2022-12-30T00:00:00-05:00",
          "2023-01-03T00:00:00-05:00",
          "2023-01-04T00:00:00-05:00",
          "2023-01-05T00:00:00-05:00",
          "2023-01-06T00:00:00-05:00",
          "2023-01-09T00:00:00-05:00",
          "2023-01-10T00:00:00-05:00",
          "2023-01-11T00:00:00-05:00",
          "2023-01-12T00:00:00-05:00",
          "2023-01-13T00:00:00-05:00",
          "2023-01-17T00:00:00-05:00",
          "2023-01-18T00:00:00-05:00",
          "2023-01-19T00:00:00-05:00",
          "2023-01-20T00:00:00-05:00",
          "2023-01-23T00:00:00-05:00",
          "2023-01-24T00:00:00-05:00",
          "2023-01-25T00:00:00-05:00",
          "2023-01-26T00:00:00-05:00",
          "2023-01-27T00:00:00-05:00",
          "2023-01-30T00:00:00-05:00",
          "2023-01-31T00:00:00-05:00",
          "2023-02-01T00:00:00-05:00",
          "2023-02-02T00:00:00-05:00",
          "2023-02-03T00:00:00-05:00",
          "2023-02-06T00:00:00-05:00",
          "2023-02-07T00:00:00-05:00",
          "2023-02-08T00:00:00-05:00",
          "2023-02-09T00:00:00-05:00",
          "2023-02-10T00:00:00-05:00",
          "2023-02-13T00:00:00-05:00",
          "2023-02-14T00:00:00-05:00",
          "2023-02-15T00:00:00-05:00",
          "2023-02-16T00:00:00-05:00",
          "2023-02-17T00:00:00-05:00",
          "2023-02-21T00:00:00-05:00",
          "2023-02-22T00:00:00-05:00",
          "2023-02-23T00:00:00-05:00",
          "2023-02-24T00:00:00-05:00",
          "2023-02-27T00:00:00-05:00",
          "2023-02-28T00:00:00-05:00",
          "2023-03-01T00:00:00-05:00",
          "2023-03-02T00:00:00-05:00",
          "2023-03-03T00:00:00-05:00",
          "2023-03-06T00:00:00-05:00",
          "2023-03-07T00:00:00-05:00",
          "2023-03-08T00:00:00-05:00",
          "2023-03-09T00:00:00-05:00",
          "2023-03-10T00:00:00-05:00",
          "2023-03-13T00:00:00-04:00",
          "2023-03-14T00:00:00-04:00",
          "2023-03-15T00:00:00-04:00",
          "2023-03-16T00:00:00-04:00",
          "2023-03-17T00:00:00-04:00",
          "2023-03-20T00:00:00-04:00",
          "2023-03-21T00:00:00-04:00",
          "2023-03-22T00:00:00-04:00",
          "2023-03-23T00:00:00-04:00",
          "2023-03-24T00:00:00-04:00",
          "2023-03-27T00:00:00-04:00",
          "2023-03-28T00:00:00-04:00",
          "2023-03-29T00:00:00-04:00",
          "2023-03-30T00:00:00-04:00",
          "2023-03-31T00:00:00-04:00",
          "2023-04-03T00:00:00-04:00",
          "2023-04-04T00:00:00-04:00",
          "2023-04-05T00:00:00-04:00",
          "2023-04-06T00:00:00-04:00",
          "2023-04-10T00:00:00-04:00",
          "2023-04-11T00:00:00-04:00",
          "2023-04-12T00:00:00-04:00",
          "2023-04-13T00:00:00-04:00",
          "2023-04-14T00:00:00-04:00",
          "2023-04-17T00:00:00-04:00",
          "2023-04-18T00:00:00-04:00",
          "2023-04-19T00:00:00-04:00",
          "2023-04-20T00:00:00-04:00",
          "2023-04-21T00:00:00-04:00",
          "2023-04-24T00:00:00-04:00",
          "2023-04-25T00:00:00-04:00",
          "2023-04-26T00:00:00-04:00",
          "2023-04-27T00:00:00-04:00",
          "2023-04-28T00:00:00-04:00",
          "2023-05-01T00:00:00-04:00",
          "2023-05-02T00:00:00-04:00",
          "2023-05-03T00:00:00-04:00",
          "2023-05-04T00:00:00-04:00",
          "2023-05-05T00:00:00-04:00",
          "2023-05-08T00:00:00-04:00",
          "2023-05-09T00:00:00-04:00",
          "2023-05-10T00:00:00-04:00",
          "2023-05-11T00:00:00-04:00",
          "2023-05-12T00:00:00-04:00",
          "2023-05-15T00:00:00-04:00",
          "2023-05-16T00:00:00-04:00",
          "2023-05-17T00:00:00-04:00",
          "2023-05-18T00:00:00-04:00",
          "2023-05-19T00:00:00-04:00",
          "2023-05-22T00:00:00-04:00",
          "2023-05-23T00:00:00-04:00",
          "2023-05-24T00:00:00-04:00",
          "2023-05-25T00:00:00-04:00",
          "2023-05-26T00:00:00-04:00",
          "2023-05-30T00:00:00-04:00",
          "2023-05-31T00:00:00-04:00",
          "2023-06-01T00:00:00-04:00",
          "2023-06-02T00:00:00-04:00",
          "2023-06-05T00:00:00-04:00",
          "2023-06-06T00:00:00-04:00",
          "2023-06-07T00:00:00-04:00",
          "2023-06-08T00:00:00-04:00",
          "2023-06-09T00:00:00-04:00",
          "2023-06-12T00:00:00-04:00",
          "2023-06-13T00:00:00-04:00",
          "2023-06-14T00:00:00-04:00",
          "2023-06-15T00:00:00-04:00",
          "2023-06-16T00:00:00-04:00",
          "2023-06-20T00:00:00-04:00",
          "2023-06-21T00:00:00-04:00",
          "2023-06-22T00:00:00-04:00",
          "2023-06-23T00:00:00-04:00",
          "2023-06-26T00:00:00-04:00",
          "2023-06-27T00:00:00-04:00",
          "2023-06-28T00:00:00-04:00",
          "2023-06-29T00:00:00-04:00",
          "2023-06-30T00:00:00-04:00",
          "2023-07-03T00:00:00-04:00",
          "2023-07-05T00:00:00-04:00",
          "2023-07-06T00:00:00-04:00",
          "2023-07-07T00:00:00-04:00",
          "2023-07-10T00:00:00-04:00",
          "2023-07-11T00:00:00-04:00",
          "2023-07-12T00:00:00-04:00",
          "2023-07-13T00:00:00-04:00",
          "2023-07-14T00:00:00-04:00",
          "2023-07-17T00:00:00-04:00",
          "2023-07-18T00:00:00-04:00",
          "2023-07-19T00:00:00-04:00",
          "2023-07-20T00:00:00-04:00",
          "2023-07-21T00:00:00-04:00",
          "2023-07-24T00:00:00-04:00",
          "2023-07-25T00:00:00-04:00",
          "2023-07-26T00:00:00-04:00",
          "2023-07-27T00:00:00-04:00",
          "2023-07-28T00:00:00-04:00",
          "2023-07-31T00:00:00-04:00"
         ],
         "y": [
          278.7716979980469,
          277.2246398925781,
          277.1370544433594,
          279.3750305175781,
          278.7814636230469,
          281.71026611328125,
          281.65191650390625,
          280.5523986816406,
          278.71343994140625,
          279.2095947265625,
          281.99249267578125,
          284.950439453125,
          286.65325927734375,
          285.17425537109375,
          283.42919921875,
          289.3175048828125,
          296.7168884277344,
          296.9996337890625,
          295.0206298828125,
          294.4259948730469,
          291.5792541503906,
          292.19342041015625,
          295.96624755859375,
          294.2992248535156,
          294.2504577636719,
          293.5874938964844,
          293.5778503417969,
          292.6418762207031,
          292.6711120605469,
          289.7854919433594,
          288.2841796875,
          289.5320129394531,
          292.26171875,
          297.1653747558594,
          297.55535888671875,
          292.3396911621094,
          286.9095153808594,
          287.39703369140625,
          291.08203125,
          292.0374450683594,
          291.832763671875,
          286.7827453613281,
          276.4002380371094,
          276.8682556152344,
          274.8404846191406,
          281.8401184082031,
          276.00054931640625,
          281.5086669921875,
          285.7494201660156,
          287.44573974609375,
          287.44573974609375,
          286.84130859375,
          285.5252380371094,
          288.8690490722656,
          295.1473083496094,
          296.5706787109375,
          299.5733642578125,
          300.48974609375,
          299.6903381347656,
          302.95623779296875,
          301.39642333984375,
          300.39227294921875,
          302.3224792480469,
          315.0545349121094,
          316.2049255371094,
          323.29241943359375,
          321.098876953125,
          324.76446533203125,
          325.6126403808594,
          327.9913330078125,
          327.620849609375,
          328.52752685546875,
          327.51361083984375,
          322.4929504394531,
          324.08203125,
          328.2643127441406,
          327.6306457519531,
          330.9842834472656,
          331.2088623046875,
          333.3087463378906,
          335.1057434082031,
          331.90228271484375,
          329.8024597167969,
          330.0270690917969,
          321.9890441894531,
          328.7770080566406,
          322.87786865234375,
          322.3797607421875,
          321.8034973144531,
          315.4747314453125,
          318.5805358886719,
          327.1069030761719,
          327.15570068359375,
          325.32928466796875,
          334.54913330078125,
          331.4822998046875,
          320.6803283691406,
          326.8431396484375,
          317.32061767578125,
          316.2462463378906,
          312.4469909667969,
          319.6548767089844,
          325.4269714355469,
          326.8822326660156,
          334.461181640625,
          333.2892150878906,
          333.9728698730469,
          331.40423583984375,
          328.47418212890625,
          326.9407958984375,
          321.3347473144531,
          308.9993591308594,
          306.55767822265625,
          306.7139892578125,
          306.9385681152344,
          307.632080078125,
          310.8452453613281,
          297.6894836425781,
          302.9635314941406,
          295.5896911621094,
          296.2537536621094,
          294.56414794921875,
          289.1240539550781,
          289.4561767578125,
          281.7599792480469,
          289.78826904296875,
          292.8452453613281,
          301.06878662109375,
          303.72540283203125,
          301.55712890625,
          306.1474914550781,
          294.2223205566406,
          298.80291748046875,
          293.9293212890625,
          297.45513916015625,
          303.9499816894531,
          295.32598876953125,
          288.1572265625,
          288.11810302734375,
          293.4605407714844,
          293.11798095703125,
          284.5348815917969,
          281.79449462890625,
          281.58892822265625,
          274.2977294921875,
          288.3126220703125,
          290.9747009277344,
          292.4231262207031,
          288.6649169921875,
          293.7933044433594,
          289.6142578125,
          283.6833801269531,
          272.96673583984375,
          269.971923828125,
          282.3523864746094,
          279.50433349609375,
          274.10205078125,
          270.5493469238281,
          281.0311584472656,
          288.1168518066406,
          288.9292297363281,
          294.0281066894531,
          292.78521728515625,
          297.580810546875,
          293.1081848144531,
          297.61993408203125,
          297.2089538574219,
          304.079345703125,
          308.6889343261719,
          307.1719665527344,
          301.74029541015625,
          302.8266296386719,
          308.2583312988281,
          304.2554931640625,
          293.11798095703125,
          294.9481201171875,
          290.6418762207031,
          279.1814270019531,
          276.0495910644531,
          281.49114990234375,
          273.8670654296875,
          274.54241943359375,
          279.2205505371094,
          280.2579650878906,
          274.82623291015625,
          268.19073486328125,
          274.73822021484375,
          264.4619445800781,
          277.1849060058594,
          283.4583435058594,
          271.60638427734375,
          278.4082946777344,
          275.77557373046875,
          283.80084228515625,
          271.44000244140625,
          268.8758239746094,
          258.942138671875,
          263.7572326660156,
          254.99795532226562,
          249.90875244140625,
          255.55580139160156,
          255.92771911621094,
          261.1343688964844,
          249.24501037597656,
          248.3228759765625,
          247.75393676757812,
          255.6899871826172,
          254.67958068847656,
          257.52435302734375,
          260.840087890625,
          268.0403747558594,
          266.6964416503906,
          267.2359924316406,
          269.35491943359375,
          264.88165283203125,
          263.6358337402344,
          267.31451416015625,
          265.2642517089844,
          259.7511901855469,
          248.17575073242188,
          237.64993286132812,
          239.83750915527344,
          246.96913146972656,
          240.30836486816406,
          242.93736267089844,
          248.91146850585938,
          248.31309509277344,
          253.93405151367188,
          262.6058349609375,
          259.8492736816406,
          251.59934997558594,
          255.3074188232422,
          251.9426727294922,
          254.64028930664062,
          257.84808349609375,
          261.1441650390625,
          263.2925720214844,
          262.5665588378906,
          259.4765930175781,
          248.84280395507812,
          247.91087341308594,
          249.24501037597656,
          251.8347625732422,
          249.41177368164062,
          254.59132385253906,
          257.2791748046875,
          259.8002624511719,
          255.405517578125,
          253.9045867919922,
          247.1064910888672,
          263.62603759765625,
          271.15008544921875,
          275.397705078125,
          272.71966552734375,
          269.59033203125,
          277.0947265625,
          278.2522888183594,
          277.5263977050781,
          274.98565673828125,
          276.9279479980469,
          283.657470703125,
          281.5581359863281,
          286.3551025390625,
          287.88543701171875,
          287.139892578125,
          286.3829345703125,
          285.25244140625,
          281.3005676269531,
          273.0429382324219,
          271.755126953125,
          271.11614990234375,
          274.1242980957031,
          263.546630859375,
          260.7351379394531,
          258.5133361816406,
          257.0387878417969,
          255.98690795898438,
          251.72052001953125,
          248.9581298828125,
          253.71609497070312,
          254.13877868652344,
          259.9781188964844,
          262.13104248046875,
          247.719482421875,
          247.945556640625,
          241.22149658203125,
          240.5923309326172,
          240.37606811523438,
          238.34117126464844,
          234.9004669189453,
          236.89605712890625,
          233.887939453125,
          233.42587280273438,
          232.4034881591797,
          236.9845428466797,
          233.4750213623047,
          228.95298767089844,
          236.66012573242188,
          244.6621856689453,
          244.97677612304688,
          242.6075897216797,
          230.27029418945312,
          225.36485290527344,
          221.58995056152344,
          221.92416381835938,
          230.27029418945312,
          224.6865234375,
          233.5045166015625,
          234.4580841064453,
          232.4723358154297,
          232.1479034423828,
          238.01673889160156,
          243.05979919433594,
          246.41200256347656,
          227.3997802734375,
          222.90721130371094,
          231.87266540527344,
          228.19606018066406,
          224.30316162109375,
          216.3699188232422,
          210.61904907226562,
          217.6380615234375,
          224.00823974609375,
          224.9912567138672,
          220.70518493652344,
          238.86215209960938,
          242.92218017578125,
          237.4564208984375,
          237.86927795410156,
          238.30303955078125,
          238.25375366210938,
          237.80023193359375,
          238.61851501464844,
          241.55625915527344,
          244.0701141357422,
          243.98138427734375,
          238.33262634277344,
          236.9228973388672,
          251.5229034423828,
          251.07931518554688,
          251.40464782714844,
          246.65296936035156,
          241.64495849609375,
          240.90560913085938,
          243.89266967773438,
          241.94073486328125,
          248.9302215576172,
          253.27769470214844,
          253.5734405517578,
          245.47982788085938,
          241.2210693359375,
          237.0411834716797,
          238.3720703125,
          240.96473693847656,
          234.813232421875,
          235.34555053710938,
          233.6006622314453,
          231.20510864257812,
          237.59326171875,
          236.42010498046875,
          236.1835174560547,
          225.85211181640625,
          219.15835571289062,
          221.74119567871094,
          223.900146484375,
          225.60565185546875,
          232.4275360107422,
          235.12869262695312,
          235.83848571777344,
          236.942626953125,
          232.46694946289062,
          228.64195251464844,
          236.814453125,
          239.14097595214844,
          238.608642578125,
          237.19891357421875,
          244.48416137695312,
          244.6418914794922,
          239.2691650390625,
          244.29684448242188,
          249.1668243408203,
          260.8488464355469,
          254.6874237060547,
          253.1298370361328,
          263.766845703125,
          262.9486389160156,
          259.8826599121094,
          259.37005615234375,
          267.47357177734375,
          268.3115234375,
          266.16693115234375,
          259.0808410644531,
          255.03872680664062,
          249.7118377685547,
          248.56541442871094,
          251.78724670410156,
          246.30223083496094,
          247.23121643066406,
          246.4998779296875,
          243.38677978515625,
          248.1700897216797,
          252.30116271972656,
          253.8626708984375,
          251.1745147705078,
          250.72976684570312,
          249.36595153808594,
          245.67959594726562,
          250.94717407226562,
          257.7367858886719,
          262.3323059082031,
          272.96636962890625,
          276.1585388183594,
          269.0428161621094,
          270.5746765136719,
          269.10211181640625,
          274.4092712402344,
          277.28521728515625,
          273.144287109375,
          272.00775146484375,
          277.2259216308594,
          280.7244567871094,
          284.9246520996094,
          283.86724853515625,
          283.8177795410156,
          281.0110168457031,
          288.1860656738281,
          286.001953125,
          279.5187072753906,
          280.1710205078125,
          286.4466552734375,
          282.78997802734375,
          285.4188232421875,
          284.9938659667969,
          285.07293701171875,
          282.7602844238281,
          282.4144287109375,
          278.47113037109375,
          272.19549560546875,
          291.9118957519531,
          301.2611389160156,
          303.6627197265625,
          301.9826354980469,
          301.8343811035156,
          300.836181640625,
          301.8343811035156,
          307.0130310058594,
          305.0364074707031,
          303.4057312011719,
          308.6535949707031,
          306.4793395996094,
          305.3526916503906,
          305.83697509765625,
          308.0903015136719,
          311.002197265625,
          315.4790344238281,
          315.3007507324219,
          318.1136474609375,
          312.2501525878906,
          310.8536376953125,
          322.8083801269531,
          329.7118835449219,
          328.0478820800781,
          325.25482177734375,
          329.40478515625,
          332.1978759765625,
          332.7327575683594,
          330.4942932128906,
          320.2926330566406,
          322.1546936035156,
          323.67010498046875,
          328.6817932128906,
          331.0984802246094,
          334.1193542480469,
          344.776611328125,
          339.0617370605469,
          334.8226013183594,
          330.37542724609375,
          336.46673583984375,
          331.8215026855469,
          325.46282958984375,
          331.3758239746094,
          332.64361572265625,
          331.8511962890625,
          337.288818359375,
          334.76312255859375,
          334.921630859375,
          338.0118713378906,
          334.00048828125,
          328.6619567871094,
          329.2958679199219,
          333.980712890625,
          339.3885498046875,
          341.9439392089844,
          342.42926025390625,
          356.057861328125,
          351.69000244140625,
          343.55841064453125,
          340.4879455566406,
          341.815185546875,
          347.6291809082031,
          334.5452575683594,
          327.56256103515625,
          335.1395263671875,
          332.71295166015625
         ]
        }
       ],
       "layout": {
        "template": {
         "data": {
          "bar": [
           {
            "error_x": {
             "color": "#2a3f5f"
            },
            "error_y": {
             "color": "#2a3f5f"
            },
            "marker": {
             "line": {
              "color": "#E5ECF6",
              "width": 0.5
             },
             "pattern": {
              "fillmode": "overlay",
              "size": 10,
              "solidity": 0.2
             }
            },
            "type": "bar"
           }
          ],
          "barpolar": [
           {
            "marker": {
             "line": {
              "color": "#E5ECF6",
              "width": 0.5
             },
             "pattern": {
              "fillmode": "overlay",
              "size": 10,
              "solidity": 0.2
             }
            },
            "type": "barpolar"
           }
          ],
          "carpet": [
           {
            "aaxis": {
             "endlinecolor": "#2a3f5f",
             "gridcolor": "white",
             "linecolor": "white",
             "minorgridcolor": "white",
             "startlinecolor": "#2a3f5f"
            },
            "baxis": {
             "endlinecolor": "#2a3f5f",
             "gridcolor": "white",
             "linecolor": "white",
             "minorgridcolor": "white",
             "startlinecolor": "#2a3f5f"
            },
            "type": "carpet"
           }
          ],
          "choropleth": [
           {
            "colorbar": {
             "outlinewidth": 0,
             "ticks": ""
            },
            "type": "choropleth"
           }
          ],
          "contour": [
           {
            "colorbar": {
             "outlinewidth": 0,
             "ticks": ""
            },
            "colorscale": [
             [
              0,
              "#0d0887"
             ],
             [
              0.1111111111111111,
              "#46039f"
             ],
             [
              0.2222222222222222,
              "#7201a8"
             ],
             [
              0.3333333333333333,
              "#9c179e"
             ],
             [
              0.4444444444444444,
              "#bd3786"
             ],
             [
              0.5555555555555556,
              "#d8576b"
             ],
             [
              0.6666666666666666,
              "#ed7953"
             ],
             [
              0.7777777777777778,
              "#fb9f3a"
             ],
             [
              0.8888888888888888,
              "#fdca26"
             ],
             [
              1,
              "#f0f921"
             ]
            ],
            "type": "contour"
           }
          ],
          "contourcarpet": [
           {
            "colorbar": {
             "outlinewidth": 0,
             "ticks": ""
            },
            "type": "contourcarpet"
           }
          ],
          "heatmap": [
           {
            "colorbar": {
             "outlinewidth": 0,
             "ticks": ""
            },
            "colorscale": [
             [
              0,
              "#0d0887"
             ],
             [
              0.1111111111111111,
              "#46039f"
             ],
             [
              0.2222222222222222,
              "#7201a8"
             ],
             [
              0.3333333333333333,
              "#9c179e"
             ],
             [
              0.4444444444444444,
              "#bd3786"
             ],
             [
              0.5555555555555556,
              "#d8576b"
             ],
             [
              0.6666666666666666,
              "#ed7953"
             ],
             [
              0.7777777777777778,
              "#fb9f3a"
             ],
             [
              0.8888888888888888,
              "#fdca26"
             ],
             [
              1,
              "#f0f921"
             ]
            ],
            "type": "heatmap"
           }
          ],
          "heatmapgl": [
           {
            "colorbar": {
             "outlinewidth": 0,
             "ticks": ""
            },
            "colorscale": [
             [
              0,
              "#0d0887"
             ],
             [
              0.1111111111111111,
              "#46039f"
             ],
             [
              0.2222222222222222,
              "#7201a8"
             ],
             [
              0.3333333333333333,
              "#9c179e"
             ],
             [
              0.4444444444444444,
              "#bd3786"
             ],
             [
              0.5555555555555556,
              "#d8576b"
             ],
             [
              0.6666666666666666,
              "#ed7953"
             ],
             [
              0.7777777777777778,
              "#fb9f3a"
             ],
             [
              0.8888888888888888,
              "#fdca26"
             ],
             [
              1,
              "#f0f921"
             ]
            ],
            "type": "heatmapgl"
           }
          ],
          "histogram": [
           {
            "marker": {
             "pattern": {
              "fillmode": "overlay",
              "size": 10,
              "solidity": 0.2
             }
            },
            "type": "histogram"
           }
          ],
          "histogram2d": [
           {
            "colorbar": {
             "outlinewidth": 0,
             "ticks": ""
            },
            "colorscale": [
             [
              0,
              "#0d0887"
             ],
             [
              0.1111111111111111,
              "#46039f"
             ],
             [
              0.2222222222222222,
              "#7201a8"
             ],
             [
              0.3333333333333333,
              "#9c179e"
             ],
             [
              0.4444444444444444,
              "#bd3786"
             ],
             [
              0.5555555555555556,
              "#d8576b"
             ],
             [
              0.6666666666666666,
              "#ed7953"
             ],
             [
              0.7777777777777778,
              "#fb9f3a"
             ],
             [
              0.8888888888888888,
              "#fdca26"
             ],
             [
              1,
              "#f0f921"
             ]
            ],
            "type": "histogram2d"
           }
          ],
          "histogram2dcontour": [
           {
            "colorbar": {
             "outlinewidth": 0,
             "ticks": ""
            },
            "colorscale": [
             [
              0,
              "#0d0887"
             ],
             [
              0.1111111111111111,
              "#46039f"
             ],
             [
              0.2222222222222222,
              "#7201a8"
             ],
             [
              0.3333333333333333,
              "#9c179e"
             ],
             [
              0.4444444444444444,
              "#bd3786"
             ],
             [
              0.5555555555555556,
              "#d8576b"
             ],
             [
              0.6666666666666666,
              "#ed7953"
             ],
             [
              0.7777777777777778,
              "#fb9f3a"
             ],
             [
              0.8888888888888888,
              "#fdca26"
             ],
             [
              1,
              "#f0f921"
             ]
            ],
            "type": "histogram2dcontour"
           }
          ],
          "mesh3d": [
           {
            "colorbar": {
             "outlinewidth": 0,
             "ticks": ""
            },
            "type": "mesh3d"
           }
          ],
          "parcoords": [
           {
            "line": {
             "colorbar": {
              "outlinewidth": 0,
              "ticks": ""
             }
            },
            "type": "parcoords"
           }
          ],
          "pie": [
           {
            "automargin": true,
            "type": "pie"
           }
          ],
          "scatter": [
           {
            "fillpattern": {
             "fillmode": "overlay",
             "size": 10,
             "solidity": 0.2
            },
            "type": "scatter"
           }
          ],
          "scatter3d": [
           {
            "line": {
             "colorbar": {
              "outlinewidth": 0,
              "ticks": ""
             }
            },
            "marker": {
             "colorbar": {
              "outlinewidth": 0,
              "ticks": ""
             }
            },
            "type": "scatter3d"
           }
          ],
          "scattercarpet": [
           {
            "marker": {
             "colorbar": {
              "outlinewidth": 0,
              "ticks": ""
             }
            },
            "type": "scattercarpet"
           }
          ],
          "scattergeo": [
           {
            "marker": {
             "colorbar": {
              "outlinewidth": 0,
              "ticks": ""
             }
            },
            "type": "scattergeo"
           }
          ],
          "scattergl": [
           {
            "marker": {
             "colorbar": {
              "outlinewidth": 0,
              "ticks": ""
             }
            },
            "type": "scattergl"
           }
          ],
          "scattermapbox": [
           {
            "marker": {
             "colorbar": {
              "outlinewidth": 0,
              "ticks": ""
             }
            },
            "type": "scattermapbox"
           }
          ],
          "scatterpolar": [
           {
            "marker": {
             "colorbar": {
              "outlinewidth": 0,
              "ticks": ""
             }
            },
            "type": "scatterpolar"
           }
          ],
          "scatterpolargl": [
           {
            "marker": {
             "colorbar": {
              "outlinewidth": 0,
              "ticks": ""
             }
            },
            "type": "scatterpolargl"
           }
          ],
          "scatterternary": [
           {
            "marker": {
             "colorbar": {
              "outlinewidth": 0,
              "ticks": ""
             }
            },
            "type": "scatterternary"
           }
          ],
          "surface": [
           {
            "colorbar": {
             "outlinewidth": 0,
             "ticks": ""
            },
            "colorscale": [
             [
              0,
              "#0d0887"
             ],
             [
              0.1111111111111111,
              "#46039f"
             ],
             [
              0.2222222222222222,
              "#7201a8"
             ],
             [
              0.3333333333333333,
              "#9c179e"
             ],
             [
              0.4444444444444444,
              "#bd3786"
             ],
             [
              0.5555555555555556,
              "#d8576b"
             ],
             [
              0.6666666666666666,
              "#ed7953"
             ],
             [
              0.7777777777777778,
              "#fb9f3a"
             ],
             [
              0.8888888888888888,
              "#fdca26"
             ],
             [
              1,
              "#f0f921"
             ]
            ],
            "type": "surface"
           }
          ],
          "table": [
           {
            "cells": {
             "fill": {
              "color": "#EBF0F8"
             },
             "line": {
              "color": "white"
             }
            },
            "header": {
             "fill": {
              "color": "#C8D4E3"
             },
             "line": {
              "color": "white"
             }
            },
            "type": "table"
           }
          ]
         },
         "layout": {
          "annotationdefaults": {
           "arrowcolor": "#2a3f5f",
           "arrowhead": 0,
           "arrowwidth": 1
          },
          "autotypenumbers": "strict",
          "coloraxis": {
           "colorbar": {
            "outlinewidth": 0,
            "ticks": ""
           }
          },
          "colorscale": {
           "diverging": [
            [
             0,
             "#8e0152"
            ],
            [
             0.1,
             "#c51b7d"
            ],
            [
             0.2,
             "#de77ae"
            ],
            [
             0.3,
             "#f1b6da"
            ],
            [
             0.4,
             "#fde0ef"
            ],
            [
             0.5,
             "#f7f7f7"
            ],
            [
             0.6,
             "#e6f5d0"
            ],
            [
             0.7,
             "#b8e186"
            ],
            [
             0.8,
             "#7fbc41"
            ],
            [
             0.9,
             "#4d9221"
            ],
            [
             1,
             "#276419"
            ]
           ],
           "sequential": [
            [
             0,
             "#0d0887"
            ],
            [
             0.1111111111111111,
             "#46039f"
            ],
            [
             0.2222222222222222,
             "#7201a8"
            ],
            [
             0.3333333333333333,
             "#9c179e"
            ],
            [
             0.4444444444444444,
             "#bd3786"
            ],
            [
             0.5555555555555556,
             "#d8576b"
            ],
            [
             0.6666666666666666,
             "#ed7953"
            ],
            [
             0.7777777777777778,
             "#fb9f3a"
            ],
            [
             0.8888888888888888,
             "#fdca26"
            ],
            [
             1,
             "#f0f921"
            ]
           ],
           "sequentialminus": [
            [
             0,
             "#0d0887"
            ],
            [
             0.1111111111111111,
             "#46039f"
            ],
            [
             0.2222222222222222,
             "#7201a8"
            ],
            [
             0.3333333333333333,
             "#9c179e"
            ],
            [
             0.4444444444444444,
             "#bd3786"
            ],
            [
             0.5555555555555556,
             "#d8576b"
            ],
            [
             0.6666666666666666,
             "#ed7953"
            ],
            [
             0.7777777777777778,
             "#fb9f3a"
            ],
            [
             0.8888888888888888,
             "#fdca26"
            ],
            [
             1,
             "#f0f921"
            ]
           ]
          },
          "colorway": [
           "#636efa",
           "#EF553B",
           "#00cc96",
           "#ab63fa",
           "#FFA15A",
           "#19d3f3",
           "#FF6692",
           "#B6E880",
           "#FF97FF",
           "#FECB52"
          ],
          "font": {
           "color": "#2a3f5f"
          },
          "geo": {
           "bgcolor": "white",
           "lakecolor": "white",
           "landcolor": "#E5ECF6",
           "showlakes": true,
           "showland": true,
           "subunitcolor": "white"
          },
          "hoverlabel": {
           "align": "left"
          },
          "hovermode": "closest",
          "mapbox": {
           "style": "light"
          },
          "paper_bgcolor": "white",
          "plot_bgcolor": "#E5ECF6",
          "polar": {
           "angularaxis": {
            "gridcolor": "white",
            "linecolor": "white",
            "ticks": ""
           },
           "bgcolor": "#E5ECF6",
           "radialaxis": {
            "gridcolor": "white",
            "linecolor": "white",
            "ticks": ""
           }
          },
          "scene": {
           "xaxis": {
            "backgroundcolor": "#E5ECF6",
            "gridcolor": "white",
            "gridwidth": 2,
            "linecolor": "white",
            "showbackground": true,
            "ticks": "",
            "zerolinecolor": "white"
           },
           "yaxis": {
            "backgroundcolor": "#E5ECF6",
            "gridcolor": "white",
            "gridwidth": 2,
            "linecolor": "white",
            "showbackground": true,
            "ticks": "",
            "zerolinecolor": "white"
           },
           "zaxis": {
            "backgroundcolor": "#E5ECF6",
            "gridcolor": "white",
            "gridwidth": 2,
            "linecolor": "white",
            "showbackground": true,
            "ticks": "",
            "zerolinecolor": "white"
           }
          },
          "shapedefaults": {
           "line": {
            "color": "#2a3f5f"
           }
          },
          "ternary": {
           "aaxis": {
            "gridcolor": "white",
            "linecolor": "white",
            "ticks": ""
           },
           "baxis": {
            "gridcolor": "white",
            "linecolor": "white",
            "ticks": ""
           },
           "bgcolor": "#E5ECF6",
           "caxis": {
            "gridcolor": "white",
            "linecolor": "white",
            "ticks": ""
           }
          },
          "title": {
           "x": 0.05
          },
          "xaxis": {
           "automargin": true,
           "gridcolor": "white",
           "linecolor": "white",
           "ticks": "",
           "title": {
            "standoff": 15
           },
           "zerolinecolor": "white",
           "zerolinewidth": 2
          },
          "yaxis": {
           "automargin": true,
           "gridcolor": "white",
           "linecolor": "white",
           "ticks": "",
           "title": {
            "standoff": 15
           },
           "zerolinecolor": "white",
           "zerolinewidth": 2
          }
         }
        }
       }
      }
     },
     "metadata": {},
     "output_type": "display_data"
    }
   ],
   "source": [
    "fig = go.Figure(data=go.Scatter(x=df.index,y=df['Close'], mode='lines'))\n",
    "fig.show()"
   ]
  },
  {
   "cell_type": "markdown",
   "id": "99b81347",
   "metadata": {},
   "source": [
    "***Add Volume to the chart***"
   ]
  },
  {
   "cell_type": "code",
   "execution_count": 48,
   "id": "8b3ff9be",
   "metadata": {},
   "outputs": [],
   "source": [
    "from plotly.subplots import make_subplots"
   ]
  },
  {
   "cell_type": "code",
   "execution_count": 49,
   "id": "2fb3a911",
   "metadata": {},
   "outputs": [
    {
     "data": {
      "application/vnd.plotly.v1+json": {
       "config": {
        "plotlyServerURL": "https://plot.ly"
       },
       "data": [
        {
         "name": "Price",
         "type": "scatter",
         "x": [
          "2021-07-29T00:00:00-04:00",
          "2021-07-30T00:00:00-04:00",
          "2021-08-02T00:00:00-04:00",
          "2021-08-03T00:00:00-04:00",
          "2021-08-04T00:00:00-04:00",
          "2021-08-05T00:00:00-04:00",
          "2021-08-06T00:00:00-04:00",
          "2021-08-09T00:00:00-04:00",
          "2021-08-10T00:00:00-04:00",
          "2021-08-11T00:00:00-04:00",
          "2021-08-12T00:00:00-04:00",
          "2021-08-13T00:00:00-04:00",
          "2021-08-16T00:00:00-04:00",
          "2021-08-17T00:00:00-04:00",
          "2021-08-18T00:00:00-04:00",
          "2021-08-19T00:00:00-04:00",
          "2021-08-20T00:00:00-04:00",
          "2021-08-23T00:00:00-04:00",
          "2021-08-24T00:00:00-04:00",
          "2021-08-25T00:00:00-04:00",
          "2021-08-26T00:00:00-04:00",
          "2021-08-27T00:00:00-04:00",
          "2021-08-30T00:00:00-04:00",
          "2021-08-31T00:00:00-04:00",
          "2021-09-01T00:00:00-04:00",
          "2021-09-02T00:00:00-04:00",
          "2021-09-03T00:00:00-04:00",
          "2021-09-07T00:00:00-04:00",
          "2021-09-08T00:00:00-04:00",
          "2021-09-09T00:00:00-04:00",
          "2021-09-10T00:00:00-04:00",
          "2021-09-13T00:00:00-04:00",
          "2021-09-14T00:00:00-04:00",
          "2021-09-15T00:00:00-04:00",
          "2021-09-16T00:00:00-04:00",
          "2021-09-17T00:00:00-04:00",
          "2021-09-20T00:00:00-04:00",
          "2021-09-21T00:00:00-04:00",
          "2021-09-22T00:00:00-04:00",
          "2021-09-23T00:00:00-04:00",
          "2021-09-24T00:00:00-04:00",
          "2021-09-27T00:00:00-04:00",
          "2021-09-28T00:00:00-04:00",
          "2021-09-29T00:00:00-04:00",
          "2021-09-30T00:00:00-04:00",
          "2021-10-01T00:00:00-04:00",
          "2021-10-04T00:00:00-04:00",
          "2021-10-05T00:00:00-04:00",
          "2021-10-06T00:00:00-04:00",
          "2021-10-07T00:00:00-04:00",
          "2021-10-08T00:00:00-04:00",
          "2021-10-11T00:00:00-04:00",
          "2021-10-12T00:00:00-04:00",
          "2021-10-13T00:00:00-04:00",
          "2021-10-14T00:00:00-04:00",
          "2021-10-15T00:00:00-04:00",
          "2021-10-18T00:00:00-04:00",
          "2021-10-19T00:00:00-04:00",
          "2021-10-20T00:00:00-04:00",
          "2021-10-21T00:00:00-04:00",
          "2021-10-22T00:00:00-04:00",
          "2021-10-25T00:00:00-04:00",
          "2021-10-26T00:00:00-04:00",
          "2021-10-27T00:00:00-04:00",
          "2021-10-28T00:00:00-04:00",
          "2021-10-29T00:00:00-04:00",
          "2021-11-01T00:00:00-04:00",
          "2021-11-02T00:00:00-04:00",
          "2021-11-03T00:00:00-04:00",
          "2021-11-04T00:00:00-04:00",
          "2021-11-05T00:00:00-04:00",
          "2021-11-08T00:00:00-05:00",
          "2021-11-09T00:00:00-05:00",
          "2021-11-10T00:00:00-05:00",
          "2021-11-11T00:00:00-05:00",
          "2021-11-12T00:00:00-05:00",
          "2021-11-15T00:00:00-05:00",
          "2021-11-16T00:00:00-05:00",
          "2021-11-17T00:00:00-05:00",
          "2021-11-18T00:00:00-05:00",
          "2021-11-19T00:00:00-05:00",
          "2021-11-22T00:00:00-05:00",
          "2021-11-23T00:00:00-05:00",
          "2021-11-24T00:00:00-05:00",
          "2021-11-26T00:00:00-05:00",
          "2021-11-29T00:00:00-05:00",
          "2021-11-30T00:00:00-05:00",
          "2021-12-01T00:00:00-05:00",
          "2021-12-02T00:00:00-05:00",
          "2021-12-03T00:00:00-05:00",
          "2021-12-06T00:00:00-05:00",
          "2021-12-07T00:00:00-05:00",
          "2021-12-08T00:00:00-05:00",
          "2021-12-09T00:00:00-05:00",
          "2021-12-10T00:00:00-05:00",
          "2021-12-13T00:00:00-05:00",
          "2021-12-14T00:00:00-05:00",
          "2021-12-15T00:00:00-05:00",
          "2021-12-16T00:00:00-05:00",
          "2021-12-17T00:00:00-05:00",
          "2021-12-20T00:00:00-05:00",
          "2021-12-21T00:00:00-05:00",
          "2021-12-22T00:00:00-05:00",
          "2021-12-23T00:00:00-05:00",
          "2021-12-27T00:00:00-05:00",
          "2021-12-28T00:00:00-05:00",
          "2021-12-29T00:00:00-05:00",
          "2021-12-30T00:00:00-05:00",
          "2021-12-31T00:00:00-05:00",
          "2022-01-03T00:00:00-05:00",
          "2022-01-04T00:00:00-05:00",
          "2022-01-05T00:00:00-05:00",
          "2022-01-06T00:00:00-05:00",
          "2022-01-07T00:00:00-05:00",
          "2022-01-10T00:00:00-05:00",
          "2022-01-11T00:00:00-05:00",
          "2022-01-12T00:00:00-05:00",
          "2022-01-13T00:00:00-05:00",
          "2022-01-14T00:00:00-05:00",
          "2022-01-18T00:00:00-05:00",
          "2022-01-19T00:00:00-05:00",
          "2022-01-20T00:00:00-05:00",
          "2022-01-21T00:00:00-05:00",
          "2022-01-24T00:00:00-05:00",
          "2022-01-25T00:00:00-05:00",
          "2022-01-26T00:00:00-05:00",
          "2022-01-27T00:00:00-05:00",
          "2022-01-28T00:00:00-05:00",
          "2022-01-31T00:00:00-05:00",
          "2022-02-01T00:00:00-05:00",
          "2022-02-02T00:00:00-05:00",
          "2022-02-03T00:00:00-05:00",
          "2022-02-04T00:00:00-05:00",
          "2022-02-07T00:00:00-05:00",
          "2022-02-08T00:00:00-05:00",
          "2022-02-09T00:00:00-05:00",
          "2022-02-10T00:00:00-05:00",
          "2022-02-11T00:00:00-05:00",
          "2022-02-14T00:00:00-05:00",
          "2022-02-15T00:00:00-05:00",
          "2022-02-16T00:00:00-05:00",
          "2022-02-17T00:00:00-05:00",
          "2022-02-18T00:00:00-05:00",
          "2022-02-22T00:00:00-05:00",
          "2022-02-23T00:00:00-05:00",
          "2022-02-24T00:00:00-05:00",
          "2022-02-25T00:00:00-05:00",
          "2022-02-28T00:00:00-05:00",
          "2022-03-01T00:00:00-05:00",
          "2022-03-02T00:00:00-05:00",
          "2022-03-03T00:00:00-05:00",
          "2022-03-04T00:00:00-05:00",
          "2022-03-07T00:00:00-05:00",
          "2022-03-08T00:00:00-05:00",
          "2022-03-09T00:00:00-05:00",
          "2022-03-10T00:00:00-05:00",
          "2022-03-11T00:00:00-05:00",
          "2022-03-14T00:00:00-04:00",
          "2022-03-15T00:00:00-04:00",
          "2022-03-16T00:00:00-04:00",
          "2022-03-17T00:00:00-04:00",
          "2022-03-18T00:00:00-04:00",
          "2022-03-21T00:00:00-04:00",
          "2022-03-22T00:00:00-04:00",
          "2022-03-23T00:00:00-04:00",
          "2022-03-24T00:00:00-04:00",
          "2022-03-25T00:00:00-04:00",
          "2022-03-28T00:00:00-04:00",
          "2022-03-29T00:00:00-04:00",
          "2022-03-30T00:00:00-04:00",
          "2022-03-31T00:00:00-04:00",
          "2022-04-01T00:00:00-04:00",
          "2022-04-04T00:00:00-04:00",
          "2022-04-05T00:00:00-04:00",
          "2022-04-06T00:00:00-04:00",
          "2022-04-07T00:00:00-04:00",
          "2022-04-08T00:00:00-04:00",
          "2022-04-11T00:00:00-04:00",
          "2022-04-12T00:00:00-04:00",
          "2022-04-13T00:00:00-04:00",
          "2022-04-14T00:00:00-04:00",
          "2022-04-18T00:00:00-04:00",
          "2022-04-19T00:00:00-04:00",
          "2022-04-20T00:00:00-04:00",
          "2022-04-21T00:00:00-04:00",
          "2022-04-22T00:00:00-04:00",
          "2022-04-25T00:00:00-04:00",
          "2022-04-26T00:00:00-04:00",
          "2022-04-27T00:00:00-04:00",
          "2022-04-28T00:00:00-04:00",
          "2022-04-29T00:00:00-04:00",
          "2022-05-02T00:00:00-04:00",
          "2022-05-03T00:00:00-04:00",
          "2022-05-04T00:00:00-04:00",
          "2022-05-05T00:00:00-04:00",
          "2022-05-06T00:00:00-04:00",
          "2022-05-09T00:00:00-04:00",
          "2022-05-10T00:00:00-04:00",
          "2022-05-11T00:00:00-04:00",
          "2022-05-12T00:00:00-04:00",
          "2022-05-13T00:00:00-04:00",
          "2022-05-16T00:00:00-04:00",
          "2022-05-17T00:00:00-04:00",
          "2022-05-18T00:00:00-04:00",
          "2022-05-19T00:00:00-04:00",
          "2022-05-20T00:00:00-04:00",
          "2022-05-23T00:00:00-04:00",
          "2022-05-24T00:00:00-04:00",
          "2022-05-25T00:00:00-04:00",
          "2022-05-26T00:00:00-04:00",
          "2022-05-27T00:00:00-04:00",
          "2022-05-31T00:00:00-04:00",
          "2022-06-01T00:00:00-04:00",
          "2022-06-02T00:00:00-04:00",
          "2022-06-03T00:00:00-04:00",
          "2022-06-06T00:00:00-04:00",
          "2022-06-07T00:00:00-04:00",
          "2022-06-08T00:00:00-04:00",
          "2022-06-09T00:00:00-04:00",
          "2022-06-10T00:00:00-04:00",
          "2022-06-13T00:00:00-04:00",
          "2022-06-14T00:00:00-04:00",
          "2022-06-15T00:00:00-04:00",
          "2022-06-16T00:00:00-04:00",
          "2022-06-17T00:00:00-04:00",
          "2022-06-21T00:00:00-04:00",
          "2022-06-22T00:00:00-04:00",
          "2022-06-23T00:00:00-04:00",
          "2022-06-24T00:00:00-04:00",
          "2022-06-27T00:00:00-04:00",
          "2022-06-28T00:00:00-04:00",
          "2022-06-29T00:00:00-04:00",
          "2022-06-30T00:00:00-04:00",
          "2022-07-01T00:00:00-04:00",
          "2022-07-05T00:00:00-04:00",
          "2022-07-06T00:00:00-04:00",
          "2022-07-07T00:00:00-04:00",
          "2022-07-08T00:00:00-04:00",
          "2022-07-11T00:00:00-04:00",
          "2022-07-12T00:00:00-04:00",
          "2022-07-13T00:00:00-04:00",
          "2022-07-14T00:00:00-04:00",
          "2022-07-15T00:00:00-04:00",
          "2022-07-18T00:00:00-04:00",
          "2022-07-19T00:00:00-04:00",
          "2022-07-20T00:00:00-04:00",
          "2022-07-21T00:00:00-04:00",
          "2022-07-22T00:00:00-04:00",
          "2022-07-25T00:00:00-04:00",
          "2022-07-26T00:00:00-04:00",
          "2022-07-27T00:00:00-04:00",
          "2022-07-28T00:00:00-04:00",
          "2022-07-29T00:00:00-04:00",
          "2022-08-01T00:00:00-04:00",
          "2022-08-02T00:00:00-04:00",
          "2022-08-03T00:00:00-04:00",
          "2022-08-04T00:00:00-04:00",
          "2022-08-05T00:00:00-04:00",
          "2022-08-08T00:00:00-04:00",
          "2022-08-09T00:00:00-04:00",
          "2022-08-10T00:00:00-04:00",
          "2022-08-11T00:00:00-04:00",
          "2022-08-12T00:00:00-04:00",
          "2022-08-15T00:00:00-04:00",
          "2022-08-16T00:00:00-04:00",
          "2022-08-17T00:00:00-04:00",
          "2022-08-18T00:00:00-04:00",
          "2022-08-19T00:00:00-04:00",
          "2022-08-22T00:00:00-04:00",
          "2022-08-23T00:00:00-04:00",
          "2022-08-24T00:00:00-04:00",
          "2022-08-25T00:00:00-04:00",
          "2022-08-26T00:00:00-04:00",
          "2022-08-29T00:00:00-04:00",
          "2022-08-30T00:00:00-04:00",
          "2022-08-31T00:00:00-04:00",
          "2022-09-01T00:00:00-04:00",
          "2022-09-02T00:00:00-04:00",
          "2022-09-06T00:00:00-04:00",
          "2022-09-07T00:00:00-04:00",
          "2022-09-08T00:00:00-04:00",
          "2022-09-09T00:00:00-04:00",
          "2022-09-12T00:00:00-04:00",
          "2022-09-13T00:00:00-04:00",
          "2022-09-14T00:00:00-04:00",
          "2022-09-15T00:00:00-04:00",
          "2022-09-16T00:00:00-04:00",
          "2022-09-19T00:00:00-04:00",
          "2022-09-20T00:00:00-04:00",
          "2022-09-21T00:00:00-04:00",
          "2022-09-22T00:00:00-04:00",
          "2022-09-23T00:00:00-04:00",
          "2022-09-26T00:00:00-04:00",
          "2022-09-27T00:00:00-04:00",
          "2022-09-28T00:00:00-04:00",
          "2022-09-29T00:00:00-04:00",
          "2022-09-30T00:00:00-04:00",
          "2022-10-03T00:00:00-04:00",
          "2022-10-04T00:00:00-04:00",
          "2022-10-05T00:00:00-04:00",
          "2022-10-06T00:00:00-04:00",
          "2022-10-07T00:00:00-04:00",
          "2022-10-10T00:00:00-04:00",
          "2022-10-11T00:00:00-04:00",
          "2022-10-12T00:00:00-04:00",
          "2022-10-13T00:00:00-04:00",
          "2022-10-14T00:00:00-04:00",
          "2022-10-17T00:00:00-04:00",
          "2022-10-18T00:00:00-04:00",
          "2022-10-19T00:00:00-04:00",
          "2022-10-20T00:00:00-04:00",
          "2022-10-21T00:00:00-04:00",
          "2022-10-24T00:00:00-04:00",
          "2022-10-25T00:00:00-04:00",
          "2022-10-26T00:00:00-04:00",
          "2022-10-27T00:00:00-04:00",
          "2022-10-28T00:00:00-04:00",
          "2022-10-31T00:00:00-04:00",
          "2022-11-01T00:00:00-04:00",
          "2022-11-02T00:00:00-04:00",
          "2022-11-03T00:00:00-04:00",
          "2022-11-04T00:00:00-04:00",
          "2022-11-07T00:00:00-05:00",
          "2022-11-08T00:00:00-05:00",
          "2022-11-09T00:00:00-05:00",
          "2022-11-10T00:00:00-05:00",
          "2022-11-11T00:00:00-05:00",
          "2022-11-14T00:00:00-05:00",
          "2022-11-15T00:00:00-05:00",
          "2022-11-16T00:00:00-05:00",
          "2022-11-17T00:00:00-05:00",
          "2022-11-18T00:00:00-05:00",
          "2022-11-21T00:00:00-05:00",
          "2022-11-22T00:00:00-05:00",
          "2022-11-23T00:00:00-05:00",
          "2022-11-25T00:00:00-05:00",
          "2022-11-28T00:00:00-05:00",
          "2022-11-29T00:00:00-05:00",
          "2022-11-30T00:00:00-05:00",
          "2022-12-01T00:00:00-05:00",
          "2022-12-02T00:00:00-05:00",
          "2022-12-05T00:00:00-05:00",
          "2022-12-06T00:00:00-05:00",
          "2022-12-07T00:00:00-05:00",
          "2022-12-08T00:00:00-05:00",
          "2022-12-09T00:00:00-05:00",
          "2022-12-12T00:00:00-05:00",
          "2022-12-13T00:00:00-05:00",
          "2022-12-14T00:00:00-05:00",
          "2022-12-15T00:00:00-05:00",
          "2022-12-16T00:00:00-05:00",
          "2022-12-19T00:00:00-05:00",
          "2022-12-20T00:00:00-05:00",
          "2022-12-21T00:00:00-05:00",
          "2022-12-22T00:00:00-05:00",
          "2022-12-23T00:00:00-05:00",
          "2022-12-27T00:00:00-05:00",
          "2022-12-28T00:00:00-05:00",
          "2022-12-29T00:00:00-05:00",
          "2022-12-30T00:00:00-05:00",
          "2023-01-03T00:00:00-05:00",
          "2023-01-04T00:00:00-05:00",
          "2023-01-05T00:00:00-05:00",
          "2023-01-06T00:00:00-05:00",
          "2023-01-09T00:00:00-05:00",
          "2023-01-10T00:00:00-05:00",
          "2023-01-11T00:00:00-05:00",
          "2023-01-12T00:00:00-05:00",
          "2023-01-13T00:00:00-05:00",
          "2023-01-17T00:00:00-05:00",
          "2023-01-18T00:00:00-05:00",
          "2023-01-19T00:00:00-05:00",
          "2023-01-20T00:00:00-05:00",
          "2023-01-23T00:00:00-05:00",
          "2023-01-24T00:00:00-05:00",
          "2023-01-25T00:00:00-05:00",
          "2023-01-26T00:00:00-05:00",
          "2023-01-27T00:00:00-05:00",
          "2023-01-30T00:00:00-05:00",
          "2023-01-31T00:00:00-05:00",
          "2023-02-01T00:00:00-05:00",
          "2023-02-02T00:00:00-05:00",
          "2023-02-03T00:00:00-05:00",
          "2023-02-06T00:00:00-05:00",
          "2023-02-07T00:00:00-05:00",
          "2023-02-08T00:00:00-05:00",
          "2023-02-09T00:00:00-05:00",
          "2023-02-10T00:00:00-05:00",
          "2023-02-13T00:00:00-05:00",
          "2023-02-14T00:00:00-05:00",
          "2023-02-15T00:00:00-05:00",
          "2023-02-16T00:00:00-05:00",
          "2023-02-17T00:00:00-05:00",
          "2023-02-21T00:00:00-05:00",
          "2023-02-22T00:00:00-05:00",
          "2023-02-23T00:00:00-05:00",
          "2023-02-24T00:00:00-05:00",
          "2023-02-27T00:00:00-05:00",
          "2023-02-28T00:00:00-05:00",
          "2023-03-01T00:00:00-05:00",
          "2023-03-02T00:00:00-05:00",
          "2023-03-03T00:00:00-05:00",
          "2023-03-06T00:00:00-05:00",
          "2023-03-07T00:00:00-05:00",
          "2023-03-08T00:00:00-05:00",
          "2023-03-09T00:00:00-05:00",
          "2023-03-10T00:00:00-05:00",
          "2023-03-13T00:00:00-04:00",
          "2023-03-14T00:00:00-04:00",
          "2023-03-15T00:00:00-04:00",
          "2023-03-16T00:00:00-04:00",
          "2023-03-17T00:00:00-04:00",
          "2023-03-20T00:00:00-04:00",
          "2023-03-21T00:00:00-04:00",
          "2023-03-22T00:00:00-04:00",
          "2023-03-23T00:00:00-04:00",
          "2023-03-24T00:00:00-04:00",
          "2023-03-27T00:00:00-04:00",
          "2023-03-28T00:00:00-04:00",
          "2023-03-29T00:00:00-04:00",
          "2023-03-30T00:00:00-04:00",
          "2023-03-31T00:00:00-04:00",
          "2023-04-03T00:00:00-04:00",
          "2023-04-04T00:00:00-04:00",
          "2023-04-05T00:00:00-04:00",
          "2023-04-06T00:00:00-04:00",
          "2023-04-10T00:00:00-04:00",
          "2023-04-11T00:00:00-04:00",
          "2023-04-12T00:00:00-04:00",
          "2023-04-13T00:00:00-04:00",
          "2023-04-14T00:00:00-04:00",
          "2023-04-17T00:00:00-04:00",
          "2023-04-18T00:00:00-04:00",
          "2023-04-19T00:00:00-04:00",
          "2023-04-20T00:00:00-04:00",
          "2023-04-21T00:00:00-04:00",
          "2023-04-24T00:00:00-04:00",
          "2023-04-25T00:00:00-04:00",
          "2023-04-26T00:00:00-04:00",
          "2023-04-27T00:00:00-04:00",
          "2023-04-28T00:00:00-04:00",
          "2023-05-01T00:00:00-04:00",
          "2023-05-02T00:00:00-04:00",
          "2023-05-03T00:00:00-04:00",
          "2023-05-04T00:00:00-04:00",
          "2023-05-05T00:00:00-04:00",
          "2023-05-08T00:00:00-04:00",
          "2023-05-09T00:00:00-04:00",
          "2023-05-10T00:00:00-04:00",
          "2023-05-11T00:00:00-04:00",
          "2023-05-12T00:00:00-04:00",
          "2023-05-15T00:00:00-04:00",
          "2023-05-16T00:00:00-04:00",
          "2023-05-17T00:00:00-04:00",
          "2023-05-18T00:00:00-04:00",
          "2023-05-19T00:00:00-04:00",
          "2023-05-22T00:00:00-04:00",
          "2023-05-23T00:00:00-04:00",
          "2023-05-24T00:00:00-04:00",
          "2023-05-25T00:00:00-04:00",
          "2023-05-26T00:00:00-04:00",
          "2023-05-30T00:00:00-04:00",
          "2023-05-31T00:00:00-04:00",
          "2023-06-01T00:00:00-04:00",
          "2023-06-02T00:00:00-04:00",
          "2023-06-05T00:00:00-04:00",
          "2023-06-06T00:00:00-04:00",
          "2023-06-07T00:00:00-04:00",
          "2023-06-08T00:00:00-04:00",
          "2023-06-09T00:00:00-04:00",
          "2023-06-12T00:00:00-04:00",
          "2023-06-13T00:00:00-04:00",
          "2023-06-14T00:00:00-04:00",
          "2023-06-15T00:00:00-04:00",
          "2023-06-16T00:00:00-04:00",
          "2023-06-20T00:00:00-04:00",
          "2023-06-21T00:00:00-04:00",
          "2023-06-22T00:00:00-04:00",
          "2023-06-23T00:00:00-04:00",
          "2023-06-26T00:00:00-04:00",
          "2023-06-27T00:00:00-04:00",
          "2023-06-28T00:00:00-04:00",
          "2023-06-29T00:00:00-04:00",
          "2023-06-30T00:00:00-04:00",
          "2023-07-03T00:00:00-04:00",
          "2023-07-05T00:00:00-04:00",
          "2023-07-06T00:00:00-04:00",
          "2023-07-07T00:00:00-04:00",
          "2023-07-10T00:00:00-04:00",
          "2023-07-11T00:00:00-04:00",
          "2023-07-12T00:00:00-04:00",
          "2023-07-13T00:00:00-04:00",
          "2023-07-14T00:00:00-04:00",
          "2023-07-17T00:00:00-04:00",
          "2023-07-18T00:00:00-04:00",
          "2023-07-19T00:00:00-04:00",
          "2023-07-20T00:00:00-04:00",
          "2023-07-21T00:00:00-04:00",
          "2023-07-24T00:00:00-04:00",
          "2023-07-25T00:00:00-04:00",
          "2023-07-26T00:00:00-04:00",
          "2023-07-27T00:00:00-04:00",
          "2023-07-28T00:00:00-04:00",
          "2023-07-31T00:00:00-04:00"
         ],
         "xaxis": "x",
         "y": [
          278.7716979980469,
          277.2246398925781,
          277.1370544433594,
          279.3750305175781,
          278.7814636230469,
          281.71026611328125,
          281.65191650390625,
          280.5523986816406,
          278.71343994140625,
          279.2095947265625,
          281.99249267578125,
          284.950439453125,
          286.65325927734375,
          285.17425537109375,
          283.42919921875,
          289.3175048828125,
          296.7168884277344,
          296.9996337890625,
          295.0206298828125,
          294.4259948730469,
          291.5792541503906,
          292.19342041015625,
          295.96624755859375,
          294.2992248535156,
          294.2504577636719,
          293.5874938964844,
          293.5778503417969,
          292.6418762207031,
          292.6711120605469,
          289.7854919433594,
          288.2841796875,
          289.5320129394531,
          292.26171875,
          297.1653747558594,
          297.55535888671875,
          292.3396911621094,
          286.9095153808594,
          287.39703369140625,
          291.08203125,
          292.0374450683594,
          291.832763671875,
          286.7827453613281,
          276.4002380371094,
          276.8682556152344,
          274.8404846191406,
          281.8401184082031,
          276.00054931640625,
          281.5086669921875,
          285.7494201660156,
          287.44573974609375,
          287.44573974609375,
          286.84130859375,
          285.5252380371094,
          288.8690490722656,
          295.1473083496094,
          296.5706787109375,
          299.5733642578125,
          300.48974609375,
          299.6903381347656,
          302.95623779296875,
          301.39642333984375,
          300.39227294921875,
          302.3224792480469,
          315.0545349121094,
          316.2049255371094,
          323.29241943359375,
          321.098876953125,
          324.76446533203125,
          325.6126403808594,
          327.9913330078125,
          327.620849609375,
          328.52752685546875,
          327.51361083984375,
          322.4929504394531,
          324.08203125,
          328.2643127441406,
          327.6306457519531,
          330.9842834472656,
          331.2088623046875,
          333.3087463378906,
          335.1057434082031,
          331.90228271484375,
          329.8024597167969,
          330.0270690917969,
          321.9890441894531,
          328.7770080566406,
          322.87786865234375,
          322.3797607421875,
          321.8034973144531,
          315.4747314453125,
          318.5805358886719,
          327.1069030761719,
          327.15570068359375,
          325.32928466796875,
          334.54913330078125,
          331.4822998046875,
          320.6803283691406,
          326.8431396484375,
          317.32061767578125,
          316.2462463378906,
          312.4469909667969,
          319.6548767089844,
          325.4269714355469,
          326.8822326660156,
          334.461181640625,
          333.2892150878906,
          333.9728698730469,
          331.40423583984375,
          328.47418212890625,
          326.9407958984375,
          321.3347473144531,
          308.9993591308594,
          306.55767822265625,
          306.7139892578125,
          306.9385681152344,
          307.632080078125,
          310.8452453613281,
          297.6894836425781,
          302.9635314941406,
          295.5896911621094,
          296.2537536621094,
          294.56414794921875,
          289.1240539550781,
          289.4561767578125,
          281.7599792480469,
          289.78826904296875,
          292.8452453613281,
          301.06878662109375,
          303.72540283203125,
          301.55712890625,
          306.1474914550781,
          294.2223205566406,
          298.80291748046875,
          293.9293212890625,
          297.45513916015625,
          303.9499816894531,
          295.32598876953125,
          288.1572265625,
          288.11810302734375,
          293.4605407714844,
          293.11798095703125,
          284.5348815917969,
          281.79449462890625,
          281.58892822265625,
          274.2977294921875,
          288.3126220703125,
          290.9747009277344,
          292.4231262207031,
          288.6649169921875,
          293.7933044433594,
          289.6142578125,
          283.6833801269531,
          272.96673583984375,
          269.971923828125,
          282.3523864746094,
          279.50433349609375,
          274.10205078125,
          270.5493469238281,
          281.0311584472656,
          288.1168518066406,
          288.9292297363281,
          294.0281066894531,
          292.78521728515625,
          297.580810546875,
          293.1081848144531,
          297.61993408203125,
          297.2089538574219,
          304.079345703125,
          308.6889343261719,
          307.1719665527344,
          301.74029541015625,
          302.8266296386719,
          308.2583312988281,
          304.2554931640625,
          293.11798095703125,
          294.9481201171875,
          290.6418762207031,
          279.1814270019531,
          276.0495910644531,
          281.49114990234375,
          273.8670654296875,
          274.54241943359375,
          279.2205505371094,
          280.2579650878906,
          274.82623291015625,
          268.19073486328125,
          274.73822021484375,
          264.4619445800781,
          277.1849060058594,
          283.4583435058594,
          271.60638427734375,
          278.4082946777344,
          275.77557373046875,
          283.80084228515625,
          271.44000244140625,
          268.8758239746094,
          258.942138671875,
          263.7572326660156,
          254.99795532226562,
          249.90875244140625,
          255.55580139160156,
          255.92771911621094,
          261.1343688964844,
          249.24501037597656,
          248.3228759765625,
          247.75393676757812,
          255.6899871826172,
          254.67958068847656,
          257.52435302734375,
          260.840087890625,
          268.0403747558594,
          266.6964416503906,
          267.2359924316406,
          269.35491943359375,
          264.88165283203125,
          263.6358337402344,
          267.31451416015625,
          265.2642517089844,
          259.7511901855469,
          248.17575073242188,
          237.64993286132812,
          239.83750915527344,
          246.96913146972656,
          240.30836486816406,
          242.93736267089844,
          248.91146850585938,
          248.31309509277344,
          253.93405151367188,
          262.6058349609375,
          259.8492736816406,
          251.59934997558594,
          255.3074188232422,
          251.9426727294922,
          254.64028930664062,
          257.84808349609375,
          261.1441650390625,
          263.2925720214844,
          262.5665588378906,
          259.4765930175781,
          248.84280395507812,
          247.91087341308594,
          249.24501037597656,
          251.8347625732422,
          249.41177368164062,
          254.59132385253906,
          257.2791748046875,
          259.8002624511719,
          255.405517578125,
          253.9045867919922,
          247.1064910888672,
          263.62603759765625,
          271.15008544921875,
          275.397705078125,
          272.71966552734375,
          269.59033203125,
          277.0947265625,
          278.2522888183594,
          277.5263977050781,
          274.98565673828125,
          276.9279479980469,
          283.657470703125,
          281.5581359863281,
          286.3551025390625,
          287.88543701171875,
          287.139892578125,
          286.3829345703125,
          285.25244140625,
          281.3005676269531,
          273.0429382324219,
          271.755126953125,
          271.11614990234375,
          274.1242980957031,
          263.546630859375,
          260.7351379394531,
          258.5133361816406,
          257.0387878417969,
          255.98690795898438,
          251.72052001953125,
          248.9581298828125,
          253.71609497070312,
          254.13877868652344,
          259.9781188964844,
          262.13104248046875,
          247.719482421875,
          247.945556640625,
          241.22149658203125,
          240.5923309326172,
          240.37606811523438,
          238.34117126464844,
          234.9004669189453,
          236.89605712890625,
          233.887939453125,
          233.42587280273438,
          232.4034881591797,
          236.9845428466797,
          233.4750213623047,
          228.95298767089844,
          236.66012573242188,
          244.6621856689453,
          244.97677612304688,
          242.6075897216797,
          230.27029418945312,
          225.36485290527344,
          221.58995056152344,
          221.92416381835938,
          230.27029418945312,
          224.6865234375,
          233.5045166015625,
          234.4580841064453,
          232.4723358154297,
          232.1479034423828,
          238.01673889160156,
          243.05979919433594,
          246.41200256347656,
          227.3997802734375,
          222.90721130371094,
          231.87266540527344,
          228.19606018066406,
          224.30316162109375,
          216.3699188232422,
          210.61904907226562,
          217.6380615234375,
          224.00823974609375,
          224.9912567138672,
          220.70518493652344,
          238.86215209960938,
          242.92218017578125,
          237.4564208984375,
          237.86927795410156,
          238.30303955078125,
          238.25375366210938,
          237.80023193359375,
          238.61851501464844,
          241.55625915527344,
          244.0701141357422,
          243.98138427734375,
          238.33262634277344,
          236.9228973388672,
          251.5229034423828,
          251.07931518554688,
          251.40464782714844,
          246.65296936035156,
          241.64495849609375,
          240.90560913085938,
          243.89266967773438,
          241.94073486328125,
          248.9302215576172,
          253.27769470214844,
          253.5734405517578,
          245.47982788085938,
          241.2210693359375,
          237.0411834716797,
          238.3720703125,
          240.96473693847656,
          234.813232421875,
          235.34555053710938,
          233.6006622314453,
          231.20510864257812,
          237.59326171875,
          236.42010498046875,
          236.1835174560547,
          225.85211181640625,
          219.15835571289062,
          221.74119567871094,
          223.900146484375,
          225.60565185546875,
          232.4275360107422,
          235.12869262695312,
          235.83848571777344,
          236.942626953125,
          232.46694946289062,
          228.64195251464844,
          236.814453125,
          239.14097595214844,
          238.608642578125,
          237.19891357421875,
          244.48416137695312,
          244.6418914794922,
          239.2691650390625,
          244.29684448242188,
          249.1668243408203,
          260.8488464355469,
          254.6874237060547,
          253.1298370361328,
          263.766845703125,
          262.9486389160156,
          259.8826599121094,
          259.37005615234375,
          267.47357177734375,
          268.3115234375,
          266.16693115234375,
          259.0808410644531,
          255.03872680664062,
          249.7118377685547,
          248.56541442871094,
          251.78724670410156,
          246.30223083496094,
          247.23121643066406,
          246.4998779296875,
          243.38677978515625,
          248.1700897216797,
          252.30116271972656,
          253.8626708984375,
          251.1745147705078,
          250.72976684570312,
          249.36595153808594,
          245.67959594726562,
          250.94717407226562,
          257.7367858886719,
          262.3323059082031,
          272.96636962890625,
          276.1585388183594,
          269.0428161621094,
          270.5746765136719,
          269.10211181640625,
          274.4092712402344,
          277.28521728515625,
          273.144287109375,
          272.00775146484375,
          277.2259216308594,
          280.7244567871094,
          284.9246520996094,
          283.86724853515625,
          283.8177795410156,
          281.0110168457031,
          288.1860656738281,
          286.001953125,
          279.5187072753906,
          280.1710205078125,
          286.4466552734375,
          282.78997802734375,
          285.4188232421875,
          284.9938659667969,
          285.07293701171875,
          282.7602844238281,
          282.4144287109375,
          278.47113037109375,
          272.19549560546875,
          291.9118957519531,
          301.2611389160156,
          303.6627197265625,
          301.9826354980469,
          301.8343811035156,
          300.836181640625,
          301.8343811035156,
          307.0130310058594,
          305.0364074707031,
          303.4057312011719,
          308.6535949707031,
          306.4793395996094,
          305.3526916503906,
          305.83697509765625,
          308.0903015136719,
          311.002197265625,
          315.4790344238281,
          315.3007507324219,
          318.1136474609375,
          312.2501525878906,
          310.8536376953125,
          322.8083801269531,
          329.7118835449219,
          328.0478820800781,
          325.25482177734375,
          329.40478515625,
          332.1978759765625,
          332.7327575683594,
          330.4942932128906,
          320.2926330566406,
          322.1546936035156,
          323.67010498046875,
          328.6817932128906,
          331.0984802246094,
          334.1193542480469,
          344.776611328125,
          339.0617370605469,
          334.8226013183594,
          330.37542724609375,
          336.46673583984375,
          331.8215026855469,
          325.46282958984375,
          331.3758239746094,
          332.64361572265625,
          331.8511962890625,
          337.288818359375,
          334.76312255859375,
          334.921630859375,
          338.0118713378906,
          334.00048828125,
          328.6619567871094,
          329.2958679199219,
          333.980712890625,
          339.3885498046875,
          341.9439392089844,
          342.42926025390625,
          356.057861328125,
          351.69000244140625,
          343.55841064453125,
          340.4879455566406,
          341.815185546875,
          347.6291809082031,
          334.5452575683594,
          327.56256103515625,
          335.1395263671875,
          332.71295166015625
         ],
         "yaxis": "y"
        },
        {
         "name": "Volume",
         "type": "bar",
         "x": [
          "2021-07-29T00:00:00-04:00",
          "2021-07-30T00:00:00-04:00",
          "2021-08-02T00:00:00-04:00",
          "2021-08-03T00:00:00-04:00",
          "2021-08-04T00:00:00-04:00",
          "2021-08-05T00:00:00-04:00",
          "2021-08-06T00:00:00-04:00",
          "2021-08-09T00:00:00-04:00",
          "2021-08-10T00:00:00-04:00",
          "2021-08-11T00:00:00-04:00",
          "2021-08-12T00:00:00-04:00",
          "2021-08-13T00:00:00-04:00",
          "2021-08-16T00:00:00-04:00",
          "2021-08-17T00:00:00-04:00",
          "2021-08-18T00:00:00-04:00",
          "2021-08-19T00:00:00-04:00",
          "2021-08-20T00:00:00-04:00",
          "2021-08-23T00:00:00-04:00",
          "2021-08-24T00:00:00-04:00",
          "2021-08-25T00:00:00-04:00",
          "2021-08-26T00:00:00-04:00",
          "2021-08-27T00:00:00-04:00",
          "2021-08-30T00:00:00-04:00",
          "2021-08-31T00:00:00-04:00",
          "2021-09-01T00:00:00-04:00",
          "2021-09-02T00:00:00-04:00",
          "2021-09-03T00:00:00-04:00",
          "2021-09-07T00:00:00-04:00",
          "2021-09-08T00:00:00-04:00",
          "2021-09-09T00:00:00-04:00",
          "2021-09-10T00:00:00-04:00",
          "2021-09-13T00:00:00-04:00",
          "2021-09-14T00:00:00-04:00",
          "2021-09-15T00:00:00-04:00",
          "2021-09-16T00:00:00-04:00",
          "2021-09-17T00:00:00-04:00",
          "2021-09-20T00:00:00-04:00",
          "2021-09-21T00:00:00-04:00",
          "2021-09-22T00:00:00-04:00",
          "2021-09-23T00:00:00-04:00",
          "2021-09-24T00:00:00-04:00",
          "2021-09-27T00:00:00-04:00",
          "2021-09-28T00:00:00-04:00",
          "2021-09-29T00:00:00-04:00",
          "2021-09-30T00:00:00-04:00",
          "2021-10-01T00:00:00-04:00",
          "2021-10-04T00:00:00-04:00",
          "2021-10-05T00:00:00-04:00",
          "2021-10-06T00:00:00-04:00",
          "2021-10-07T00:00:00-04:00",
          "2021-10-08T00:00:00-04:00",
          "2021-10-11T00:00:00-04:00",
          "2021-10-12T00:00:00-04:00",
          "2021-10-13T00:00:00-04:00",
          "2021-10-14T00:00:00-04:00",
          "2021-10-15T00:00:00-04:00",
          "2021-10-18T00:00:00-04:00",
          "2021-10-19T00:00:00-04:00",
          "2021-10-20T00:00:00-04:00",
          "2021-10-21T00:00:00-04:00",
          "2021-10-22T00:00:00-04:00",
          "2021-10-25T00:00:00-04:00",
          "2021-10-26T00:00:00-04:00",
          "2021-10-27T00:00:00-04:00",
          "2021-10-28T00:00:00-04:00",
          "2021-10-29T00:00:00-04:00",
          "2021-11-01T00:00:00-04:00",
          "2021-11-02T00:00:00-04:00",
          "2021-11-03T00:00:00-04:00",
          "2021-11-04T00:00:00-04:00",
          "2021-11-05T00:00:00-04:00",
          "2021-11-08T00:00:00-05:00",
          "2021-11-09T00:00:00-05:00",
          "2021-11-10T00:00:00-05:00",
          "2021-11-11T00:00:00-05:00",
          "2021-11-12T00:00:00-05:00",
          "2021-11-15T00:00:00-05:00",
          "2021-11-16T00:00:00-05:00",
          "2021-11-17T00:00:00-05:00",
          "2021-11-18T00:00:00-05:00",
          "2021-11-19T00:00:00-05:00",
          "2021-11-22T00:00:00-05:00",
          "2021-11-23T00:00:00-05:00",
          "2021-11-24T00:00:00-05:00",
          "2021-11-26T00:00:00-05:00",
          "2021-11-29T00:00:00-05:00",
          "2021-11-30T00:00:00-05:00",
          "2021-12-01T00:00:00-05:00",
          "2021-12-02T00:00:00-05:00",
          "2021-12-03T00:00:00-05:00",
          "2021-12-06T00:00:00-05:00",
          "2021-12-07T00:00:00-05:00",
          "2021-12-08T00:00:00-05:00",
          "2021-12-09T00:00:00-05:00",
          "2021-12-10T00:00:00-05:00",
          "2021-12-13T00:00:00-05:00",
          "2021-12-14T00:00:00-05:00",
          "2021-12-15T00:00:00-05:00",
          "2021-12-16T00:00:00-05:00",
          "2021-12-17T00:00:00-05:00",
          "2021-12-20T00:00:00-05:00",
          "2021-12-21T00:00:00-05:00",
          "2021-12-22T00:00:00-05:00",
          "2021-12-23T00:00:00-05:00",
          "2021-12-27T00:00:00-05:00",
          "2021-12-28T00:00:00-05:00",
          "2021-12-29T00:00:00-05:00",
          "2021-12-30T00:00:00-05:00",
          "2021-12-31T00:00:00-05:00",
          "2022-01-03T00:00:00-05:00",
          "2022-01-04T00:00:00-05:00",
          "2022-01-05T00:00:00-05:00",
          "2022-01-06T00:00:00-05:00",
          "2022-01-07T00:00:00-05:00",
          "2022-01-10T00:00:00-05:00",
          "2022-01-11T00:00:00-05:00",
          "2022-01-12T00:00:00-05:00",
          "2022-01-13T00:00:00-05:00",
          "2022-01-14T00:00:00-05:00",
          "2022-01-18T00:00:00-05:00",
          "2022-01-19T00:00:00-05:00",
          "2022-01-20T00:00:00-05:00",
          "2022-01-21T00:00:00-05:00",
          "2022-01-24T00:00:00-05:00",
          "2022-01-25T00:00:00-05:00",
          "2022-01-26T00:00:00-05:00",
          "2022-01-27T00:00:00-05:00",
          "2022-01-28T00:00:00-05:00",
          "2022-01-31T00:00:00-05:00",
          "2022-02-01T00:00:00-05:00",
          "2022-02-02T00:00:00-05:00",
          "2022-02-03T00:00:00-05:00",
          "2022-02-04T00:00:00-05:00",
          "2022-02-07T00:00:00-05:00",
          "2022-02-08T00:00:00-05:00",
          "2022-02-09T00:00:00-05:00",
          "2022-02-10T00:00:00-05:00",
          "2022-02-11T00:00:00-05:00",
          "2022-02-14T00:00:00-05:00",
          "2022-02-15T00:00:00-05:00",
          "2022-02-16T00:00:00-05:00",
          "2022-02-17T00:00:00-05:00",
          "2022-02-18T00:00:00-05:00",
          "2022-02-22T00:00:00-05:00",
          "2022-02-23T00:00:00-05:00",
          "2022-02-24T00:00:00-05:00",
          "2022-02-25T00:00:00-05:00",
          "2022-02-28T00:00:00-05:00",
          "2022-03-01T00:00:00-05:00",
          "2022-03-02T00:00:00-05:00",
          "2022-03-03T00:00:00-05:00",
          "2022-03-04T00:00:00-05:00",
          "2022-03-07T00:00:00-05:00",
          "2022-03-08T00:00:00-05:00",
          "2022-03-09T00:00:00-05:00",
          "2022-03-10T00:00:00-05:00",
          "2022-03-11T00:00:00-05:00",
          "2022-03-14T00:00:00-04:00",
          "2022-03-15T00:00:00-04:00",
          "2022-03-16T00:00:00-04:00",
          "2022-03-17T00:00:00-04:00",
          "2022-03-18T00:00:00-04:00",
          "2022-03-21T00:00:00-04:00",
          "2022-03-22T00:00:00-04:00",
          "2022-03-23T00:00:00-04:00",
          "2022-03-24T00:00:00-04:00",
          "2022-03-25T00:00:00-04:00",
          "2022-03-28T00:00:00-04:00",
          "2022-03-29T00:00:00-04:00",
          "2022-03-30T00:00:00-04:00",
          "2022-03-31T00:00:00-04:00",
          "2022-04-01T00:00:00-04:00",
          "2022-04-04T00:00:00-04:00",
          "2022-04-05T00:00:00-04:00",
          "2022-04-06T00:00:00-04:00",
          "2022-04-07T00:00:00-04:00",
          "2022-04-08T00:00:00-04:00",
          "2022-04-11T00:00:00-04:00",
          "2022-04-12T00:00:00-04:00",
          "2022-04-13T00:00:00-04:00",
          "2022-04-14T00:00:00-04:00",
          "2022-04-18T00:00:00-04:00",
          "2022-04-19T00:00:00-04:00",
          "2022-04-20T00:00:00-04:00",
          "2022-04-21T00:00:00-04:00",
          "2022-04-22T00:00:00-04:00",
          "2022-04-25T00:00:00-04:00",
          "2022-04-26T00:00:00-04:00",
          "2022-04-27T00:00:00-04:00",
          "2022-04-28T00:00:00-04:00",
          "2022-04-29T00:00:00-04:00",
          "2022-05-02T00:00:00-04:00",
          "2022-05-03T00:00:00-04:00",
          "2022-05-04T00:00:00-04:00",
          "2022-05-05T00:00:00-04:00",
          "2022-05-06T00:00:00-04:00",
          "2022-05-09T00:00:00-04:00",
          "2022-05-10T00:00:00-04:00",
          "2022-05-11T00:00:00-04:00",
          "2022-05-12T00:00:00-04:00",
          "2022-05-13T00:00:00-04:00",
          "2022-05-16T00:00:00-04:00",
          "2022-05-17T00:00:00-04:00",
          "2022-05-18T00:00:00-04:00",
          "2022-05-19T00:00:00-04:00",
          "2022-05-20T00:00:00-04:00",
          "2022-05-23T00:00:00-04:00",
          "2022-05-24T00:00:00-04:00",
          "2022-05-25T00:00:00-04:00",
          "2022-05-26T00:00:00-04:00",
          "2022-05-27T00:00:00-04:00",
          "2022-05-31T00:00:00-04:00",
          "2022-06-01T00:00:00-04:00",
          "2022-06-02T00:00:00-04:00",
          "2022-06-03T00:00:00-04:00",
          "2022-06-06T00:00:00-04:00",
          "2022-06-07T00:00:00-04:00",
          "2022-06-08T00:00:00-04:00",
          "2022-06-09T00:00:00-04:00",
          "2022-06-10T00:00:00-04:00",
          "2022-06-13T00:00:00-04:00",
          "2022-06-14T00:00:00-04:00",
          "2022-06-15T00:00:00-04:00",
          "2022-06-16T00:00:00-04:00",
          "2022-06-17T00:00:00-04:00",
          "2022-06-21T00:00:00-04:00",
          "2022-06-22T00:00:00-04:00",
          "2022-06-23T00:00:00-04:00",
          "2022-06-24T00:00:00-04:00",
          "2022-06-27T00:00:00-04:00",
          "2022-06-28T00:00:00-04:00",
          "2022-06-29T00:00:00-04:00",
          "2022-06-30T00:00:00-04:00",
          "2022-07-01T00:00:00-04:00",
          "2022-07-05T00:00:00-04:00",
          "2022-07-06T00:00:00-04:00",
          "2022-07-07T00:00:00-04:00",
          "2022-07-08T00:00:00-04:00",
          "2022-07-11T00:00:00-04:00",
          "2022-07-12T00:00:00-04:00",
          "2022-07-13T00:00:00-04:00",
          "2022-07-14T00:00:00-04:00",
          "2022-07-15T00:00:00-04:00",
          "2022-07-18T00:00:00-04:00",
          "2022-07-19T00:00:00-04:00",
          "2022-07-20T00:00:00-04:00",
          "2022-07-21T00:00:00-04:00",
          "2022-07-22T00:00:00-04:00",
          "2022-07-25T00:00:00-04:00",
          "2022-07-26T00:00:00-04:00",
          "2022-07-27T00:00:00-04:00",
          "2022-07-28T00:00:00-04:00",
          "2022-07-29T00:00:00-04:00",
          "2022-08-01T00:00:00-04:00",
          "2022-08-02T00:00:00-04:00",
          "2022-08-03T00:00:00-04:00",
          "2022-08-04T00:00:00-04:00",
          "2022-08-05T00:00:00-04:00",
          "2022-08-08T00:00:00-04:00",
          "2022-08-09T00:00:00-04:00",
          "2022-08-10T00:00:00-04:00",
          "2022-08-11T00:00:00-04:00",
          "2022-08-12T00:00:00-04:00",
          "2022-08-15T00:00:00-04:00",
          "2022-08-16T00:00:00-04:00",
          "2022-08-17T00:00:00-04:00",
          "2022-08-18T00:00:00-04:00",
          "2022-08-19T00:00:00-04:00",
          "2022-08-22T00:00:00-04:00",
          "2022-08-23T00:00:00-04:00",
          "2022-08-24T00:00:00-04:00",
          "2022-08-25T00:00:00-04:00",
          "2022-08-26T00:00:00-04:00",
          "2022-08-29T00:00:00-04:00",
          "2022-08-30T00:00:00-04:00",
          "2022-08-31T00:00:00-04:00",
          "2022-09-01T00:00:00-04:00",
          "2022-09-02T00:00:00-04:00",
          "2022-09-06T00:00:00-04:00",
          "2022-09-07T00:00:00-04:00",
          "2022-09-08T00:00:00-04:00",
          "2022-09-09T00:00:00-04:00",
          "2022-09-12T00:00:00-04:00",
          "2022-09-13T00:00:00-04:00",
          "2022-09-14T00:00:00-04:00",
          "2022-09-15T00:00:00-04:00",
          "2022-09-16T00:00:00-04:00",
          "2022-09-19T00:00:00-04:00",
          "2022-09-20T00:00:00-04:00",
          "2022-09-21T00:00:00-04:00",
          "2022-09-22T00:00:00-04:00",
          "2022-09-23T00:00:00-04:00",
          "2022-09-26T00:00:00-04:00",
          "2022-09-27T00:00:00-04:00",
          "2022-09-28T00:00:00-04:00",
          "2022-09-29T00:00:00-04:00",
          "2022-09-30T00:00:00-04:00",
          "2022-10-03T00:00:00-04:00",
          "2022-10-04T00:00:00-04:00",
          "2022-10-05T00:00:00-04:00",
          "2022-10-06T00:00:00-04:00",
          "2022-10-07T00:00:00-04:00",
          "2022-10-10T00:00:00-04:00",
          "2022-10-11T00:00:00-04:00",
          "2022-10-12T00:00:00-04:00",
          "2022-10-13T00:00:00-04:00",
          "2022-10-14T00:00:00-04:00",
          "2022-10-17T00:00:00-04:00",
          "2022-10-18T00:00:00-04:00",
          "2022-10-19T00:00:00-04:00",
          "2022-10-20T00:00:00-04:00",
          "2022-10-21T00:00:00-04:00",
          "2022-10-24T00:00:00-04:00",
          "2022-10-25T00:00:00-04:00",
          "2022-10-26T00:00:00-04:00",
          "2022-10-27T00:00:00-04:00",
          "2022-10-28T00:00:00-04:00",
          "2022-10-31T00:00:00-04:00",
          "2022-11-01T00:00:00-04:00",
          "2022-11-02T00:00:00-04:00",
          "2022-11-03T00:00:00-04:00",
          "2022-11-04T00:00:00-04:00",
          "2022-11-07T00:00:00-05:00",
          "2022-11-08T00:00:00-05:00",
          "2022-11-09T00:00:00-05:00",
          "2022-11-10T00:00:00-05:00",
          "2022-11-11T00:00:00-05:00",
          "2022-11-14T00:00:00-05:00",
          "2022-11-15T00:00:00-05:00",
          "2022-11-16T00:00:00-05:00",
          "2022-11-17T00:00:00-05:00",
          "2022-11-18T00:00:00-05:00",
          "2022-11-21T00:00:00-05:00",
          "2022-11-22T00:00:00-05:00",
          "2022-11-23T00:00:00-05:00",
          "2022-11-25T00:00:00-05:00",
          "2022-11-28T00:00:00-05:00",
          "2022-11-29T00:00:00-05:00",
          "2022-11-30T00:00:00-05:00",
          "2022-12-01T00:00:00-05:00",
          "2022-12-02T00:00:00-05:00",
          "2022-12-05T00:00:00-05:00",
          "2022-12-06T00:00:00-05:00",
          "2022-12-07T00:00:00-05:00",
          "2022-12-08T00:00:00-05:00",
          "2022-12-09T00:00:00-05:00",
          "2022-12-12T00:00:00-05:00",
          "2022-12-13T00:00:00-05:00",
          "2022-12-14T00:00:00-05:00",
          "2022-12-15T00:00:00-05:00",
          "2022-12-16T00:00:00-05:00",
          "2022-12-19T00:00:00-05:00",
          "2022-12-20T00:00:00-05:00",
          "2022-12-21T00:00:00-05:00",
          "2022-12-22T00:00:00-05:00",
          "2022-12-23T00:00:00-05:00",
          "2022-12-27T00:00:00-05:00",
          "2022-12-28T00:00:00-05:00",
          "2022-12-29T00:00:00-05:00",
          "2022-12-30T00:00:00-05:00",
          "2023-01-03T00:00:00-05:00",
          "2023-01-04T00:00:00-05:00",
          "2023-01-05T00:00:00-05:00",
          "2023-01-06T00:00:00-05:00",
          "2023-01-09T00:00:00-05:00",
          "2023-01-10T00:00:00-05:00",
          "2023-01-11T00:00:00-05:00",
          "2023-01-12T00:00:00-05:00",
          "2023-01-13T00:00:00-05:00",
          "2023-01-17T00:00:00-05:00",
          "2023-01-18T00:00:00-05:00",
          "2023-01-19T00:00:00-05:00",
          "2023-01-20T00:00:00-05:00",
          "2023-01-23T00:00:00-05:00",
          "2023-01-24T00:00:00-05:00",
          "2023-01-25T00:00:00-05:00",
          "2023-01-26T00:00:00-05:00",
          "2023-01-27T00:00:00-05:00",
          "2023-01-30T00:00:00-05:00",
          "2023-01-31T00:00:00-05:00",
          "2023-02-01T00:00:00-05:00",
          "2023-02-02T00:00:00-05:00",
          "2023-02-03T00:00:00-05:00",
          "2023-02-06T00:00:00-05:00",
          "2023-02-07T00:00:00-05:00",
          "2023-02-08T00:00:00-05:00",
          "2023-02-09T00:00:00-05:00",
          "2023-02-10T00:00:00-05:00",
          "2023-02-13T00:00:00-05:00",
          "2023-02-14T00:00:00-05:00",
          "2023-02-15T00:00:00-05:00",
          "2023-02-16T00:00:00-05:00",
          "2023-02-17T00:00:00-05:00",
          "2023-02-21T00:00:00-05:00",
          "2023-02-22T00:00:00-05:00",
          "2023-02-23T00:00:00-05:00",
          "2023-02-24T00:00:00-05:00",
          "2023-02-27T00:00:00-05:00",
          "2023-02-28T00:00:00-05:00",
          "2023-03-01T00:00:00-05:00",
          "2023-03-02T00:00:00-05:00",
          "2023-03-03T00:00:00-05:00",
          "2023-03-06T00:00:00-05:00",
          "2023-03-07T00:00:00-05:00",
          "2023-03-08T00:00:00-05:00",
          "2023-03-09T00:00:00-05:00",
          "2023-03-10T00:00:00-05:00",
          "2023-03-13T00:00:00-04:00",
          "2023-03-14T00:00:00-04:00",
          "2023-03-15T00:00:00-04:00",
          "2023-03-16T00:00:00-04:00",
          "2023-03-17T00:00:00-04:00",
          "2023-03-20T00:00:00-04:00",
          "2023-03-21T00:00:00-04:00",
          "2023-03-22T00:00:00-04:00",
          "2023-03-23T00:00:00-04:00",
          "2023-03-24T00:00:00-04:00",
          "2023-03-27T00:00:00-04:00",
          "2023-03-28T00:00:00-04:00",
          "2023-03-29T00:00:00-04:00",
          "2023-03-30T00:00:00-04:00",
          "2023-03-31T00:00:00-04:00",
          "2023-04-03T00:00:00-04:00",
          "2023-04-04T00:00:00-04:00",
          "2023-04-05T00:00:00-04:00",
          "2023-04-06T00:00:00-04:00",
          "2023-04-10T00:00:00-04:00",
          "2023-04-11T00:00:00-04:00",
          "2023-04-12T00:00:00-04:00",
          "2023-04-13T00:00:00-04:00",
          "2023-04-14T00:00:00-04:00",
          "2023-04-17T00:00:00-04:00",
          "2023-04-18T00:00:00-04:00",
          "2023-04-19T00:00:00-04:00",
          "2023-04-20T00:00:00-04:00",
          "2023-04-21T00:00:00-04:00",
          "2023-04-24T00:00:00-04:00",
          "2023-04-25T00:00:00-04:00",
          "2023-04-26T00:00:00-04:00",
          "2023-04-27T00:00:00-04:00",
          "2023-04-28T00:00:00-04:00",
          "2023-05-01T00:00:00-04:00",
          "2023-05-02T00:00:00-04:00",
          "2023-05-03T00:00:00-04:00",
          "2023-05-04T00:00:00-04:00",
          "2023-05-05T00:00:00-04:00",
          "2023-05-08T00:00:00-04:00",
          "2023-05-09T00:00:00-04:00",
          "2023-05-10T00:00:00-04:00",
          "2023-05-11T00:00:00-04:00",
          "2023-05-12T00:00:00-04:00",
          "2023-05-15T00:00:00-04:00",
          "2023-05-16T00:00:00-04:00",
          "2023-05-17T00:00:00-04:00",
          "2023-05-18T00:00:00-04:00",
          "2023-05-19T00:00:00-04:00",
          "2023-05-22T00:00:00-04:00",
          "2023-05-23T00:00:00-04:00",
          "2023-05-24T00:00:00-04:00",
          "2023-05-25T00:00:00-04:00",
          "2023-05-26T00:00:00-04:00",
          "2023-05-30T00:00:00-04:00",
          "2023-05-31T00:00:00-04:00",
          "2023-06-01T00:00:00-04:00",
          "2023-06-02T00:00:00-04:00",
          "2023-06-05T00:00:00-04:00",
          "2023-06-06T00:00:00-04:00",
          "2023-06-07T00:00:00-04:00",
          "2023-06-08T00:00:00-04:00",
          "2023-06-09T00:00:00-04:00",
          "2023-06-12T00:00:00-04:00",
          "2023-06-13T00:00:00-04:00",
          "2023-06-14T00:00:00-04:00",
          "2023-06-15T00:00:00-04:00",
          "2023-06-16T00:00:00-04:00",
          "2023-06-20T00:00:00-04:00",
          "2023-06-21T00:00:00-04:00",
          "2023-06-22T00:00:00-04:00",
          "2023-06-23T00:00:00-04:00",
          "2023-06-26T00:00:00-04:00",
          "2023-06-27T00:00:00-04:00",
          "2023-06-28T00:00:00-04:00",
          "2023-06-29T00:00:00-04:00",
          "2023-06-30T00:00:00-04:00",
          "2023-07-03T00:00:00-04:00",
          "2023-07-05T00:00:00-04:00",
          "2023-07-06T00:00:00-04:00",
          "2023-07-07T00:00:00-04:00",
          "2023-07-10T00:00:00-04:00",
          "2023-07-11T00:00:00-04:00",
          "2023-07-12T00:00:00-04:00",
          "2023-07-13T00:00:00-04:00",
          "2023-07-14T00:00:00-04:00",
          "2023-07-17T00:00:00-04:00",
          "2023-07-18T00:00:00-04:00",
          "2023-07-19T00:00:00-04:00",
          "2023-07-20T00:00:00-04:00",
          "2023-07-21T00:00:00-04:00",
          "2023-07-24T00:00:00-04:00",
          "2023-07-25T00:00:00-04:00",
          "2023-07-26T00:00:00-04:00",
          "2023-07-27T00:00:00-04:00",
          "2023-07-28T00:00:00-04:00",
          "2023-07-31T00:00:00-04:00"
         ],
         "xaxis": "x",
         "y": [
          18168300,
          20944800,
          16267400,
          17879000,
          16191300,
          13900200,
          16589300,
          16117600,
          18616600,
          13955900,
          14561300,
          18249000,
          22507600,
          20075300,
          21813000,
          29850500,
          40817600,
          22830200,
          18175800,
          20006100,
          17666100,
          22605700,
          16348100,
          26285300,
          18983800,
          16285600,
          14747900,
          17180400,
          15046800,
          19927000,
          19633400,
          23652900,
          21853400,
          28356300,
          19550800,
          41372500,
          38278700,
          22364100,
          26626300,
          18604600,
          14999000,
          23571700,
          43186200,
          26353700,
          32343600,
          30086300,
          31350700,
          24993000,
          28002600,
          20430500,
          17685700,
          19298600,
          17974100,
          23416300,
          27262900,
          25384800,
          22729300,
          17682100,
          16537100,
          16918100,
          17449300,
          17554500,
          28107300,
          52588700,
          26297900,
          34766000,
          27073200,
          26487100,
          21500100,
          23992200,
          22570100,
          20897000,
          21307400,
          25500900,
          16849800,
          23831000,
          16723000,
          20886800,
          19053400,
          22463500,
          21963400,
          31031100,
          30427600,
          21661300,
          24217200,
          28563500,
          42885600,
          33337600,
          30766000,
          41779300,
          30032600,
          31021900,
          24761000,
          22214200,
          38095700,
          28899400,
          44438700,
          35381100,
          35034800,
          47750300,
          28326500,
          24740600,
          24831500,
          19617800,
          19947000,
          15661500,
          15042000,
          15994500,
          18000800,
          28865100,
          32674300,
          40054300,
          39646100,
          32720000,
          44289500,
          29386800,
          34372200,
          45366000,
          39846400,
          42333200,
          45933900,
          35380700,
          57984400,
          85731500,
          72848600,
          90428900,
          53481300,
          49743700,
          46444500,
          40950400,
          36636000,
          43730000,
          35096500,
          28533300,
          32421200,
          31284700,
          45386200,
          39175600,
          36359500,
          27058300,
          29982100,
          32461600,
          34264000,
          41736100,
          37811200,
          56989700,
          32546700,
          34627500,
          31217800,
          31873000,
          27314500,
          32356500,
          43157200,
          48159500,
          35204500,
          30628000,
          27209300,
          30660700,
          34245100,
          37826300,
          30816600,
          43390600,
          28351200,
          27599700,
          25715400,
          24484500,
          22566500,
          29578200,
          30393400,
          28163600,
          33422100,
          27110500,
          24289600,
          23156700,
          40110400,
          31411200,
          24361900,
          34569300,
          30966700,
          21907200,
          28221600,
          20778000,
          22297700,
          22906700,
          29454600,
          29405800,
          35678900,
          46518400,
          63477700,
          33646600,
          37073900,
          35151100,
          25978600,
          33599300,
          43260400,
          37780300,
          47726000,
          39336400,
          48975900,
          51033800,
          34925100,
          32550900,
          28828800,
          31356000,
          32692300,
          39199300,
          33175400,
          29043900,
          28547900,
          25002100,
          26910800,
          37827700,
          25292200,
          44008200,
          28059000,
          22400300,
          22860700,
          17372300,
          26439700,
          31422800,
          46135800,
          28651500,
          33111700,
          33169200,
          43084800,
          29928300,
          25939900,
          25861400,
          33923200,
          24615100,
          27295500,
          20069800,
          31730900,
          22837700,
          22941000,
          23824400,
          20859900,
          19658800,
          19455200,
          35868500,
          29497400,
          25102800,
          29774100,
          20975000,
          25012600,
          22788300,
          22404700,
          21881300,
          21056000,
          39348000,
          45994000,
          33459300,
          32152800,
          21539600,
          22754200,
          23518900,
          18098700,
          16774600,
          18739200,
          23405200,
          24687800,
          20065900,
          22619700,
          18085700,
          18102900,
          18253400,
          17186200,
          20570000,
          25061100,
          17527400,
          18137000,
          16583400,
          27549300,
          20338500,
          22767100,
          24791800,
          23263400,
          22855400,
          21328200,
          24126700,
          20319900,
          22084700,
          18747700,
          33353300,
          23913000,
          31530900,
          39791800,
          26826900,
          26660300,
          28625600,
          31061200,
          34176000,
          27694200,
          27018700,
          29029700,
          27484200,
          35694800,
          28880400,
          34888400,
          20347100,
          20239900,
          37769600,
          29743600,
          30474000,
          21903900,
          42551800,
          30198600,
          28142300,
          26329600,
          19985700,
          21811000,
          26299700,
          24911200,
          34775500,
          82543200,
          40424600,
          40647700,
          28357300,
          30592300,
          38407000,
          36633900,
          36789100,
          33498000,
          28192500,
          27852900,
          46268000,
          34620200,
          31123300,
          31390100,
          24093300,
          23123500,
          27613500,
          26394700,
          19665700,
          19508500,
          9200800,
          24778200,
          17956300,
          47594200,
          26041500,
          21528500,
          23435300,
          22463700,
          20481500,
          22611800,
          20609700,
          30665100,
          42196900,
          35410900,
          35560400,
          86102000,
          29696400,
          25150800,
          23690600,
          28651700,
          21207000,
          16688600,
          17457100,
          19770700,
          21938500,
          25740000,
          50623400,
          39585600,
          43613600,
          27369800,
          27033900,
          28669300,
          27269500,
          21333300,
          29831300,
          30028700,
          28623000,
          35389800,
          31934000,
          40234400,
          66526600,
          33454500,
          26498900,
          25867400,
          26541100,
          31259900,
          39940400,
          29077300,
          22518000,
          50841400,
          54686000,
          42375100,
          25818500,
          44630900,
          37047900,
          28922400,
          29603600,
          30000100,
          28397400,
          22491100,
          29219100,
          24990900,
          21190000,
          22491000,
          27565300,
          24808200,
          30760100,
          24109800,
          21473200,
          17340200,
          26653400,
          28333900,
          33339700,
          33620300,
          46028000,
          54768800,
          69527400,
          43466600,
          34558700,
          34873300,
          36610900,
          28172000,
          26840200,
          21878600,
          25087000,
          25053400,
          32766000,
          24883300,
          25824300,
          22064800,
          29770300,
          23103000,
          27276600,
          27403400,
          24222700,
          20987900,
          23836200,
          20161800,
          17150300,
          23244400,
          21676400,
          26611000,
          45772200,
          64599200,
          46462600,
          36446700,
          21294100,
          26404400,
          22360800,
          22519900,
          28181200,
          21318600,
          21340800,
          30078000,
          31680200,
          19758100,
          16336500,
          26730300,
          24315000,
          27276000,
          27529500,
          24115700,
          30797200,
          23384900,
          43301700,
          36630600,
          29503100,
          45950600,
          26773900,
          25864000,
          21307100,
          20396200,
          40717100,
          23277700,
          22514900,
          24260300,
          22951300,
          26003800,
          38899100,
          46533600,
          26375400,
          25117800,
          23556800,
          23084700,
          21520600,
          24354100,
          20259500,
          16997000,
          26823800,
          12508700,
          18172400,
          28161200,
          21185300,
          32791400,
          26698200,
          29995300,
          20567200,
          28302200,
          20363900,
          64872700,
          39732900,
          33778400,
          69368900,
          26678100,
          41637700,
          58383700,
          39635300,
          28484900,
          25446000
         ],
         "yaxis": "y2"
        }
       ],
       "layout": {
        "template": {
         "data": {
          "bar": [
           {
            "error_x": {
             "color": "#2a3f5f"
            },
            "error_y": {
             "color": "#2a3f5f"
            },
            "marker": {
             "line": {
              "color": "#E5ECF6",
              "width": 0.5
             },
             "pattern": {
              "fillmode": "overlay",
              "size": 10,
              "solidity": 0.2
             }
            },
            "type": "bar"
           }
          ],
          "barpolar": [
           {
            "marker": {
             "line": {
              "color": "#E5ECF6",
              "width": 0.5
             },
             "pattern": {
              "fillmode": "overlay",
              "size": 10,
              "solidity": 0.2
             }
            },
            "type": "barpolar"
           }
          ],
          "carpet": [
           {
            "aaxis": {
             "endlinecolor": "#2a3f5f",
             "gridcolor": "white",
             "linecolor": "white",
             "minorgridcolor": "white",
             "startlinecolor": "#2a3f5f"
            },
            "baxis": {
             "endlinecolor": "#2a3f5f",
             "gridcolor": "white",
             "linecolor": "white",
             "minorgridcolor": "white",
             "startlinecolor": "#2a3f5f"
            },
            "type": "carpet"
           }
          ],
          "choropleth": [
           {
            "colorbar": {
             "outlinewidth": 0,
             "ticks": ""
            },
            "type": "choropleth"
           }
          ],
          "contour": [
           {
            "colorbar": {
             "outlinewidth": 0,
             "ticks": ""
            },
            "colorscale": [
             [
              0,
              "#0d0887"
             ],
             [
              0.1111111111111111,
              "#46039f"
             ],
             [
              0.2222222222222222,
              "#7201a8"
             ],
             [
              0.3333333333333333,
              "#9c179e"
             ],
             [
              0.4444444444444444,
              "#bd3786"
             ],
             [
              0.5555555555555556,
              "#d8576b"
             ],
             [
              0.6666666666666666,
              "#ed7953"
             ],
             [
              0.7777777777777778,
              "#fb9f3a"
             ],
             [
              0.8888888888888888,
              "#fdca26"
             ],
             [
              1,
              "#f0f921"
             ]
            ],
            "type": "contour"
           }
          ],
          "contourcarpet": [
           {
            "colorbar": {
             "outlinewidth": 0,
             "ticks": ""
            },
            "type": "contourcarpet"
           }
          ],
          "heatmap": [
           {
            "colorbar": {
             "outlinewidth": 0,
             "ticks": ""
            },
            "colorscale": [
             [
              0,
              "#0d0887"
             ],
             [
              0.1111111111111111,
              "#46039f"
             ],
             [
              0.2222222222222222,
              "#7201a8"
             ],
             [
              0.3333333333333333,
              "#9c179e"
             ],
             [
              0.4444444444444444,
              "#bd3786"
             ],
             [
              0.5555555555555556,
              "#d8576b"
             ],
             [
              0.6666666666666666,
              "#ed7953"
             ],
             [
              0.7777777777777778,
              "#fb9f3a"
             ],
             [
              0.8888888888888888,
              "#fdca26"
             ],
             [
              1,
              "#f0f921"
             ]
            ],
            "type": "heatmap"
           }
          ],
          "heatmapgl": [
           {
            "colorbar": {
             "outlinewidth": 0,
             "ticks": ""
            },
            "colorscale": [
             [
              0,
              "#0d0887"
             ],
             [
              0.1111111111111111,
              "#46039f"
             ],
             [
              0.2222222222222222,
              "#7201a8"
             ],
             [
              0.3333333333333333,
              "#9c179e"
             ],
             [
              0.4444444444444444,
              "#bd3786"
             ],
             [
              0.5555555555555556,
              "#d8576b"
             ],
             [
              0.6666666666666666,
              "#ed7953"
             ],
             [
              0.7777777777777778,
              "#fb9f3a"
             ],
             [
              0.8888888888888888,
              "#fdca26"
             ],
             [
              1,
              "#f0f921"
             ]
            ],
            "type": "heatmapgl"
           }
          ],
          "histogram": [
           {
            "marker": {
             "pattern": {
              "fillmode": "overlay",
              "size": 10,
              "solidity": 0.2
             }
            },
            "type": "histogram"
           }
          ],
          "histogram2d": [
           {
            "colorbar": {
             "outlinewidth": 0,
             "ticks": ""
            },
            "colorscale": [
             [
              0,
              "#0d0887"
             ],
             [
              0.1111111111111111,
              "#46039f"
             ],
             [
              0.2222222222222222,
              "#7201a8"
             ],
             [
              0.3333333333333333,
              "#9c179e"
             ],
             [
              0.4444444444444444,
              "#bd3786"
             ],
             [
              0.5555555555555556,
              "#d8576b"
             ],
             [
              0.6666666666666666,
              "#ed7953"
             ],
             [
              0.7777777777777778,
              "#fb9f3a"
             ],
             [
              0.8888888888888888,
              "#fdca26"
             ],
             [
              1,
              "#f0f921"
             ]
            ],
            "type": "histogram2d"
           }
          ],
          "histogram2dcontour": [
           {
            "colorbar": {
             "outlinewidth": 0,
             "ticks": ""
            },
            "colorscale": [
             [
              0,
              "#0d0887"
             ],
             [
              0.1111111111111111,
              "#46039f"
             ],
             [
              0.2222222222222222,
              "#7201a8"
             ],
             [
              0.3333333333333333,
              "#9c179e"
             ],
             [
              0.4444444444444444,
              "#bd3786"
             ],
             [
              0.5555555555555556,
              "#d8576b"
             ],
             [
              0.6666666666666666,
              "#ed7953"
             ],
             [
              0.7777777777777778,
              "#fb9f3a"
             ],
             [
              0.8888888888888888,
              "#fdca26"
             ],
             [
              1,
              "#f0f921"
             ]
            ],
            "type": "histogram2dcontour"
           }
          ],
          "mesh3d": [
           {
            "colorbar": {
             "outlinewidth": 0,
             "ticks": ""
            },
            "type": "mesh3d"
           }
          ],
          "parcoords": [
           {
            "line": {
             "colorbar": {
              "outlinewidth": 0,
              "ticks": ""
             }
            },
            "type": "parcoords"
           }
          ],
          "pie": [
           {
            "automargin": true,
            "type": "pie"
           }
          ],
          "scatter": [
           {
            "fillpattern": {
             "fillmode": "overlay",
             "size": 10,
             "solidity": 0.2
            },
            "type": "scatter"
           }
          ],
          "scatter3d": [
           {
            "line": {
             "colorbar": {
              "outlinewidth": 0,
              "ticks": ""
             }
            },
            "marker": {
             "colorbar": {
              "outlinewidth": 0,
              "ticks": ""
             }
            },
            "type": "scatter3d"
           }
          ],
          "scattercarpet": [
           {
            "marker": {
             "colorbar": {
              "outlinewidth": 0,
              "ticks": ""
             }
            },
            "type": "scattercarpet"
           }
          ],
          "scattergeo": [
           {
            "marker": {
             "colorbar": {
              "outlinewidth": 0,
              "ticks": ""
             }
            },
            "type": "scattergeo"
           }
          ],
          "scattergl": [
           {
            "marker": {
             "colorbar": {
              "outlinewidth": 0,
              "ticks": ""
             }
            },
            "type": "scattergl"
           }
          ],
          "scattermapbox": [
           {
            "marker": {
             "colorbar": {
              "outlinewidth": 0,
              "ticks": ""
             }
            },
            "type": "scattermapbox"
           }
          ],
          "scatterpolar": [
           {
            "marker": {
             "colorbar": {
              "outlinewidth": 0,
              "ticks": ""
             }
            },
            "type": "scatterpolar"
           }
          ],
          "scatterpolargl": [
           {
            "marker": {
             "colorbar": {
              "outlinewidth": 0,
              "ticks": ""
             }
            },
            "type": "scatterpolargl"
           }
          ],
          "scatterternary": [
           {
            "marker": {
             "colorbar": {
              "outlinewidth": 0,
              "ticks": ""
             }
            },
            "type": "scatterternary"
           }
          ],
          "surface": [
           {
            "colorbar": {
             "outlinewidth": 0,
             "ticks": ""
            },
            "colorscale": [
             [
              0,
              "#0d0887"
             ],
             [
              0.1111111111111111,
              "#46039f"
             ],
             [
              0.2222222222222222,
              "#7201a8"
             ],
             [
              0.3333333333333333,
              "#9c179e"
             ],
             [
              0.4444444444444444,
              "#bd3786"
             ],
             [
              0.5555555555555556,
              "#d8576b"
             ],
             [
              0.6666666666666666,
              "#ed7953"
             ],
             [
              0.7777777777777778,
              "#fb9f3a"
             ],
             [
              0.8888888888888888,
              "#fdca26"
             ],
             [
              1,
              "#f0f921"
             ]
            ],
            "type": "surface"
           }
          ],
          "table": [
           {
            "cells": {
             "fill": {
              "color": "#EBF0F8"
             },
             "line": {
              "color": "white"
             }
            },
            "header": {
             "fill": {
              "color": "#C8D4E3"
             },
             "line": {
              "color": "white"
             }
            },
            "type": "table"
           }
          ]
         },
         "layout": {
          "annotationdefaults": {
           "arrowcolor": "#2a3f5f",
           "arrowhead": 0,
           "arrowwidth": 1
          },
          "autotypenumbers": "strict",
          "coloraxis": {
           "colorbar": {
            "outlinewidth": 0,
            "ticks": ""
           }
          },
          "colorscale": {
           "diverging": [
            [
             0,
             "#8e0152"
            ],
            [
             0.1,
             "#c51b7d"
            ],
            [
             0.2,
             "#de77ae"
            ],
            [
             0.3,
             "#f1b6da"
            ],
            [
             0.4,
             "#fde0ef"
            ],
            [
             0.5,
             "#f7f7f7"
            ],
            [
             0.6,
             "#e6f5d0"
            ],
            [
             0.7,
             "#b8e186"
            ],
            [
             0.8,
             "#7fbc41"
            ],
            [
             0.9,
             "#4d9221"
            ],
            [
             1,
             "#276419"
            ]
           ],
           "sequential": [
            [
             0,
             "#0d0887"
            ],
            [
             0.1111111111111111,
             "#46039f"
            ],
            [
             0.2222222222222222,
             "#7201a8"
            ],
            [
             0.3333333333333333,
             "#9c179e"
            ],
            [
             0.4444444444444444,
             "#bd3786"
            ],
            [
             0.5555555555555556,
             "#d8576b"
            ],
            [
             0.6666666666666666,
             "#ed7953"
            ],
            [
             0.7777777777777778,
             "#fb9f3a"
            ],
            [
             0.8888888888888888,
             "#fdca26"
            ],
            [
             1,
             "#f0f921"
            ]
           ],
           "sequentialminus": [
            [
             0,
             "#0d0887"
            ],
            [
             0.1111111111111111,
             "#46039f"
            ],
            [
             0.2222222222222222,
             "#7201a8"
            ],
            [
             0.3333333333333333,
             "#9c179e"
            ],
            [
             0.4444444444444444,
             "#bd3786"
            ],
            [
             0.5555555555555556,
             "#d8576b"
            ],
            [
             0.6666666666666666,
             "#ed7953"
            ],
            [
             0.7777777777777778,
             "#fb9f3a"
            ],
            [
             0.8888888888888888,
             "#fdca26"
            ],
            [
             1,
             "#f0f921"
            ]
           ]
          },
          "colorway": [
           "#636efa",
           "#EF553B",
           "#00cc96",
           "#ab63fa",
           "#FFA15A",
           "#19d3f3",
           "#FF6692",
           "#B6E880",
           "#FF97FF",
           "#FECB52"
          ],
          "font": {
           "color": "#2a3f5f"
          },
          "geo": {
           "bgcolor": "white",
           "lakecolor": "white",
           "landcolor": "#E5ECF6",
           "showlakes": true,
           "showland": true,
           "subunitcolor": "white"
          },
          "hoverlabel": {
           "align": "left"
          },
          "hovermode": "closest",
          "mapbox": {
           "style": "light"
          },
          "paper_bgcolor": "white",
          "plot_bgcolor": "#E5ECF6",
          "polar": {
           "angularaxis": {
            "gridcolor": "white",
            "linecolor": "white",
            "ticks": ""
           },
           "bgcolor": "#E5ECF6",
           "radialaxis": {
            "gridcolor": "white",
            "linecolor": "white",
            "ticks": ""
           }
          },
          "scene": {
           "xaxis": {
            "backgroundcolor": "#E5ECF6",
            "gridcolor": "white",
            "gridwidth": 2,
            "linecolor": "white",
            "showbackground": true,
            "ticks": "",
            "zerolinecolor": "white"
           },
           "yaxis": {
            "backgroundcolor": "#E5ECF6",
            "gridcolor": "white",
            "gridwidth": 2,
            "linecolor": "white",
            "showbackground": true,
            "ticks": "",
            "zerolinecolor": "white"
           },
           "zaxis": {
            "backgroundcolor": "#E5ECF6",
            "gridcolor": "white",
            "gridwidth": 2,
            "linecolor": "white",
            "showbackground": true,
            "ticks": "",
            "zerolinecolor": "white"
           }
          },
          "shapedefaults": {
           "line": {
            "color": "#2a3f5f"
           }
          },
          "ternary": {
           "aaxis": {
            "gridcolor": "white",
            "linecolor": "white",
            "ticks": ""
           },
           "baxis": {
            "gridcolor": "white",
            "linecolor": "white",
            "ticks": ""
           },
           "bgcolor": "#E5ECF6",
           "caxis": {
            "gridcolor": "white",
            "linecolor": "white",
            "ticks": ""
           }
          },
          "title": {
           "x": 0.05
          },
          "xaxis": {
           "automargin": true,
           "gridcolor": "white",
           "linecolor": "white",
           "ticks": "",
           "title": {
            "standoff": 15
           },
           "zerolinecolor": "white",
           "zerolinewidth": 2
          },
          "yaxis": {
           "automargin": true,
           "gridcolor": "white",
           "linecolor": "white",
           "ticks": "",
           "title": {
            "standoff": 15
           },
           "zerolinecolor": "white",
           "zerolinewidth": 2
          }
         }
        },
        "xaxis": {
         "anchor": "y",
         "domain": [
          0,
          0.94
         ]
        },
        "yaxis": {
         "anchor": "x",
         "domain": [
          0,
          1
         ]
        },
        "yaxis2": {
         "anchor": "x",
         "overlaying": "y",
         "side": "right"
        }
       }
      }
     },
     "metadata": {},
     "output_type": "display_data"
    }
   ],
   "source": [
    "fig2 = make_subplots(specs=[[{\"secondary_y\": True}]])\n",
    "fig2.add_trace(go.Scatter(x=df.index,y=df['Close'],name='Price'),secondary_y=False)\n",
    "fig2.add_trace(go.Bar(x=df.index,y=df['Volume'],name='Volume'),secondary_y=True)\n",
    "fig2.show()"
   ]
  },
  {
   "cell_type": "markdown",
   "id": "8c8dc872",
   "metadata": {},
   "source": [
    "### Make sure we can import our course library"
   ]
  },
  {
   "cell_type": "code",
   "execution_count": 50,
   "id": "e73d8bb3",
   "metadata": {},
   "outputs": [],
   "source": [
    "import option"
   ]
  },
  {
   "cell_type": "code",
   "execution_count": 51,
   "id": "6574f344",
   "metadata": {},
   "outputs": [],
   "source": [
    "import utils"
   ]
  },
  {
   "cell_type": "code",
   "execution_count": 52,
   "id": "bd804861",
   "metadata": {},
   "outputs": [],
   "source": [
    "opt = option.Option()"
   ]
  },
  {
   "cell_type": "code",
   "execution_count": null,
   "id": "ff1284f5",
   "metadata": {},
   "outputs": [],
   "source": [
    "print(opt.verbose, opt.start_date, opt.end_date, opt.tickers)"
   ]
  },
  {
   "cell_type": "code",
   "execution_count": 56,
   "id": "bf32c49f",
   "metadata": {},
   "outputs": [
    {
     "name": "stdout",
     "output_type": "stream",
     "text": [
      "Getting Financial Data for MSFT\n"
     ]
    }
   ],
   "source": [
    "ticker = 'MSFT'\n",
    "yfinancials = utils.MyYahooFinancials(ticker)\n",
    "print(f\"Getting Financial Data for {ticker}\")\n",
    "# print(f\"{ticker} Number of Shares Outstanding is {yfinancials.get_num_shares_outstanding()}\")"
   ]
  }
 ],
 "metadata": {
  "kernelspec": {
   "display_name": "Python 3 (ipykernel)",
   "language": "python",
   "name": "python3"
  },
  "language_info": {
   "codemirror_mode": {
    "name": "ipython",
    "version": 3
   },
   "file_extension": ".py",
   "mimetype": "text/x-python",
   "name": "python",
   "nbconvert_exporter": "python",
   "pygments_lexer": "ipython3",
   "version": "3.10.13"
  }
 },
 "nbformat": 4,
 "nbformat_minor": 5
}
