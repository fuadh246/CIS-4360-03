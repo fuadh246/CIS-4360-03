{
 "cells": [
  {
   "cell_type": "markdown",
   "metadata": {},
   "source": [
    "### CIS 4360 Bond Math Examples"
   ]
  },
  {
   "cell_type": "markdown",
   "metadata": {},
   "source": [
    "### Instructor Alex Pang"
   ]
  },
  {
   "cell_type": "code",
   "execution_count": 4,
   "metadata": {},
   "outputs": [],
   "source": [
    "import math\n",
    "import datetime\n",
    "import pandas as pd\n",
    "import numpy as np\n",
    "import seaborn as sns\n",
    "import math"
   ]
  },
  {
   "cell_type": "markdown",
   "metadata": {},
   "source": [
    "##### Effect of the compounding frequency on the value of $100 at the end of 1 year for a given interest rate per annum"
   ]
  },
  {
   "cell_type": "markdown",
   "metadata": {},
   "source": [
    "Remember the formula from the class presentation\n",
    "$$ A (1+R)^n $$\n",
    "\n",
    "If the rate is compounded m times per year, then the terminal value after T years will be \n",
    "$$ A (1+\\frac{R}{m})^{mT}$$\n",
    "\n",
    "Converting between different periodicity, m and n\n",
    "$$ ( 1+ \\frac{R_m}{m})^m = (1+\\frac{R_n}{n})^n $$"
   ]
  },
  {
   "cell_type": "markdown",
   "metadata": {},
   "source": [
    "**Example: Table 4.1 in Chapter 4**"
   ]
  },
  {
   "cell_type": "markdown",
   "metadata": {},
   "source": [
    "![table4.1](./table4.1.png)"
   ]
  },
  {
   "cell_type": "code",
   "execution_count": 5,
   "metadata": {},
   "outputs": [],
   "source": [
    "# define Principal and R\n",
    "A = 100\n",
    "R = 0.1"
   ]
  },
  {
   "cell_type": "code",
   "execution_count": 6,
   "metadata": {},
   "outputs": [
    {
     "name": "stdout",
     "output_type": "stream",
     "text": [
      "1 110.0\n",
      "2 110.25\n",
      "4 110.38129\n",
      "12 110.47131\n",
      "52 110.50648\n",
      "365 110.51558\n",
      "720 110.51632\n",
      "1200 110.51663\n"
     ]
    }
   ],
   "source": [
    "for m in [1, 2, 4, 12, 52, 365,720,1200]:\n",
    "    FV = A * math.pow( 1 + R/m, m)\n",
    "    print(m, round(FV, 5))"
   ]
  },
  {
   "cell_type": "code",
   "execution_count": 7,
   "metadata": {},
   "outputs": [
    {
     "name": "stdout",
     "output_type": "stream",
     "text": [
      "110.51709180756477\n"
     ]
    }
   ],
   "source": [
    "# Continous Compounding\n",
    "FV = A*math.exp(R)\n",
    "print(FV)"
   ]
  },
  {
   "cell_type": "markdown",
   "metadata": {},
   "source": [
    "# What about after 2 years?"
   ]
  },
  {
   "cell_type": "code",
   "execution_count": 8,
   "metadata": {},
   "outputs": [
    {
     "name": "stdout",
     "output_type": "stream",
     "text": [
      "1 121.0\n",
      "2 121.55063\n",
      "4 121.84029\n",
      "12 122.0391\n",
      "52 122.11682\n",
      "365 122.13693\n",
      "720 122.13858\n",
      "1200 122.13926\n",
      "continous 122.14027581601698\n"
     ]
    }
   ],
   "source": [
    "n = 2\n",
    "for m in [1, 2, 4, 12, 52, 365, 720, 1200]:\n",
    "    FV = A * math.pow( 1 + R/m, m * n)\n",
    "    print(m, round(FV, 5))\n",
    "# continous\n",
    "print(\"continous\", A*math.exp(R*2))"
   ]
  },
  {
   "cell_type": "markdown",
   "metadata": {},
   "source": [
    "**Example What is the equivalent quarterly compound interest rate of a semi-annual rate of 5%?**"
   ]
  },
  {
   "cell_type": "code",
   "execution_count": 9,
   "metadata": {},
   "outputs": [
    {
     "name": "stdout",
     "output_type": "stream",
     "text": [
      "4.969134626331773\n"
     ]
    }
   ],
   "source": [
    "I = math.pow(1 + 0.05/2, 2)\n",
    "R = 4 * ( math.pow(I, 1/4)-1)\n",
    "print(R*100)"
   ]
  },
  {
   "cell_type": "markdown",
   "metadata": {},
   "source": [
    "##### Continuous Equivalence Rate\n",
    "$$ A e^{R_c T} = A ( 1 + \\frac{R_m}{m})^{mT} $$"
   ]
  },
  {
   "cell_type": "markdown",
   "metadata": {},
   "source": [
    "**Example 4.1 of the textbook:\n",
    "Consider an interest rate that is quoted as 10% per annum with semiannual compounding. What is the equivalent rate with continous compounding**"
   ]
  },
  {
   "cell_type": "code",
   "execution_count": 10,
   "metadata": {},
   "outputs": [
    {
     "name": "stdout",
     "output_type": "stream",
     "text": [
      "9.758032833886409\n"
     ]
    }
   ],
   "source": [
    "R = 2 * np.log(1+ 0.1/2)\n",
    "print(R*100)"
   ]
  },
  {
   "cell_type": "markdown",
   "metadata": {},
   "source": [
    "##### Discount Factor using continous compounding\n",
    "$$ PV = d * FV = e^{-R t} FV $$"
   ]
  },
  {
   "cell_type": "markdown",
   "metadata": {},
   "source": [
    "**Example**\n",
    "Consider a 5% continous compounding rate environment, how much does $100 in 2 years worth today?"
   ]
  },
  {
   "cell_type": "code",
   "execution_count": 11,
   "metadata": {},
   "outputs": [],
   "source": [
    "FV = 100\n",
    "R = 0.05\n",
    "t = 2"
   ]
  },
  {
   "cell_type": "code",
   "execution_count": 12,
   "metadata": {},
   "outputs": [],
   "source": [
    "PV = math.exp(-1 * R * t)*FV"
   ]
  },
  {
   "cell_type": "code",
   "execution_count": 13,
   "metadata": {},
   "outputs": [
    {
     "name": "stdout",
     "output_type": "stream",
     "text": [
      "90.48374180359595\n"
     ]
    }
   ],
   "source": [
    "print(PV)"
   ]
  },
  {
   "cell_type": "code",
   "execution_count": 14,
   "metadata": {},
   "outputs": [],
   "source": [
    "discount_factor = PV/FV"
   ]
  },
  {
   "cell_type": "code",
   "execution_count": 15,
   "metadata": {},
   "outputs": [
    {
     "name": "stdout",
     "output_type": "stream",
     "text": [
      "0.9048374180359595\n"
     ]
    }
   ],
   "source": [
    "print(discount_factor)"
   ]
  },
  {
   "cell_type": "markdown",
   "metadata": {},
   "source": [
    "**Discount Factor is always less than 1**"
   ]
  },
  {
   "cell_type": "code",
   "execution_count": 16,
   "metadata": {},
   "outputs": [
    {
     "name": "stdout",
     "output_type": "stream",
     "text": [
      "[0.0, 0.25, 0.5, 0.75, 1.0, 1.25, 1.5, 1.75, 2.0, 2.25]\n",
      "[1.0, 0.9875778004938814, 0.9753099120283326, 0.9631944177208218, 0.951229424500714, 0.9394130628134758, 0.9277434863285529, 0.9162188716508776, 0.9048374180359595, 0.8935973471085157]\n"
     ]
    }
   ],
   "source": [
    "periods = [n*0.25 for n in range(600)]\n",
    "discount_curve = [ math.exp(-R*t) for t in periods]\n",
    "print(periods[:10])\n",
    "print(discount_curve[:10])"
   ]
  },
  {
   "cell_type": "code",
   "execution_count": 17,
   "metadata": {},
   "outputs": [
    {
     "data": {
      "text/plain": [
       "<AxesSubplot:>"
      ]
     },
     "execution_count": 17,
     "metadata": {},
     "output_type": "execute_result"
    },
    {
     "data": {
      "image/png": "[encoded data removed]",
      "text/plain": [
       "<Figure size 640x480 with 1 Axes>"
      ]
     },
     "metadata": {},
     "output_type": "display_data"
    }
   ],
   "source": [
    "sns.lineplot(x=periods, y=discount_curve)"
   ]
  },
  {
   "cell_type": "markdown",
   "metadata": {},
   "source": [
    "**Example 2: Calculate a 10-year bond with annual 5% coupon paid annual if the interest rate is 6% for any maturity date**"
   ]
  },
  {
   "cell_type": "code",
   "execution_count": 18,
   "metadata": {},
   "outputs": [
    {
     "name": "stdout",
     "output_type": "stream",
     "text": [
      "[50.0, 50.0, 50.0, 50.0, 50.0, 50.0, 50.0, 50.0, 50.0, 50.0]\n",
      "[1, 2, 3, 4, 5, 6, 7, 8, 9, 10]\n",
      "10\n"
     ]
    }
   ],
   "source": [
    "C = 0.05\n",
    "B = 1000\n",
    "y = 0.06\n",
    "N = 10\n",
    "\n",
    "CF = [B * C for i in range(1, N+1)]\n",
    "t  = [i for i in range(1, N+1)]\n",
    "\n",
    "print(CF)\n",
    "print(t)\n",
    "print(len(t))"
   ]
  },
  {
   "cell_type": "code",
   "execution_count": 19,
   "metadata": {},
   "outputs": [
    {
     "name": "stdout",
     "output_type": "stream",
     "text": [
      "[0.9433962264150942, 0.8899964400142398, 0.8396192830323018, 0.7920936632380204, 0.747258172866057, 0.7049605404396764, 0.6650571136223361, 0.6274123713418265, 0.591898463530025, 0.5583947769151179]\n"
     ]
    }
   ],
   "source": [
    "DF =[ 1/math.pow(1+y, i) for i in range(1, N + 1)]\n",
    "print(DF)"
   ]
  },
  {
   "cell_type": "code",
   "execution_count": 20,
   "metadata": {},
   "outputs": [
    {
     "name": "stdout",
     "output_type": "stream",
     "text": [
      "[47.16981132075471, 44.499822000711994, 41.98096415161509, 39.60468316190102, 37.36290864330285, 35.248027021983816, 33.252855681116806, 31.370618567091324, 29.594923176501247, 27.919738845755894]\n"
     ]
    }
   ],
   "source": [
    "PVs = [ CF[i]*DF[i] for i in range(len(CF))]\n",
    "print(PVs)"
   ]
  },
  {
   "cell_type": "code",
   "execution_count": 21,
   "metadata": {},
   "outputs": [],
   "source": [
    "PV_coupon = sum(PVs)"
   ]
  },
  {
   "cell_type": "code",
   "execution_count": 22,
   "metadata": {},
   "outputs": [
    {
     "name": "stdout",
     "output_type": "stream",
     "text": [
      "926.3991294858527\n"
     ]
    }
   ],
   "source": [
    "PV = PV_coupon + B * DF[-1]\n",
    "print(PV)"
   ]
  },
  {
   "cell_type": "markdown",
   "metadata": {},
   "source": [
    "**Example 3: Calculate a 2-year Treasury bond with 8% coupon paid semi-annually if the interest rate is 6% for any maturity date**"
   ]
  },
  {
   "cell_type": "code",
   "execution_count": 23,
   "metadata": {},
   "outputs": [
    {
     "name": "stdout",
     "output_type": "stream",
     "text": [
      "[400.0, 400.0, 400.0, 400.0]\n",
      "[0.5, 1.0, 1.5, 2.0]\n",
      "4\n"
     ]
    }
   ],
   "source": [
    "C = 0.08\n",
    "B = 10000\n",
    "y = 0.06\n",
    "N = 2\n",
    "\n",
    "CF = [B * C/2 for i in range(1, 2*N+1)]\n",
    "t  = [i * 0.5 for i in range(1,2*N+1)]\n",
    "\n",
    "print(CF)\n",
    "print(t)\n",
    "print(len(t))"
   ]
  },
  {
   "cell_type": "code",
   "execution_count": 24,
   "metadata": {},
   "outputs": [
    {
     "name": "stdout",
     "output_type": "stream",
     "text": [
      "[0.970873786407767, 0.9425959091337544, 0.9151416593531596, 0.8884870479156888]\n"
     ]
    }
   ],
   "source": [
    "#DF = [math.exp(-1*y*i) for i in range(1,2*N+1)]\n",
    "DF =[ 1/math.pow(1+y/2, i) for i in range(1, 2 * N + 1)]\n",
    "print(DF)"
   ]
  },
  {
   "cell_type": "code",
   "execution_count": 25,
   "metadata": {},
   "outputs": [
    {
     "name": "stdout",
     "output_type": "stream",
     "text": [
      "[388.3495145631068, 377.03836365350173, 366.05666374126383, 355.3948191662755]\n"
     ]
    }
   ],
   "source": [
    "PVs = [ CF[i]*DF[i] for i in range(len(CF))]\n",
    "print(PVs)"
   ]
  },
  {
   "cell_type": "code",
   "execution_count": 26,
   "metadata": {},
   "outputs": [],
   "source": [
    "PV_coupon = sum(PVs)"
   ]
  },
  {
   "cell_type": "code",
   "execution_count": 27,
   "metadata": {},
   "outputs": [],
   "source": [
    "PV = PV_coupon + B * DF[-1]"
   ]
  },
  {
   "cell_type": "code",
   "execution_count": 28,
   "metadata": {},
   "outputs": [
    {
     "name": "stdout",
     "output_type": "stream",
     "text": [
      "10371.709840281035\n"
     ]
    }
   ],
   "source": [
    "print(PV)"
   ]
  },
  {
   "cell_type": "markdown",
   "metadata": {},
   "source": [
    "**Example 4: Calculate Price of a 5 year bond with 5% interest paid semi-annually at 4.17% yield**"
   ]
  },
  {
   "cell_type": "code",
   "execution_count": 29,
   "metadata": {},
   "outputs": [
    {
     "name": "stdout",
     "output_type": "stream",
     "text": [
      "103.71623730023047\n"
     ]
    }
   ],
   "source": [
    "C = 0.05\n",
    "B = 100\n",
    "y = 0.04168908\n",
    "N = 5\n",
    "\n",
    "CF = [B * C/2 for i in range(1, 2*N+1)]\n",
    "t  = [i * 0.5 for i in range(1,2*N+1)]\n",
    "DF = [ 1/math.pow(1+y/2, i) for i in range(1, 2 * N + 1)]\n",
    "PVs = [ CF[i]*DF[i] for i in range(len(CF))]\n",
    "PV = sum(PVs) + B * DF[-1]\n",
    "print(100*PV/B)"
   ]
  },
  {
   "cell_type": "markdown",
   "metadata": {},
   "source": [
    "##### Bond Price as a function of the discount rate"
   ]
  },
  {
   "cell_type": "code",
   "execution_count": 30,
   "metadata": {},
   "outputs": [],
   "source": [
    "def treasury_bond_price(coupon, yld, n_year):\n",
    "    B = 100\n",
    "    CF = [B * coupon/2 for i in range(1, 2*n_year+1)]\n",
    "    DF = [ 1/math.pow(1+yld/2, i) for i in range(1, 2 * n_year + 1)]\n",
    "    PVs = [ CF[i]*DF[i] for i in range(len(CF))]\n",
    "    PV = sum(PVs) + B * DF[-1]\n",
    "    return(100*PV/B)"
   ]
  },
  {
   "cell_type": "code",
   "execution_count": 31,
   "metadata": {},
   "outputs": [
    {
     "name": "stdout",
     "output_type": "stream",
     "text": [
      "103.71124861191802\n"
     ]
    }
   ],
   "source": [
    "print(treasury_bond_price(0.05, 0.0417, 5))"
   ]
  },
  {
   "cell_type": "code",
   "execution_count": 32,
   "metadata": {},
   "outputs": [],
   "source": [
    "coupon = 0.05\n",
    "n_year = 10\n",
    "ylds = [0.1 * i / 100  for i in range(200)]\n",
    "prices = [treasury_bond_price(coupon, yld, n_year) for yld in ylds]"
   ]
  },
  {
   "cell_type": "code",
   "execution_count": 33,
   "metadata": {},
   "outputs": [
    {
     "data": {
      "text/plain": [
       "<AxesSubplot:>"
      ]
     },
     "execution_count": 33,
     "metadata": {},
     "output_type": "execute_result"
    },
    {
     "data": {
      "image/png": "[encoded data removed]",
      "text/plain": [
       "<Figure size 640x480 with 1 Axes>"
      ]
     },
     "metadata": {},
     "output_type": "display_data"
    }
   ],
   "source": [
    "sns.lineplot(x=ylds, y=prices)"
   ]
  },
  {
   "cell_type": "markdown",
   "metadata": {},
   "source": [
    "**So as interest rate (yields or discount rate) increase, bond price decrease**"
   ]
  },
  {
   "cell_type": "markdown",
   "metadata": {},
   "source": [
    "# Day Count"
   ]
  },
  {
   "cell_type": "code",
   "execution_count": 34,
   "metadata": {},
   "outputs": [],
   "source": [
    "def get_actual360_daycount_frac(start, end):\n",
    "    day_in_year = 360\n",
    "    day_count = (end - start).days\n",
    "    return(day_count / day_in_year)"
   ]
  },
  {
   "cell_type": "code",
   "execution_count": 35,
   "metadata": {},
   "outputs": [],
   "source": [
    "def get_30360_daycount_frac(start, end):\n",
    "    day_in_year = 360\n",
    "    day_count = 360*(end.year - start.year) + 30*(end.month - start.month - 1) + \\\n",
    "                max(0, 30 - start.day) + min(30, end.day)\n",
    "    return(day_count / day_in_year )"
   ]
  },
  {
   "cell_type": "code",
   "execution_count": 36,
   "metadata": {},
   "outputs": [
    {
     "name": "stdout",
     "output_type": "stream",
     "text": [
      "367.0\n"
     ]
    }
   ],
   "source": [
    "d1 = datetime.date(2010, 2, 28)\n",
    "d2 = datetime.date(2011, 3, 5)\n",
    "\n",
    "nday = get_30360_daycount_frac(d1, d2) * 360\n",
    "print(nday)"
   ]
  },
  {
   "cell_type": "code",
   "execution_count": 37,
   "metadata": {},
   "outputs": [],
   "source": [
    "import calendar\n",
    "def get_actualactual_daycount_frac(start_date, end_date):\n",
    "    # leave it as exercise\n",
    "    pass  "
   ]
  },
  {
   "cell_type": "code",
   "execution_count": 38,
   "metadata": {},
   "outputs": [
    {
     "name": "stdout",
     "output_type": "stream",
     "text": [
      "2.7111111111111112\n"
     ]
    }
   ],
   "source": [
    "# example from the book section 6.1\n",
    "coupon = 0.08\n",
    "principal = 100\n",
    "start_date = datetime.date(2009, 3, 1)\n",
    "end_date = datetime.date(2009, 7, 3)\n",
    "\n",
    "# Corporate bond using 30/360\n",
    "interest_earns = principal * coupon * get_30360_daycount_frac(start_date, end_date)\n",
    "print(interest_earns)"
   ]
  },
  {
   "cell_type": "markdown",
   "metadata": {},
   "source": [
    "# Forward Rate"
   ]
  },
  {
   "cell_type": "markdown",
   "metadata": {},
   "source": [
    "### Example Table 4.6"
   ]
  },
  {
   "cell_type": "markdown",
   "metadata": {},
   "source": [
    "![table4.6](./table4.6.png)"
   ]
  },
  {
   "cell_type": "code",
   "execution_count": 39,
   "metadata": {},
   "outputs": [],
   "source": [
    "T1 = 1\n",
    "T2 = 2\n",
    "T3 = 3\n",
    "T4 = 4\n",
    "T5 = 5\n",
    "R1 = 3.0\n",
    "R2 = 4.0\n",
    "R3 = 4.6\n",
    "R4 = 5.0\n",
    "R5 = 5.3"
   ]
  },
  {
   "cell_type": "code",
   "execution_count": 40,
   "metadata": {},
   "outputs": [
    {
     "name": "stdout",
     "output_type": "stream",
     "text": [
      "5.0\n"
     ]
    }
   ],
   "source": [
    "X = math.exp(R2*T2)/math.exp(R1*T1)\n",
    "R12 = math.log(X)/(T2-T1)\n",
    "print(R12)"
   ]
  },
  {
   "cell_type": "code",
   "execution_count": 41,
   "metadata": {},
   "outputs": [
    {
     "name": "stdout",
     "output_type": "stream",
     "text": [
      "5.799999999999999\n"
     ]
    }
   ],
   "source": [
    "X = math.exp(R3*T3)/math.exp(R2*T2)\n",
    "R23 = math.log(X)/(T3-T2)\n",
    "print(R23)"
   ]
  },
  {
   "cell_type": "code",
   "execution_count": 42,
   "metadata": {},
   "outputs": [
    {
     "name": "stdout",
     "output_type": "stream",
     "text": [
      "6.200000000000001\n"
     ]
    }
   ],
   "source": [
    "X = math.exp(R4*T4)/math.exp(R3*T3)\n",
    "R34 = math.log(X)/(T4-T3)\n",
    "print(R34)"
   ]
  },
  {
   "cell_type": "markdown",
   "metadata": {},
   "source": [
    "## Bootstrap (section 4.7 of Hull)"
   ]
  },
  {
   "cell_type": "markdown",
   "metadata": {},
   "source": [
    "![table4.3](./table4.3.png)"
   ]
  },
  {
   "cell_type": "markdown",
   "metadata": {},
   "source": [
    "![table4.4](./table4.4.png)"
   ]
  },
  {
   "cell_type": "code",
   "execution_count": 43,
   "metadata": {},
   "outputs": [],
   "source": [
    "# 100 = 99.6 exp(R * 0.25)\n",
    "# 100 = 99 exp(R * 0.5)\n",
    "R_3m = 100 * math.log(100/99.6) / 0.25\n",
    "R_6m = 100 * math.log(100/99) / 0.5\n",
    "R_12m = 100 * math.log(100/97.8)"
   ]
  },
  {
   "cell_type": "code",
   "execution_count": 44,
   "metadata": {},
   "outputs": [
    {
     "name": "stdout",
     "output_type": "stream",
     "text": [
      "1.6032085590155472 2.0100671707003013 2.2245608947319737\n"
     ]
    }
   ],
   "source": [
    "print(R_3m, R_6m, R_12m)"
   ]
  },
  {
   "cell_type": "code",
   "execution_count": 45,
   "metadata": {
    "scrolled": true
   },
   "outputs": [
    {
     "name": "stdout",
     "output_type": "stream",
     "text": [
      "0.966313725490196\n",
      "2.2844486604668135\n"
     ]
    }
   ],
   "source": [
    "# Now consider the 4th bond (1.5 years), CF are 6months: $2, 1 year $2, 1.5 year: 102\n",
    "# we can set up an equation to solve the R_18m rate\n",
    "# 2 * exp(-R_6m * 0.5) + 2 exp(-R_12m * 1.0) + 102 exp(-R * 1.5 ) = 102.5\n",
    "\n",
    "X = (102.5 - 2 * math.exp(-R_6m * 0.5/100) - 2 * math.exp(-R_12m/100))/102\n",
    "print(X)\n",
    "R_18m = - 100*math.log(X) / 1.5\n",
    "print(R_18m)"
   ]
  },
  {
   "cell_type": "code",
   "execution_count": 46,
   "metadata": {},
   "outputs": [],
   "source": [
    "# Now consider the fifth bond to solve for the rate for 2 years\n",
    "from math import exp, log"
   ]
  },
  {
   "cell_type": "code",
   "execution_count": 47,
   "metadata": {},
   "outputs": [
    {
     "name": "stdout",
     "output_type": "stream",
     "text": [
      "2.416378695338805\n"
     ]
    }
   ],
   "source": [
    "X = (105 - 2.5*exp(-R_6m * 0.5/100) - 2.5 * exp(-R_12m/100) - 2.5 *exp(-R_18m *1.5/100))/102.5\n",
    "R_24m = - 100 * log(X)/2\n",
    "print(R_24m)"
   ]
  },
  {
   "cell_type": "code",
   "execution_count": 48,
   "metadata": {},
   "outputs": [],
   "source": [
    "# Thus we have verified Table 4.4"
   ]
  },
  {
   "cell_type": "code",
   "execution_count": 49,
   "metadata": {},
   "outputs": [],
   "source": [
    "# exp(RT) = 1/(1+y/2)^2"
   ]
  }
 ],
 "metadata": {
  "kernelspec": {
   "display_name": "Python 3 (ipykernel)",
   "language": "python",
   "name": "python3"
  },
  "language_info": {
   "codemirror_mode": {
    "name": "ipython",
    "version": 3
   },
   "file_extension": ".py",
   "mimetype": "text/x-python",
   "name": "python",
   "nbconvert_exporter": "python",
   "pygments_lexer": "ipython3",
   "version": "3.10.13"
  }
 },
 "nbformat": 4,
 "nbformat_minor": 4
}
