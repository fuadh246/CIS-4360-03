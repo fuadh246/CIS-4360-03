{
 "cells": [
  {
   "cell_type": "markdown",
   "metadata": {},
   "source": [
    "### Discounted Cash Flow Model Example"
   ]
  },
  {
   "cell_type": "code",
   "execution_count": 20,
   "metadata": {},
   "outputs": [],
   "source": [
    "import pandas as pd\n",
    "import numpy as np\n",
    "import math"
   ]
  },
  {
   "cell_type": "markdown",
   "metadata": {},
   "source": [
    "https://medium.datadriveninvestor.com/how-to-calculate-intrinsic-value-of-a-stock-aapl-case-study-935fb062004b"
   ]
  },
  {
   "cell_type": "markdown",
   "metadata": {},
   "source": [
    "## First we use the inputs from the blog which leads to a price of $84.88 as of Sept 28, 2020"
   ]
  },
  {
   "cell_type": "code",
   "execution_count": 21,
   "metadata": {},
   "outputs": [],
   "source": [
    "# These are the numbers from the blog which leads to 84.88 as of sometime in Sept 2020\n",
    "\n",
    "FCC = 71706000000\n",
    "current_cash = 93025000000\n",
    "EPS5Y = 0.1246\n",
    "EPS6To10Y = 0.0623\n",
    "EPS10To20Y = 0.04\n",
    "total_debt = 112723000000\n",
    "shares = 17.25 * 10**9\n",
    "WACC = 0.08"
   ]
  },
  {
   "cell_type": "code",
   "execution_count": 22,
   "metadata": {},
   "outputs": [
    {
     "data": {
      "text/plain": [
       "1483898108640.3303"
      ]
     },
     "execution_count": 22,
     "metadata": {},
     "output_type": "execute_result"
    }
   ],
   "source": [
    "DF = 1/(1+ WACC)\n",
    "DCF = 0\n",
    "for i in range(1, 6):\n",
    "    DCF += FCC * (1+ EPS5Y)**i * DF ** i\n",
    "    \n",
    "CF5 = FCC * (1+EPS5Y)**5\n",
    "for i in range(1, 6):\n",
    "    DCF += CF5 * (1+EPS6To10Y)**i * DF ** (i+5)\n",
    "    \n",
    "CF10 = CF5 * (1+EPS6To10Y)**5\n",
    "for i in range(1, 11):\n",
    "    DCF += CF10 * (1+EPS10To20Y)**i * DF **(i + 10)\n",
    "\n",
    "DCF"
   ]
  },
  {
   "cell_type": "code",
   "execution_count": 23,
   "metadata": {},
   "outputs": [
    {
     "name": "stdout",
     "output_type": "stream",
     "text": [
      "1464200108640.3303\n",
      "84.88116571828002\n"
     ]
    }
   ],
   "source": [
    "PV = current_cash - total_debt + DCF\n",
    "fair_price = PV/shares\n",
    "print(PV)\n",
    "print(fair_price)\n"
   ]
  },
  {
   "cell_type": "markdown",
   "metadata": {},
   "source": [
    "## Now we show what happened as of 4/19/2021"
   ]
  },
  {
   "cell_type": "markdown",
   "metadata": {},
   "source": [
    "**Get Free Cash Flow from Yahoo**"
   ]
  },
  {
   "cell_type": "markdown",
   "metadata": {},
   "source": [
    "![FCC](./AAPL_YahooFCC.png)"
   ]
  },
  {
   "cell_type": "code",
   "execution_count": 24,
   "metadata": {},
   "outputs": [],
   "source": [
    "# As of 4/19/2021\n",
    "FCC = 80219000*10**3"
   ]
  },
  {
   "cell_type": "markdown",
   "metadata": {},
   "source": [
    "**Get the growth rate from EPS next 5Y from Yahoo**"
   ]
  },
  {
   "cell_type": "markdown",
   "metadata": {},
   "source": [
    "![EPS5Y](./AAPL_EPS5Y.png)"
   ]
  },
  {
   "cell_type": "code",
   "execution_count": 25,
   "metadata": {},
   "outputs": [],
   "source": [
    "EPS5Y = 0.1469"
   ]
  },
  {
   "cell_type": "code",
   "execution_count": 26,
   "metadata": {},
   "outputs": [],
   "source": [
    "EPS6To10Y = EPS5Y/2\n",
    "EPS10To20Y = 0.04"
   ]
  },
  {
   "cell_type": "markdown",
   "metadata": {},
   "source": []
  },
  {
   "cell_type": "markdown",
   "metadata": {},
   "source": [
    "**Get Cash from Yahoo**"
   ]
  },
  {
   "cell_type": "markdown",
   "metadata": {},
   "source": [
    "![Cash](./AAPL_Cash.png)"
   ]
  },
  {
   "cell_type": "code",
   "execution_count": 27,
   "metadata": {},
   "outputs": [],
   "source": [
    "current_cash = 90943000*10**3"
   ]
  },
  {
   "cell_type": "markdown",
   "metadata": {},
   "source": [
    "**Get the Total debt from Yahoo**"
   ]
  },
  {
   "cell_type": "markdown",
   "metadata": {},
   "source": [
    "![TotalDebt](./AAPL_TotalDebt.png)"
   ]
  },
  {
   "cell_type": "code",
   "execution_count": 28,
   "metadata": {},
   "outputs": [],
   "source": [
    "total_debt = 112436000*10**3"
   ]
  },
  {
   "cell_type": "markdown",
   "metadata": {},
   "source": [
    "**Get AAPL Shares Outstanding from FinViz**"
   ]
  },
  {
   "cell_type": "markdown",
   "metadata": {},
   "source": [
    "![Shares](./AAPL_shares.png)"
   ]
  },
  {
   "cell_type": "code",
   "execution_count": 29,
   "metadata": {},
   "outputs": [],
   "source": [
    "shares = 16.94 * 10**9"
   ]
  },
  {
   "cell_type": "code",
   "execution_count": 30,
   "metadata": {},
   "outputs": [
    {
     "data": {
      "text/plain": [
       "16940000000.000002"
      ]
     },
     "execution_count": 30,
     "metadata": {},
     "output_type": "execute_result"
    }
   ],
   "source": [
    "shares"
   ]
  },
  {
   "cell_type": "markdown",
   "metadata": {},
   "source": [
    "**Get Beta From FinViz**"
   ]
  },
  {
   "cell_type": "markdown",
   "metadata": {},
   "source": [
    "![beta](./AAPL_beta.png)"
   ]
  },
  {
   "cell_type": "code",
   "execution_count": 31,
   "metadata": {},
   "outputs": [],
   "source": [
    "beta = 1.21"
   ]
  },
  {
   "cell_type": "code",
   "execution_count": 32,
   "metadata": {},
   "outputs": [],
   "source": [
    "WACC = 0.075"
   ]
  },
  {
   "cell_type": "markdown",
   "metadata": {},
   "source": [
    "**To Summarize, now we have**"
   ]
  },
  {
   "cell_type": "code",
   "execution_count": 33,
   "metadata": {},
   "outputs": [
    {
     "name": "stdout",
     "output_type": "stream",
     "text": [
      "80219000000\n",
      "90943000000\n",
      "0.1469\n",
      "0.07345\n",
      "0.04\n",
      "112436000000\n",
      "16940000000.000002\n",
      "1.21\n",
      "0.075\n"
     ]
    }
   ],
   "source": [
    "##\n",
    "print(FCC)\n",
    "print(current_cash)\n",
    "print(EPS5Y)\n",
    "print(EPS6To10Y)\n",
    "print(EPS10To20Y)\n",
    "print(total_debt)\n",
    "print(shares)\n",
    "print(beta)\n",
    "print(WACC)"
   ]
  },
  {
   "cell_type": "code",
   "execution_count": 34,
   "metadata": {},
   "outputs": [],
   "source": [
    "DF = 1/(1+ WACC)\n",
    "DCF = 0\n",
    "for i in range(1, 6):\n",
    "    DCF += FCC * (1+ EPS5Y)**i * DF ** i\n",
    "    \n",
    "CF5 = FCC * (1+EPS5Y)**5\n",
    "for i in range(1, 6):\n",
    "    DCF += CF5 * (1+EPS6To10Y)**i * DF ** (i+5)\n",
    "    \n",
    "CF10 = CF5 * (1+EPS6To10Y)**5\n",
    "for i in range(1, 11):\n",
    "    DCF += CF10 * (1+EPS10To20Y)**i * DF **(i + 10)\n",
    "\n",
    "PV = current_cash - total_debt + DCF\n",
    "fair_price = PV/shares"
   ]
  },
  {
   "cell_type": "code",
   "execution_count": 35,
   "metadata": {},
   "outputs": [
    {
     "name": "stdout",
     "output_type": "stream",
     "text": [
      "114.60610506964774\n"
     ]
    }
   ],
   "source": [
    "print(fair_price)"
   ]
  },
  {
   "cell_type": "code",
   "execution_count": 36,
   "metadata": {},
   "outputs": [
    {
     "name": "stdout",
     "output_type": "stream",
     "text": [
      "114.60610506964774\n"
     ]
    }
   ],
   "source": [
    "print(fair_price) "
   ]
  },
  {
   "cell_type": "markdown",
   "metadata": {},
   "source": [
    "**As of 4/19/2021  AAPL spot price is 134 vs DCF price of 114**"
   ]
  },
  {
   "cell_type": "code",
   "execution_count": 37,
   "metadata": {},
   "outputs": [
    {
     "name": "stdout",
     "output_type": "stream",
     "text": [
      "1.1754385964912282\n"
     ]
    }
   ],
   "source": [
    "print(134/114)"
   ]
  }
 ],
 "metadata": {
  "kernelspec": {
   "display_name": "base",
   "language": "python",
   "name": "python3"
  },
  "language_info": {
   "codemirror_mode": {
    "name": "ipython",
    "version": 3
   },
   "file_extension": ".py",
   "mimetype": "text/x-python",
   "name": "python",
   "nbconvert_exporter": "python",
   "pygments_lexer": "ipython3",
   "version": "3.10.13"
  }
 },
 "nbformat": 4,
 "nbformat_minor": 4
}
